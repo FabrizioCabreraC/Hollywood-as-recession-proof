{
  "nbformat": 4,
  "nbformat_minor": 0,
  "metadata": {
    "colab": {
      "name": "Hollywood Project.ipynb",
      "provenance": [],
      "collapsed_sections": [],
      "include_colab_link": true
    },
    "kernelspec": {
      "name": "python3",
      "display_name": "Python 3"
    },
    "language_info": {
      "name": "python"
    }
  },
  "cells": [
    {
      "cell_type": "markdown",
      "metadata": {
        "id": "view-in-github",
        "colab_type": "text"
      },
      "source": [
        "<a href=\"https://colab.research.google.com/github/FabrizioCabreraC/Hollywood-as-recession-proof/blob/main/Hollywood_Project.ipynb\" target=\"_parent\"><img src=\"https://colab.research.google.com/assets/colab-badge.svg\" alt=\"Open In Colab\"/></a>"
      ]
    },
    {
      "cell_type": "code",
      "metadata": {
        "id": "072c9c9f-35ea-4646-a90a-05c140538c31",
        "colab": {
          "base_uri": "https://localhost:8080/"
        },
        "outputId": "6b6bab58-1411-4ba1-dd5b-fc785f4ad2fc"
      },
      "source": [
        "import numpy as np\n",
        "import pandas as pd\n",
        "import matplotlib.pyplot as plt\n",
        "from datetime import datetime\n",
        "#%pip install cpi\n",
        "%matplotlib inline\n",
        "#%pip install scrapy\n",
        "#import scrapy\n",
        "import requests\n",
        "%pip install fredapi\n",
        "from fredapi import Fred #package for pulling from FRED API"
      ],
      "execution_count": 2,
      "outputs": [
        {
          "output_type": "stream",
          "name": "stdout",
          "text": [
            "Collecting fredapi\n",
            "  Downloading fredapi-0.4.3-py3-none-any.whl (11 kB)\n",
            "Requirement already satisfied: pandas in /usr/local/lib/python3.7/dist-packages (from fredapi) (1.1.5)\n",
            "Requirement already satisfied: numpy>=1.15.4 in /usr/local/lib/python3.7/dist-packages (from pandas->fredapi) (1.19.5)\n",
            "Requirement already satisfied: python-dateutil>=2.7.3 in /usr/local/lib/python3.7/dist-packages (from pandas->fredapi) (2.8.2)\n",
            "Requirement already satisfied: pytz>=2017.2 in /usr/local/lib/python3.7/dist-packages (from pandas->fredapi) (2018.9)\n",
            "Requirement already satisfied: six>=1.5 in /usr/local/lib/python3.7/dist-packages (from python-dateutil>=2.7.3->pandas->fredapi) (1.15.0)\n",
            "Installing collected packages: fredapi\n",
            "Successfully installed fredapi-0.4.3\n"
          ]
        }
      ]
    },
    {
      "cell_type": "markdown",
      "metadata": {
        "id": "8hrxC5VfgJxB"
      },
      "source": [
        "To try and answer the question of how recession proof the film in industry is we collected data from three different sources. \n",
        "\n",
        "Economic data was from the Federal Reserve Economic Database through the use of the FRED API. More specifically the fredapi package was used with a custom built funtion to pull individal series. This data includes, (but may not be linited to in the final draft) real GDP, CPI, Unemployment Rate, Consumer Confidence, real GDP per capita, and the Fed Funds Rate. The time series collected for these indicator varies, but was restructed to either show monthy (if available), or quarterly data. As of this moment all the variables were merged to start in 1990, as this is when gas price was first measured, but the data many be concatinated to allow a deeper range of years for the variables that have more data. \n",
        "\n",
        "Box office data was pulled from the monthly domestic box office tables on the website BoxOffice Mojo through read.html. This data was also modfied to show quarelty sums of total box office revneue and total films released. The quartely data was then merged into the data_qrt dataframe with the economic indicators.\n",
        "\n",
        "In order to obtain the average review ratings of movies released each year further film data was taken from links to the IMDB database.  More specifcially the title.basics.tsv.gz and the title.ratings.tsv.gz tables from the IMDB data sets. These two data sets have been merged together to provide the yearly average review scores for all movies released. It has not yet been merged into the data.qrt table as it can only be measured buy the year, and we are now unsure if it will need to be used in the final project. \n",
        "\n",
        "Visualizations to be displayed will include charts showing the relationship between certain macroeconomic indicators and the supply and demand of the film industry since the 1980s. For instance, the charts will display a time series analysis that shows the state of the economy during those years. Thus, it will be observable how well the box office did during the recessions. Then, we would evaluate what happened in the cinema entertainment with respect to each variable: GDP, CPI, Unemployment Rate, Consumer Confidence, GDP per capita, the Fed Funds Rate. The charts will not only show the box office performance, but they will also display the market share movements related to the film industry during the pertinent period. In such a way, it will be seen whether Hollywood was affected by recessions and/or other non-economic factors, and by how much."
      ]
    },
    {
      "cell_type": "markdown",
      "metadata": {
        "id": "FRgdqF_EeDNe"
      },
      "source": [
        "Section 1: Pulls desired economic data series from FRED API"
      ]
    },
    {
      "cell_type": "code",
      "metadata": {
        "id": "518db6c8-7fe7-44a6-9e23-5655978ab5c7"
      },
      "source": [
        "fred = Fred(api_key = \"ef5451a7d8f6d761a7f3fb042aebd7da\") \n",
        "# my API Key, careful with it I guess.\n",
        "# this is a fucntion the uses fredapi packages to easily retrive series"
      ],
      "execution_count": 3,
      "outputs": []
    },
    {
      "cell_type": "code",
      "metadata": {
        "id": "9g9mGQGfpQq1"
      },
      "source": [
        "def get_fred (series_code: str):\n",
        "    '''\n",
        "    Pulls data from FRED API in the form of a series and returns cleaned \n",
        "    data set\n",
        "    \n",
        "    parameter\n",
        "    --------\n",
        "    sereies_code: Code for specific data sereis complied on FRED website \n",
        "    \n",
        "    returns:\n",
        "    --------\n",
        "    dataframe: a dataframe of the FRED metric according to the data series\n",
        "    given to the function\n",
        "    '''\n",
        "    fred = Fred(api_key = \"ef5451a7d8f6d761a7f3fb042aebd7da\")\n",
        "    \n",
        "    data = fred.get_series(f\"{series_code}\")\n",
        "    dataframe = pd.DataFrame(data)\n",
        "    data_rn = {0 : f\"{series_code}\"}\n",
        "    cleaned = dataframe.rename(data_rn, axis=1)\n",
        "    cleaned = cleaned.reset_index()\n",
        "    a = {\"index\": \"Date\"}\n",
        "    cleaned = cleaned.rename(a, axis = 1)\n",
        "    cleaned[\"Date\"] = pd.to_datetime(cleaned[\"Date\"])\n",
        "    return cleaned"
      ],
      "execution_count": 4,
      "outputs": []
    },
    {
      "cell_type": "markdown",
      "metadata": {
        "id": "p7qY5j23e9Ja"
      },
      "source": [
        "Below use the get_fred fucntion to obatin the desiresed series that will be cleaned and put into a data set."
      ]
    },
    {
      "cell_type": "code",
      "metadata": {
        "id": "3c086fc7-98ac-4da4-b87c-5780cb9a6e8a"
      },
      "source": [
        "unemp = get_fred(\"UNRATE\") # unemplyment rate, by month\n",
        "#unemp\n",
        "GDP = get_fred(\"GDPC1\") #nominal, by quater, real gdp\n",
        "#GDP\n",
        "consumer_sent = get_fred(\"UMCSENT\") # U Mich consumer sentiment, by month\n",
        "#consumer_sent\n",
        "debt_income = get_fred(\"TDSP\") #total debt service to income ratio, by quater\n",
        "#debt_income\n",
        "gdp_capita = get_fred(\"A939RX0Q048SBEA\") #real ratio, by quater \n",
        "#gdp_capita\n",
        "gas_prices = get_fred(\"GASREGCOVW\") #national gas price average, by week\n",
        "#gas_prices\n",
        "inflation = get_fred(\"FPCPITOTLZGUSA\") #inflation rate, by year\n",
        "#inflation\n",
        "PCE = get_fred(\"DPCERD3Q086SBEA\") #PCE with index set to 2012, quarterly\n",
        "#PCE"
      ],
      "execution_count": 5,
      "outputs": []
    },
    {
      "cell_type": "markdown",
      "metadata": {
        "id": "fmNtL4XLfK11"
      },
      "source": [
        "Renaming the series to be more legible and useable."
      ]
    },
    {
      "cell_type": "code",
      "metadata": {
        "id": "WrhBGrKhnSRu"
      },
      "source": [
        "j = {\"GDPC1\" : \"GDP\"}\n",
        "GDP = GDP.rename(j, axis=1)\n",
        "#GDP"
      ],
      "execution_count": 6,
      "outputs": []
    },
    {
      "cell_type": "code",
      "metadata": {
        "id": "HRr4vH6eoHMF"
      },
      "source": [
        "p = {\"DPCERD3Q086SBEA\": \"PCE\"}\n",
        "PCE = PCE.rename(p, axis =1 )\n",
        "#PCE"
      ],
      "execution_count": 7,
      "outputs": []
    },
    {
      "cell_type": "code",
      "metadata": {
        "id": "a2acbbb3-acd3-41f9-bd16-e33d73e5a6db"
      },
      "source": [
        "i = {\"FPCPITOTLZGUSA\" : \"inflat_index\"}\n",
        "inflation = inflation.rename(i, axis=1)\n",
        "#inflation"
      ],
      "execution_count": 8,
      "outputs": []
    },
    {
      "cell_type": "code",
      "metadata": {
        "id": "5a8eed38-1b73-49f9-a7be-0459ba913ccb"
      },
      "source": [
        "gas = {\"GASREGCOVW\" : \"gas_price\"}\n",
        "gas_prices = gas_prices.rename(gas, axis=1)\n",
        "gas_prices = (gas_prices.set_index(\"Date\").\n",
        "              resample(\"MS\").mean().\n",
        "              reset_index())\n",
        "#gas_prices"
      ],
      "execution_count": 9,
      "outputs": []
    },
    {
      "cell_type": "code",
      "metadata": {
        "id": "bf23e364-2d07-46e9-b5f4-d17f6e3f4557"
      },
      "source": [
        "jeff = {\"A939RX0Q048SBEA\" : \"gdp_per_capita\"}\n",
        "gdp_capita = gdp_capita.rename(jeff, axis=1)\n",
        "#GDP_per_capita"
      ],
      "execution_count": 10,
      "outputs": []
    },
    {
      "cell_type": "code",
      "metadata": {
        "id": "36083e25-f339-42c1-aed3-87801d85b5d5"
      },
      "source": [
        "debt_pct_income = {\"TDSP\" : \"debt_pct_income\"}\n",
        "debt_income = debt_income.rename(debt_pct_income, axis=1)\n",
        "#Debt_Payment"
      ],
      "execution_count": 11,
      "outputs": []
    },
    {
      "cell_type": "code",
      "metadata": {
        "id": "f33604ae-56a1-4fc8-9b91-fcc9b87199a9"
      },
      "source": [
        "Consum_Sent = {\"UMCSENT\" : \"consum_sent\"}\n",
        "consumer_sent = consumer_sent.rename(Consum_Sent, axis=1)\n",
        "#consumer_sent"
      ],
      "execution_count": 12,
      "outputs": []
    },
    {
      "cell_type": "code",
      "metadata": {
        "id": "5dea247e-6d2c-4941-8f60-e2874b8daf7d",
        "colab": {
          "base_uri": "https://localhost:8080/",
          "height": 282
        },
        "outputId": "b8f7747a-a552-404d-e798-e3e03ebe7be7"
      },
      "source": [
        "plt.plot(consumer_sent.Date, consumer_sent.consum_sent)"
      ],
      "execution_count": 13,
      "outputs": [
        {
          "output_type": "execute_result",
          "data": {
            "text/plain": [
              "[<matplotlib.lines.Line2D at 0x7f9eb60e7f90>]"
            ]
          },
          "metadata": {},
          "execution_count": 13
        },
        {
          "output_type": "display_data",
          "data": {
            "image/png": "[encoded data removed]",
            "text/plain": [
              "<Figure size 432x288 with 1 Axes>"
            ]
          },
          "metadata": {
            "needs_background": "light"
          }
        }
      ]
    },
    {
      "cell_type": "code",
      "metadata": {
        "id": "aa389f1c-31b9-4e90-9f2a-08d2cfc98366"
      },
      "source": [
        "data_month = gas_prices.merge(\n",
        "    unemp.merge(\n",
        "    consumer_sent, on=\"Date\", how=\"outer\"))\n",
        "#data_month.head(10)"
      ],
      "execution_count": 14,
      "outputs": []
    },
    {
      "cell_type": "code",
      "metadata": {
        "id": "904031a2-7aa1-4bb7-bc5b-31aa5108e7d1"
      },
      "source": [
        "# Pulling in Data From Box Office Mojo"
      ],
      "execution_count": 15,
      "outputs": []
    },
    {
      "cell_type": "code",
      "metadata": {
        "id": "2cea29eb-b34c-4d66-b32c-ce07cb83188f"
      },
      "source": [
        "data_qrt = data_month.set_index(\"Date\").resample(\"QS\").mean().reset_index()\n",
        "#data_qrt.head(10)"
      ],
      "execution_count": 16,
      "outputs": []
    },
    {
      "cell_type": "code",
      "metadata": {
        "id": "GK5WOyh83rpP"
      },
      "source": [
        "data_qrt = data_qrt.merge(\n",
        "    GDP.merge(\n",
        "    gdp_capita.merge(\n",
        "    PCE.merge(\n",
        "    debt_income, on=\"Date\", how = \"outer\"))))\n",
        "#data_qrt.head(10)\n"
      ],
      "execution_count": 17,
      "outputs": []
    },
    {
      "cell_type": "code",
      "metadata": {
        "id": "c02fd533-2b1e-42f6-9349-8f07d4c532bc"
      },
      "source": [
        "def get_table(url):\n",
        "    '''\n",
        "    Function gets the datatable requesuted from the boxoffice mojo\n",
        "    url and outputs to a dataframe\n",
        "    '''\n",
        "    response = requests.get(url).content\n",
        "    table = pd.read_html(response)\n",
        "    table_df = pd.DataFrame(table[-1])\n",
        "    return table_df"
      ],
      "execution_count": 18,
      "outputs": []
    },
    {
      "cell_type": "code",
      "metadata": {
        "id": "d8a1b0ff-7c27-4d71-bc36-ac5a1036a30d"
      },
      "source": [
        "url = \"https://www.boxofficemojo.com/year/?ref_=bo_nb_ml_secondarytab\"\n",
        "box_year = get_table(url)\n",
        "#box_year"
      ],
      "execution_count": 19,
      "outputs": []
    },
    {
      "cell_type": "code",
      "metadata": {
        "id": "d8c2ea01-b503-4517-8b4d-d929b2a718d5"
      },
      "source": [
        "box_jan = get_table(\"https://www.boxofficemojo.com/month/january/?grossesOption=calendarGrosses\")\n",
        "box_feb = get_table(\"https://www.boxofficemojo.com/month/february/?grossesOption=calendarGrosses\")\n",
        "box_mar = get_table(\"https://www.boxofficemojo.com/month/march/?grossesOption=calendarGrosses\")\n",
        "box_apr = get_table(\"https://www.boxofficemojo.com/month/april/?grossesOption=calendarGrosses\")\n",
        "box_may = get_table(\"https://www.boxofficemojo.com/month/may/?grossesOption=calendarGrosses\")\n",
        "box_jun = get_table(\"https://www.boxofficemojo.com/month/june/?grossesOption=calendarGrosses\")\n",
        "box_jul = get_table(\"https://www.boxofficemojo.com/month/july/?grossesOption=calendarGrosses\")\n",
        "box_aug = get_table(\"https://www.boxofficemojo.com/month/august/?grossesOption=calendarGrosses\")\n",
        "box_sep = get_table(\"https://www.boxofficemojo.com/month/september/?grossesOption=calendarGrosses\")\n",
        "box_oct = get_table(\"https://www.boxofficemojo.com/month/october/?grossesOption=calendarGrosses\")\n",
        "box_nov = get_table(\"https://www.boxofficemojo.com/month/november/?grossesOption=calendarGrosses\")\n",
        "box_dec = get_table(\"https://www.boxofficemojo.com/month/december/?grossesOption=calendarGrosses\")"
      ],
      "execution_count": 20,
      "outputs": []
    },
    {
      "cell_type": "code",
      "metadata": {
        "id": "0dfebb7c-9126-4467-8a00-6d0fbe5ff28a"
      },
      "source": [
        "#box_feb"
      ],
      "execution_count": 21,
      "outputs": []
    },
    {
      "cell_type": "code",
      "metadata": {
        "id": "c8834495-0198-4743-abb2-c5af55981636"
      },
      "source": [
        "def reduce_table(df, month: int):\n",
        "    jeff = df.drop(['%± LY', '#1 Release', 'Gross','% of Total',\n",
        "                    'Genre', 'Budget', 'Running Time'], axis=1)\n",
        "    jeff[\"month\"] = month\n",
        "    jeff[\"Date\"]= pd.to_datetime(jeff[['Year', 'month']].assign(DAY=1))\n",
        "    return jeff"
      ],
      "execution_count": 22,
      "outputs": []
    },
    {
      "cell_type": "code",
      "metadata": {
        "id": "19ccfed9-9a75-4f0b-be47-9df63bbeb8e8"
      },
      "source": [
        "box_jan = reduce_table(box_jan,1)\n",
        "box_feb = reduce_table(box_feb,2)\n",
        "box_mar = reduce_table(box_mar,3)\n",
        "box_apr = reduce_table(box_apr,4)\n",
        "box_may = reduce_table(box_may,5)\n",
        "box_jun = reduce_table(box_jun,6)\n",
        "box_jul = reduce_table(box_jul,7)\n",
        "box_aug = reduce_table(box_aug,8)\n",
        "box_sep = reduce_table(box_sep,9)\n",
        "box_oct = reduce_table(box_oct,10)\n",
        "box_nov = reduce_table(box_nov,11)\n",
        "box_dec = reduce_table(box_dec,12)"
      ],
      "execution_count": 23,
      "outputs": []
    },
    {
      "cell_type": "code",
      "metadata": {
        "id": "dd9bd182-1ea6-4018-bfc7-a1657ebb9307",
        "colab": {
          "base_uri": "https://localhost:8080/",
          "height": 235
        },
        "outputId": "88e75034-e8b9-4b81-c4a3-1adcb07a13aa"
      },
      "source": [
        "box_office = (pd.concat([box_jan,box_feb,box_mar,box_apr,box_may,box_jun,\n",
        "                        box_jul,box_aug,box_sep, box_oct, box_nov, box_dec],\n",
        "                       axis = 0)\n",
        "              .sort_values(by=[\"Date\"])\n",
        "              .set_index(\"Date\")\n",
        "              .drop([\"Year\",'month'], axis=1))\n",
        "box_office[\"gross\"] = (box_office[\"Cumulative Gross\"]\n",
        "                                  .str.replace(\"$\", \"\")\n",
        "                                  .str.replace(\",\", \"\")\n",
        "                                  .astype(int))\n",
        "\n",
        "box_office_month = box_office.copy()\n",
        "box_office_month.head()"
      ],
      "execution_count": 24,
      "outputs": [
        {
          "output_type": "execute_result",
          "data": {
            "text/html": [
              "<div>\n",
              "<style scoped>\n",
              "    .dataframe tbody tr th:only-of-type {\n",
              "        vertical-align: middle;\n",
              "    }\n",
              "\n",
              "    .dataframe tbody tr th {\n",
              "        vertical-align: top;\n",
              "    }\n",
              "\n",
              "    .dataframe thead th {\n",
              "        text-align: right;\n",
              "    }\n",
              "</style>\n",
              "<table border=\"1\" class=\"dataframe\">\n",
              "  <thead>\n",
              "    <tr style=\"text-align: right;\">\n",
              "      <th></th>\n",
              "      <th>Cumulative Gross</th>\n",
              "      <th>Releases</th>\n",
              "      <th>Average</th>\n",
              "      <th>gross</th>\n",
              "    </tr>\n",
              "    <tr>\n",
              "      <th>Date</th>\n",
              "      <th></th>\n",
              "      <th></th>\n",
              "      <th></th>\n",
              "      <th></th>\n",
              "    </tr>\n",
              "  </thead>\n",
              "  <tbody>\n",
              "    <tr>\n",
              "      <th>1972-03-01</th>\n",
              "      <td>$133,698,921</td>\n",
              "      <td>1</td>\n",
              "      <td>$133,698,921</td>\n",
              "      <td>133698921</td>\n",
              "    </tr>\n",
              "    <tr>\n",
              "      <th>1972-12-01</th>\n",
              "      <td>$84,563,118</td>\n",
              "      <td>1</td>\n",
              "      <td>$84,563,118</td>\n",
              "      <td>84563118</td>\n",
              "    </tr>\n",
              "    <tr>\n",
              "      <th>1975-06-01</th>\n",
              "      <td>$23,565,886</td>\n",
              "      <td>1</td>\n",
              "      <td>$23,565,886</td>\n",
              "      <td>23565886</td>\n",
              "    </tr>\n",
              "    <tr>\n",
              "      <th>1975-07-01</th>\n",
              "      <td>$46,159,490</td>\n",
              "      <td>1</td>\n",
              "      <td>$46,159,490</td>\n",
              "      <td>46159490</td>\n",
              "    </tr>\n",
              "    <tr>\n",
              "      <th>1975-11-01</th>\n",
              "      <td>$190,274,624</td>\n",
              "      <td>1</td>\n",
              "      <td>$190,274,624</td>\n",
              "      <td>190274624</td>\n",
              "    </tr>\n",
              "  </tbody>\n",
              "</table>\n",
              "</div>"
            ],
            "text/plain": [
              "           Cumulative Gross  Releases       Average      gross\n",
              "Date                                                          \n",
              "1972-03-01     $133,698,921         1  $133,698,921  133698921\n",
              "1972-12-01      $84,563,118         1   $84,563,118   84563118\n",
              "1975-06-01      $23,565,886         1   $23,565,886   23565886\n",
              "1975-07-01      $46,159,490         1   $46,159,490   46159490\n",
              "1975-11-01     $190,274,624         1  $190,274,624  190274624"
            ]
          },
          "metadata": {},
          "execution_count": 24
        }
      ]
    },
    {
      "cell_type": "code",
      "metadata": {
        "id": "05b42d9b-6554-4be7-b8e1-b11d4743e92e"
      },
      "source": [
        "box_office_qrt = box_office.resample(\"QS\").sum()\n",
        "box_office_qrt = box_office_qrt.reset_index()"
      ],
      "execution_count": 25,
      "outputs": []
    },
    {
      "cell_type": "code",
      "metadata": {
        "id": "0cdf13b1-e5e1-42d1-9c2f-447bc64fdf58",
        "colab": {
          "base_uri": "https://localhost:8080/",
          "height": 285
        },
        "outputId": "d6e0c238-ccd0-425d-b4b4-22e6e582f3b2"
      },
      "source": [
        "plt.plot(box_office_qrt.Date,box_office_qrt.Releases)"
      ],
      "execution_count": 26,
      "outputs": [
        {
          "output_type": "execute_result",
          "data": {
            "text/plain": [
              "[<matplotlib.lines.Line2D at 0x7f9eb4cf0e50>]"
            ]
          },
          "metadata": {},
          "execution_count": 26
        },
        {
          "output_type": "display_data",
          "data": {
            "image/png": "[encoded data removed]",
            "text/plain": [
              "<Figure size 432x288 with 1 Axes>"
            ]
          },
          "metadata": {
            "needs_background": "light"
          }
        }
      ]
    },
    {
      "cell_type": "code",
      "metadata": {
        "colab": {
          "base_uri": "https://localhost:8080/",
          "height": 204
        },
        "id": "pguILlQCI3-4",
        "outputId": "de418009-1513-4c4c-daab-b0ce27606087"
      },
      "source": [
        "data_qrt = data_qrt.merge(box_office_qrt, on=\"Date\", how=\"outer\")\n",
        "# to account for inflation in the data to 2012 index\n",
        "data_qrt[\"PCE\"] = data_qrt[\"PCE\"] * .01\n",
        "data_qrt[\"gas_price\"] = data_qrt[\"gas_price\"]/data_qrt[\"PCE\"]\n",
        "data_qrt[\"gross\"] = data_qrt[\"gross\"]/data_qrt[\"PCE\"]\n",
        "data_qrt.head()"
      ],
      "execution_count": 27,
      "outputs": [
        {
          "output_type": "execute_result",
          "data": {
            "text/html": [
              "<div>\n",
              "<style scoped>\n",
              "    .dataframe tbody tr th:only-of-type {\n",
              "        vertical-align: middle;\n",
              "    }\n",
              "\n",
              "    .dataframe tbody tr th {\n",
              "        vertical-align: top;\n",
              "    }\n",
              "\n",
              "    .dataframe thead th {\n",
              "        text-align: right;\n",
              "    }\n",
              "</style>\n",
              "<table border=\"1\" class=\"dataframe\">\n",
              "  <thead>\n",
              "    <tr style=\"text-align: right;\">\n",
              "      <th></th>\n",
              "      <th>Date</th>\n",
              "      <th>gas_price</th>\n",
              "      <th>UNRATE</th>\n",
              "      <th>consum_sent</th>\n",
              "      <th>GDP</th>\n",
              "      <th>gdp_per_capita</th>\n",
              "      <th>PCE</th>\n",
              "      <th>debt_pct_income</th>\n",
              "      <th>Releases</th>\n",
              "      <th>gross</th>\n",
              "    </tr>\n",
              "  </thead>\n",
              "  <tbody>\n",
              "    <tr>\n",
              "      <th>0</th>\n",
              "      <td>1990-01-01</td>\n",
              "      <td>NaN</td>\n",
              "      <td>5.300000</td>\n",
              "      <td>91.266667</td>\n",
              "      <td>9364.259</td>\n",
              "      <td>37617.0</td>\n",
              "      <td>0.62198</td>\n",
              "      <td>11.649150</td>\n",
              "      <td>110</td>\n",
              "      <td>1.479302e+09</td>\n",
              "    </tr>\n",
              "    <tr>\n",
              "      <th>1</th>\n",
              "      <td>1990-04-01</td>\n",
              "      <td>NaN</td>\n",
              "      <td>5.333333</td>\n",
              "      <td>90.933333</td>\n",
              "      <td>9398.243</td>\n",
              "      <td>37636.0</td>\n",
              "      <td>0.62764</td>\n",
              "      <td>11.600660</td>\n",
              "      <td>103</td>\n",
              "      <td>1.709974e+09</td>\n",
              "    </tr>\n",
              "    <tr>\n",
              "      <th>2</th>\n",
              "      <td>1990-07-01</td>\n",
              "      <td>1.947705</td>\n",
              "      <td>5.700000</td>\n",
              "      <td>79.133333</td>\n",
              "      <td>9404.494</td>\n",
              "      <td>37529.0</td>\n",
              "      <td>0.63562</td>\n",
              "      <td>11.583131</td>\n",
              "      <td>102</td>\n",
              "      <td>2.047944e+09</td>\n",
              "    </tr>\n",
              "    <tr>\n",
              "      <th>3</th>\n",
              "      <td>1990-10-01</td>\n",
              "      <td>2.070536</td>\n",
              "      <td>6.133333</td>\n",
              "      <td>65.133333</td>\n",
              "      <td>9318.876</td>\n",
              "      <td>37056.0</td>\n",
              "      <td>0.64402</td>\n",
              "      <td>11.604449</td>\n",
              "      <td>116</td>\n",
              "      <td>1.602071e+09</td>\n",
              "    </tr>\n",
              "    <tr>\n",
              "      <th>4</th>\n",
              "      <td>1991-01-01</td>\n",
              "      <td>1.706441</td>\n",
              "      <td>6.600000</td>\n",
              "      <td>74.966667</td>\n",
              "      <td>9275.276</td>\n",
              "      <td>36769.0</td>\n",
              "      <td>0.64740</td>\n",
              "      <td>11.578032</td>\n",
              "      <td>118</td>\n",
              "      <td>1.806037e+09</td>\n",
              "    </tr>\n",
              "  </tbody>\n",
              "</table>\n",
              "</div>"
            ],
            "text/plain": [
              "        Date  gas_price    UNRATE  ...  debt_pct_income  Releases         gross\n",
              "0 1990-01-01        NaN  5.300000  ...        11.649150       110  1.479302e+09\n",
              "1 1990-04-01        NaN  5.333333  ...        11.600660       103  1.709974e+09\n",
              "2 1990-07-01   1.947705  5.700000  ...        11.583131       102  2.047944e+09\n",
              "3 1990-10-01   2.070536  6.133333  ...        11.604449       116  1.602071e+09\n",
              "4 1991-01-01   1.706441  6.600000  ...        11.578032       118  1.806037e+09\n",
              "\n",
              "[5 rows x 10 columns]"
            ]
          },
          "metadata": {},
          "execution_count": 27
        }
      ]
    },
    {
      "cell_type": "code",
      "metadata": {
        "id": "19157f00-b54b-4970-af0b-5b8d992b1b3c"
      },
      "source": [
        "# original data cleaning"
      ],
      "execution_count": 28,
      "outputs": []
    },
    {
      "cell_type": "code",
      "metadata": {
        "id": "64e0e7d9-fd5c-4624-9f9c-10f24e94c0ad",
        "colab": {
          "base_uri": "https://localhost:8080/"
        },
        "outputId": "2f8fdf1c-a509-4bf9-dd01-8109cb0b5312"
      },
      "source": [
        "url = \"https://datasets.imdbws.com/title.basics.tsv.gz\"\n",
        "df = pd.read_csv(url, sep='\\t')"
      ],
      "execution_count": 29,
      "outputs": [
        {
          "output_type": "stream",
          "name": "stderr",
          "text": [
            "/usr/local/lib/python3.7/dist-packages/IPython/core/interactiveshell.py:2718: DtypeWarning: Columns (4,5) have mixed types.Specify dtype option on import or set low_memory=False.\n",
            "  interactivity=interactivity, compiler=compiler, result=result)\n"
          ]
        }
      ]
    },
    {
      "cell_type": "code",
      "metadata": {
        "tags": [],
        "id": "a4629a72-f161-4c3d-a7e7-58cad1118169"
      },
      "source": [
        "url_1 = \"https://datasets.imdbws.com/title.ratings.tsv.gz\"\n",
        "df_ratings = pd.read_csv(\"https://datasets.imdbws.com/title.ratings.tsv.gz\", sep= '\\t')"
      ],
      "execution_count": 30,
      "outputs": []
    },
    {
      "cell_type": "code",
      "metadata": {
        "id": "a9e76057-ab4d-4720-9b1a-f0ddbd02b637",
        "colab": {
          "base_uri": "https://localhost:8080/",
          "height": 204
        },
        "outputId": "9e31155c-452b-419f-9c87-fa845640cc83"
      },
      "source": [
        "df.head()"
      ],
      "execution_count": 31,
      "outputs": [
        {
          "output_type": "execute_result",
          "data": {
            "text/html": [
              "<div>\n",
              "<style scoped>\n",
              "    .dataframe tbody tr th:only-of-type {\n",
              "        vertical-align: middle;\n",
              "    }\n",
              "\n",
              "    .dataframe tbody tr th {\n",
              "        vertical-align: top;\n",
              "    }\n",
              "\n",
              "    .dataframe thead th {\n",
              "        text-align: right;\n",
              "    }\n",
              "</style>\n",
              "<table border=\"1\" class=\"dataframe\">\n",
              "  <thead>\n",
              "    <tr style=\"text-align: right;\">\n",
              "      <th></th>\n",
              "      <th>tconst</th>\n",
              "      <th>titleType</th>\n",
              "      <th>primaryTitle</th>\n",
              "      <th>originalTitle</th>\n",
              "      <th>isAdult</th>\n",
              "      <th>startYear</th>\n",
              "      <th>endYear</th>\n",
              "      <th>runtimeMinutes</th>\n",
              "      <th>genres</th>\n",
              "    </tr>\n",
              "  </thead>\n",
              "  <tbody>\n",
              "    <tr>\n",
              "      <th>0</th>\n",
              "      <td>tt0000001</td>\n",
              "      <td>short</td>\n",
              "      <td>Carmencita</td>\n",
              "      <td>Carmencita</td>\n",
              "      <td>0</td>\n",
              "      <td>1894</td>\n",
              "      <td>\\N</td>\n",
              "      <td>1</td>\n",
              "      <td>Documentary,Short</td>\n",
              "    </tr>\n",
              "    <tr>\n",
              "      <th>1</th>\n",
              "      <td>tt0000002</td>\n",
              "      <td>short</td>\n",
              "      <td>Le clown et ses chiens</td>\n",
              "      <td>Le clown et ses chiens</td>\n",
              "      <td>0</td>\n",
              "      <td>1892</td>\n",
              "      <td>\\N</td>\n",
              "      <td>5</td>\n",
              "      <td>Animation,Short</td>\n",
              "    </tr>\n",
              "    <tr>\n",
              "      <th>2</th>\n",
              "      <td>tt0000003</td>\n",
              "      <td>short</td>\n",
              "      <td>Pauvre Pierrot</td>\n",
              "      <td>Pauvre Pierrot</td>\n",
              "      <td>0</td>\n",
              "      <td>1892</td>\n",
              "      <td>\\N</td>\n",
              "      <td>4</td>\n",
              "      <td>Animation,Comedy,Romance</td>\n",
              "    </tr>\n",
              "    <tr>\n",
              "      <th>3</th>\n",
              "      <td>tt0000004</td>\n",
              "      <td>short</td>\n",
              "      <td>Un bon bock</td>\n",
              "      <td>Un bon bock</td>\n",
              "      <td>0</td>\n",
              "      <td>1892</td>\n",
              "      <td>\\N</td>\n",
              "      <td>12</td>\n",
              "      <td>Animation,Short</td>\n",
              "    </tr>\n",
              "    <tr>\n",
              "      <th>4</th>\n",
              "      <td>tt0000005</td>\n",
              "      <td>short</td>\n",
              "      <td>Blacksmith Scene</td>\n",
              "      <td>Blacksmith Scene</td>\n",
              "      <td>0</td>\n",
              "      <td>1893</td>\n",
              "      <td>\\N</td>\n",
              "      <td>1</td>\n",
              "      <td>Comedy,Short</td>\n",
              "    </tr>\n",
              "  </tbody>\n",
              "</table>\n",
              "</div>"
            ],
            "text/plain": [
              "      tconst titleType  ... runtimeMinutes                    genres\n",
              "0  tt0000001     short  ...              1         Documentary,Short\n",
              "1  tt0000002     short  ...              5           Animation,Short\n",
              "2  tt0000003     short  ...              4  Animation,Comedy,Romance\n",
              "3  tt0000004     short  ...             12           Animation,Short\n",
              "4  tt0000005     short  ...              1              Comedy,Short\n",
              "\n",
              "[5 rows x 9 columns]"
            ]
          },
          "metadata": {},
          "execution_count": 31
        }
      ]
    },
    {
      "cell_type": "code",
      "metadata": {
        "id": "b74cf4f9-cffb-40b9-a024-e58f6ea8aa56",
        "colab": {
          "base_uri": "https://localhost:8080/"
        },
        "outputId": "142a2322-7643-4675-b0e6-f43bd00e24e5"
      },
      "source": [
        "df=pd.DataFrame(df)\n",
        "print(df[\"titleType\"].unique())\n",
        "df = df.query(\"titleType == 'movie' & isAdult == 0\")"
      ],
      "execution_count": 32,
      "outputs": [
        {
          "output_type": "stream",
          "name": "stdout",
          "text": [
            "['short' 'movie' 'tvEpisode' 'tvSeries' 'tvShort' 'tvMovie' 'tvMiniSeries'\n",
            " 'tvSpecial' 'video' 'videoGame' 'tvPilot']\n"
          ]
        }
      ]
    },
    {
      "cell_type": "code",
      "metadata": {
        "id": "0JNKtlvTEfKL",
        "colab": {
          "base_uri": "https://localhost:8080/",
          "height": 204
        },
        "outputId": "1d1240c8-96d5-4f1a-cd38-276957c6ba8f"
      },
      "source": [
        "df.head()"
      ],
      "execution_count": 33,
      "outputs": [
        {
          "output_type": "execute_result",
          "data": {
            "text/html": [
              "<div>\n",
              "<style scoped>\n",
              "    .dataframe tbody tr th:only-of-type {\n",
              "        vertical-align: middle;\n",
              "    }\n",
              "\n",
              "    .dataframe tbody tr th {\n",
              "        vertical-align: top;\n",
              "    }\n",
              "\n",
              "    .dataframe thead th {\n",
              "        text-align: right;\n",
              "    }\n",
              "</style>\n",
              "<table border=\"1\" class=\"dataframe\">\n",
              "  <thead>\n",
              "    <tr style=\"text-align: right;\">\n",
              "      <th></th>\n",
              "      <th>tconst</th>\n",
              "      <th>titleType</th>\n",
              "      <th>primaryTitle</th>\n",
              "      <th>originalTitle</th>\n",
              "      <th>isAdult</th>\n",
              "      <th>startYear</th>\n",
              "      <th>endYear</th>\n",
              "      <th>runtimeMinutes</th>\n",
              "      <th>genres</th>\n",
              "    </tr>\n",
              "  </thead>\n",
              "  <tbody>\n",
              "    <tr>\n",
              "      <th>498</th>\n",
              "      <td>tt0000502</td>\n",
              "      <td>movie</td>\n",
              "      <td>Bohemios</td>\n",
              "      <td>Bohemios</td>\n",
              "      <td>0</td>\n",
              "      <td>1905</td>\n",
              "      <td>\\N</td>\n",
              "      <td>100</td>\n",
              "      <td>\\N</td>\n",
              "    </tr>\n",
              "    <tr>\n",
              "      <th>570</th>\n",
              "      <td>tt0000574</td>\n",
              "      <td>movie</td>\n",
              "      <td>The Story of the Kelly Gang</td>\n",
              "      <td>The Story of the Kelly Gang</td>\n",
              "      <td>0</td>\n",
              "      <td>1906</td>\n",
              "      <td>\\N</td>\n",
              "      <td>70</td>\n",
              "      <td>Action,Adventure,Biography</td>\n",
              "    </tr>\n",
              "    <tr>\n",
              "      <th>587</th>\n",
              "      <td>tt0000591</td>\n",
              "      <td>movie</td>\n",
              "      <td>The Prodigal Son</td>\n",
              "      <td>L'enfant prodigue</td>\n",
              "      <td>0</td>\n",
              "      <td>1907</td>\n",
              "      <td>\\N</td>\n",
              "      <td>90</td>\n",
              "      <td>Drama</td>\n",
              "    </tr>\n",
              "    <tr>\n",
              "      <th>610</th>\n",
              "      <td>tt0000615</td>\n",
              "      <td>movie</td>\n",
              "      <td>Robbery Under Arms</td>\n",
              "      <td>Robbery Under Arms</td>\n",
              "      <td>0</td>\n",
              "      <td>1907</td>\n",
              "      <td>\\N</td>\n",
              "      <td>\\N</td>\n",
              "      <td>Drama</td>\n",
              "    </tr>\n",
              "    <tr>\n",
              "      <th>625</th>\n",
              "      <td>tt0000630</td>\n",
              "      <td>movie</td>\n",
              "      <td>Hamlet</td>\n",
              "      <td>Amleto</td>\n",
              "      <td>0</td>\n",
              "      <td>1908</td>\n",
              "      <td>\\N</td>\n",
              "      <td>\\N</td>\n",
              "      <td>Drama</td>\n",
              "    </tr>\n",
              "  </tbody>\n",
              "</table>\n",
              "</div>"
            ],
            "text/plain": [
              "        tconst titleType  ... runtimeMinutes                      genres\n",
              "498  tt0000502     movie  ...            100                          \\N\n",
              "570  tt0000574     movie  ...             70  Action,Adventure,Biography\n",
              "587  tt0000591     movie  ...             90                       Drama\n",
              "610  tt0000615     movie  ...             \\N                       Drama\n",
              "625  tt0000630     movie  ...             \\N                       Drama\n",
              "\n",
              "[5 rows x 9 columns]"
            ]
          },
          "metadata": {},
          "execution_count": 33
        }
      ]
    },
    {
      "cell_type": "code",
      "metadata": {
        "id": "7f5eb1e7-9e0f-4e95-8f07-f94a63c22a54",
        "colab": {
          "base_uri": "https://localhost:8080/",
          "height": 204
        },
        "outputId": "b6749835-3544-4e38-d8df-ea8578ed4940"
      },
      "source": [
        "df_ratings.head()"
      ],
      "execution_count": 34,
      "outputs": [
        {
          "output_type": "execute_result",
          "data": {
            "text/html": [
              "<div>\n",
              "<style scoped>\n",
              "    .dataframe tbody tr th:only-of-type {\n",
              "        vertical-align: middle;\n",
              "    }\n",
              "\n",
              "    .dataframe tbody tr th {\n",
              "        vertical-align: top;\n",
              "    }\n",
              "\n",
              "    .dataframe thead th {\n",
              "        text-align: right;\n",
              "    }\n",
              "</style>\n",
              "<table border=\"1\" class=\"dataframe\">\n",
              "  <thead>\n",
              "    <tr style=\"text-align: right;\">\n",
              "      <th></th>\n",
              "      <th>tconst</th>\n",
              "      <th>averageRating</th>\n",
              "      <th>numVotes</th>\n",
              "    </tr>\n",
              "  </thead>\n",
              "  <tbody>\n",
              "    <tr>\n",
              "      <th>0</th>\n",
              "      <td>tt0000001</td>\n",
              "      <td>5.7</td>\n",
              "      <td>1841</td>\n",
              "    </tr>\n",
              "    <tr>\n",
              "      <th>1</th>\n",
              "      <td>tt0000002</td>\n",
              "      <td>6.0</td>\n",
              "      <td>236</td>\n",
              "    </tr>\n",
              "    <tr>\n",
              "      <th>2</th>\n",
              "      <td>tt0000003</td>\n",
              "      <td>6.5</td>\n",
              "      <td>1603</td>\n",
              "    </tr>\n",
              "    <tr>\n",
              "      <th>3</th>\n",
              "      <td>tt0000004</td>\n",
              "      <td>6.0</td>\n",
              "      <td>153</td>\n",
              "    </tr>\n",
              "    <tr>\n",
              "      <th>4</th>\n",
              "      <td>tt0000005</td>\n",
              "      <td>6.2</td>\n",
              "      <td>2422</td>\n",
              "    </tr>\n",
              "  </tbody>\n",
              "</table>\n",
              "</div>"
            ],
            "text/plain": [
              "      tconst  averageRating  numVotes\n",
              "0  tt0000001            5.7      1841\n",
              "1  tt0000002            6.0       236\n",
              "2  tt0000003            6.5      1603\n",
              "3  tt0000004            6.0       153\n",
              "4  tt0000005            6.2      2422"
            ]
          },
          "metadata": {},
          "execution_count": 34
        }
      ]
    },
    {
      "cell_type": "code",
      "metadata": {
        "id": "666d17b0-03e3-409d-811d-0528b5a9897d",
        "colab": {
          "base_uri": "https://localhost:8080/",
          "height": 204
        },
        "outputId": "456243de-50d9-430a-8c15-a9bbc440d0ed"
      },
      "source": [
        "movies = df[[\"tconst\",\"startYear\",]]\n",
        "movies.head()"
      ],
      "execution_count": 35,
      "outputs": [
        {
          "output_type": "execute_result",
          "data": {
            "text/html": [
              "<div>\n",
              "<style scoped>\n",
              "    .dataframe tbody tr th:only-of-type {\n",
              "        vertical-align: middle;\n",
              "    }\n",
              "\n",
              "    .dataframe tbody tr th {\n",
              "        vertical-align: top;\n",
              "    }\n",
              "\n",
              "    .dataframe thead th {\n",
              "        text-align: right;\n",
              "    }\n",
              "</style>\n",
              "<table border=\"1\" class=\"dataframe\">\n",
              "  <thead>\n",
              "    <tr style=\"text-align: right;\">\n",
              "      <th></th>\n",
              "      <th>tconst</th>\n",
              "      <th>startYear</th>\n",
              "    </tr>\n",
              "  </thead>\n",
              "  <tbody>\n",
              "    <tr>\n",
              "      <th>498</th>\n",
              "      <td>tt0000502</td>\n",
              "      <td>1905</td>\n",
              "    </tr>\n",
              "    <tr>\n",
              "      <th>570</th>\n",
              "      <td>tt0000574</td>\n",
              "      <td>1906</td>\n",
              "    </tr>\n",
              "    <tr>\n",
              "      <th>587</th>\n",
              "      <td>tt0000591</td>\n",
              "      <td>1907</td>\n",
              "    </tr>\n",
              "    <tr>\n",
              "      <th>610</th>\n",
              "      <td>tt0000615</td>\n",
              "      <td>1907</td>\n",
              "    </tr>\n",
              "    <tr>\n",
              "      <th>625</th>\n",
              "      <td>tt0000630</td>\n",
              "      <td>1908</td>\n",
              "    </tr>\n",
              "  </tbody>\n",
              "</table>\n",
              "</div>"
            ],
            "text/plain": [
              "        tconst startYear\n",
              "498  tt0000502      1905\n",
              "570  tt0000574      1906\n",
              "587  tt0000591      1907\n",
              "610  tt0000615      1907\n",
              "625  tt0000630      1908"
            ]
          },
          "metadata": {},
          "execution_count": 35
        }
      ]
    },
    {
      "cell_type": "code",
      "metadata": {
        "tags": [],
        "id": "ca979b5f-62de-4abd-98c0-360eae77576b",
        "colab": {
          "base_uri": "https://localhost:8080/"
        },
        "outputId": "75c1c997-302a-42cc-8c7b-624a6916fdb1"
      },
      "source": [
        "movies[\"startYear\"].unique()"
      ],
      "execution_count": 36,
      "outputs": [
        {
          "output_type": "execute_result",
          "data": {
            "text/plain": [
              "array([1905, 1906, 1907, 1908, 1909, 1910, 1912, 1911, 1913, 1915, 1914,\n",
              "       1919, 1916, 1917, 1936, 1925, 1918, 1920, 1922, 1921, 2019, 1924,\n",
              "       1923, 1928, 1926, 1927, 1929, 2000, 1993, 1935, 2014, 1930, 1942,\n",
              "       1932, 1931, 1934, 1939, 1937, 1933, 1950, 1938, 1951, 1946, 1996,\n",
              "       1940, 1944, 1947, 1941, 1952, 1970, 1957, 1943, 1948, 1945, 2001,\n",
              "       1949, 1953, 2008, 1954, 1965, 1983, 1980, 1973, 1961, 1955, 1962,\n",
              "       1958, 1956, 1977, 1964, 1967, 1960, 1959, 1968, 1963, 1971, 1969,\n",
              "       1972, 1966, 1976, 1990, 1979, 1981, 2020, 1975, 1978, 1989, 1974,\n",
              "       1986, '1971', '1972', '1970', '1974', '1973', '1976', '1969',\n",
              "       '1981', '1968', '1985', '1986', '1987', '1975', '1965', '1978',\n",
              "       '1967', '1990', '2018', '1977', '1979', '1984', '1966', '1988',\n",
              "       '1982', '\\\\N', '1980', '1983', '1991', '1963', '2001', '1961',\n",
              "       '1989', '1994', '1993', '1964', '1957', '2019', '1992', '2017',\n",
              "       '2005', '1953', '2004', '1998', '2020', '1947', '1995', '2002',\n",
              "       '1996', '1997', '2000', '1945', '1956', '2021', '1999', '2006',\n",
              "       '1955', '1949', '2008', '2003', '2007', '1930', '1938', '1959',\n",
              "       '1960', '1944', '1935', '1962', '1951', '1954', '1952', '1958',\n",
              "       '1918', '1943', '1921', '1941', '1939', '1940', '1950', '1946',\n",
              "       '1916', '1934', '2009', '1948', '1933', '1929', '1936', '1925',\n",
              "       '1932', '1928', '1917', '1919', '1926', '1937', '1931', '1920',\n",
              "       '1942', '1922', '1927', '1923', '1924', '1915', '1914', '1913',\n",
              "       '1911', '2010', '1912', '1909', '1910', '1905', '1898', '1899',\n",
              "       '2012', '1908', '2013', '1906', '1907', '2011', '1904', '2015',\n",
              "       '1897', '1901', '1902', '1900', '1903', '2016', '2014', '2022',\n",
              "       '2023', '2024', '2025', '2027', '2026', '2028', '1896'],\n",
              "      dtype=object)"
            ]
          },
          "metadata": {},
          "execution_count": 36
        }
      ]
    },
    {
      "cell_type": "code",
      "metadata": {
        "tags": [],
        "id": "7b4bea28-6374-4e04-b6b5-e844e9dc5a00",
        "colab": {
          "base_uri": "https://localhost:8080/"
        },
        "outputId": "2b86f709-f8f6-4920-9679-4ee9e31caf34"
      },
      "source": [
        "movies = movies[movies.startYear != \"nan\"]\n",
        "movies = movies[movies.startYear != \"\\\\N\"]\n",
        "movies[\"startYear\"].unique()"
      ],
      "execution_count": 37,
      "outputs": [
        {
          "output_type": "execute_result",
          "data": {
            "text/plain": [
              "array([1905, 1906, 1907, 1908, 1909, 1910, 1912, 1911, 1913, 1915, 1914,\n",
              "       1919, 1916, 1917, 1936, 1925, 1918, 1920, 1922, 1921, 2019, 1924,\n",
              "       1923, 1928, 1926, 1927, 1929, 2000, 1993, 1935, 2014, 1930, 1942,\n",
              "       1932, 1931, 1934, 1939, 1937, 1933, 1950, 1938, 1951, 1946, 1996,\n",
              "       1940, 1944, 1947, 1941, 1952, 1970, 1957, 1943, 1948, 1945, 2001,\n",
              "       1949, 1953, 2008, 1954, 1965, 1983, 1980, 1973, 1961, 1955, 1962,\n",
              "       1958, 1956, 1977, 1964, 1967, 1960, 1959, 1968, 1963, 1971, 1969,\n",
              "       1972, 1966, 1976, 1990, 1979, 1981, 2020, 1975, 1978, 1989, 1974,\n",
              "       1986, '1971', '1972', '1970', '1974', '1973', '1976', '1969',\n",
              "       '1981', '1968', '1985', '1986', '1987', '1975', '1965', '1978',\n",
              "       '1967', '1990', '2018', '1977', '1979', '1984', '1966', '1988',\n",
              "       '1982', '1980', '1983', '1991', '1963', '2001', '1961', '1989',\n",
              "       '1994', '1993', '1964', '1957', '2019', '1992', '2017', '2005',\n",
              "       '1953', '2004', '1998', '2020', '1947', '1995', '2002', '1996',\n",
              "       '1997', '2000', '1945', '1956', '2021', '1999', '2006', '1955',\n",
              "       '1949', '2008', '2003', '2007', '1930', '1938', '1959', '1960',\n",
              "       '1944', '1935', '1962', '1951', '1954', '1952', '1958', '1918',\n",
              "       '1943', '1921', '1941', '1939', '1940', '1950', '1946', '1916',\n",
              "       '1934', '2009', '1948', '1933', '1929', '1936', '1925', '1932',\n",
              "       '1928', '1917', '1919', '1926', '1937', '1931', '1920', '1942',\n",
              "       '1922', '1927', '1923', '1924', '1915', '1914', '1913', '1911',\n",
              "       '2010', '1912', '1909', '1910', '1905', '1898', '1899', '2012',\n",
              "       '1908', '2013', '1906', '1907', '2011', '1904', '2015', '1897',\n",
              "       '1901', '1902', '1900', '1903', '2016', '2014', '2022', '2023',\n",
              "       '2024', '2025', '2027', '2026', '2028', '1896'], dtype=object)"
            ]
          },
          "metadata": {},
          "execution_count": 37
        }
      ]
    },
    {
      "cell_type": "code",
      "metadata": {
        "id": "550d344e-6500-4b3d-b33f-6ecc8b3aa06d"
      },
      "source": [
        "movies[\"startYear\"] = pd.to_datetime(movies[\"startYear\"], format=\"%Y\") #used to_numeric before"
      ],
      "execution_count": 38,
      "outputs": []
    },
    {
      "cell_type": "code",
      "metadata": {
        "id": "335f7c0c-01c9-42b6-8291-7e705a9ecbf0",
        "colab": {
          "base_uri": "https://localhost:8080/",
          "height": 450
        },
        "outputId": "890d3bda-f538-41a6-a1ca-4d9b2f3dc0cd"
      },
      "source": [
        "movies = movies.set_index(\"startYear\")\n",
        "movies"
      ],
      "execution_count": 39,
      "outputs": [
        {
          "output_type": "execute_result",
          "data": {
            "text/html": [
              "<div>\n",
              "<style scoped>\n",
              "    .dataframe tbody tr th:only-of-type {\n",
              "        vertical-align: middle;\n",
              "    }\n",
              "\n",
              "    .dataframe tbody tr th {\n",
              "        vertical-align: top;\n",
              "    }\n",
              "\n",
              "    .dataframe thead th {\n",
              "        text-align: right;\n",
              "    }\n",
              "</style>\n",
              "<table border=\"1\" class=\"dataframe\">\n",
              "  <thead>\n",
              "    <tr style=\"text-align: right;\">\n",
              "      <th></th>\n",
              "      <th>tconst</th>\n",
              "    </tr>\n",
              "    <tr>\n",
              "      <th>startYear</th>\n",
              "      <th></th>\n",
              "    </tr>\n",
              "  </thead>\n",
              "  <tbody>\n",
              "    <tr>\n",
              "      <th>1905-01-01</th>\n",
              "      <td>tt0000502</td>\n",
              "    </tr>\n",
              "    <tr>\n",
              "      <th>1906-01-01</th>\n",
              "      <td>tt0000574</td>\n",
              "    </tr>\n",
              "    <tr>\n",
              "      <th>1907-01-01</th>\n",
              "      <td>tt0000591</td>\n",
              "    </tr>\n",
              "    <tr>\n",
              "      <th>1907-01-01</th>\n",
              "      <td>tt0000615</td>\n",
              "    </tr>\n",
              "    <tr>\n",
              "      <th>1908-01-01</th>\n",
              "      <td>tt0000630</td>\n",
              "    </tr>\n",
              "    <tr>\n",
              "      <th>...</th>\n",
              "      <td>...</td>\n",
              "    </tr>\n",
              "    <tr>\n",
              "      <th>2015-01-01</th>\n",
              "      <td>tt9916622</td>\n",
              "    </tr>\n",
              "    <tr>\n",
              "      <th>2007-01-01</th>\n",
              "      <td>tt9916680</td>\n",
              "    </tr>\n",
              "    <tr>\n",
              "      <th>2013-01-01</th>\n",
              "      <td>tt9916706</td>\n",
              "    </tr>\n",
              "    <tr>\n",
              "      <th>2017-01-01</th>\n",
              "      <td>tt9916730</td>\n",
              "    </tr>\n",
              "    <tr>\n",
              "      <th>2013-01-01</th>\n",
              "      <td>tt9916754</td>\n",
              "    </tr>\n",
              "  </tbody>\n",
              "</table>\n",
              "<p>508075 rows × 1 columns</p>\n",
              "</div>"
            ],
            "text/plain": [
              "               tconst\n",
              "startYear            \n",
              "1905-01-01  tt0000502\n",
              "1906-01-01  tt0000574\n",
              "1907-01-01  tt0000591\n",
              "1907-01-01  tt0000615\n",
              "1908-01-01  tt0000630\n",
              "...               ...\n",
              "2015-01-01  tt9916622\n",
              "2007-01-01  tt9916680\n",
              "2013-01-01  tt9916706\n",
              "2017-01-01  tt9916730\n",
              "2013-01-01  tt9916754\n",
              "\n",
              "[508075 rows x 1 columns]"
            ]
          },
          "metadata": {},
          "execution_count": 39
        }
      ]
    },
    {
      "cell_type": "code",
      "metadata": {
        "id": "2535351b-efb6-4236-a238-7e42d813ede2"
      },
      "source": [
        "movies = movies.loc[\"1980\":\"2019\"]"
      ],
      "execution_count": 40,
      "outputs": []
    },
    {
      "cell_type": "code",
      "metadata": {
        "id": "553f2e6b-bda2-4777-b605-363144a91619",
        "colab": {
          "base_uri": "https://localhost:8080/",
          "height": 419
        },
        "outputId": "21b8c9a7-905c-4225-cb7f-ddcbdc915359"
      },
      "source": [
        "movies = movies.reset_index()\n",
        "movies"
      ],
      "execution_count": 41,
      "outputs": [
        {
          "output_type": "execute_result",
          "data": {
            "text/html": [
              "<div>\n",
              "<style scoped>\n",
              "    .dataframe tbody tr th:only-of-type {\n",
              "        vertical-align: middle;\n",
              "    }\n",
              "\n",
              "    .dataframe tbody tr th {\n",
              "        vertical-align: top;\n",
              "    }\n",
              "\n",
              "    .dataframe thead th {\n",
              "        text-align: right;\n",
              "    }\n",
              "</style>\n",
              "<table border=\"1\" class=\"dataframe\">\n",
              "  <thead>\n",
              "    <tr style=\"text-align: right;\">\n",
              "      <th></th>\n",
              "      <th>startYear</th>\n",
              "      <th>tconst</th>\n",
              "    </tr>\n",
              "  </thead>\n",
              "  <tbody>\n",
              "    <tr>\n",
              "      <th>0</th>\n",
              "      <td>2019-01-01</td>\n",
              "      <td>tt0011216</td>\n",
              "    </tr>\n",
              "    <tr>\n",
              "      <th>1</th>\n",
              "      <td>2019-01-01</td>\n",
              "      <td>tt0011801</td>\n",
              "    </tr>\n",
              "    <tr>\n",
              "      <th>2</th>\n",
              "      <td>2000-01-01</td>\n",
              "      <td>tt0015414</td>\n",
              "    </tr>\n",
              "    <tr>\n",
              "      <th>3</th>\n",
              "      <td>1993-01-01</td>\n",
              "      <td>tt0015724</td>\n",
              "    </tr>\n",
              "    <tr>\n",
              "      <th>4</th>\n",
              "      <td>2014-01-01</td>\n",
              "      <td>tt0016906</td>\n",
              "    </tr>\n",
              "    <tr>\n",
              "      <th>...</th>\n",
              "      <td>...</td>\n",
              "      <td>...</td>\n",
              "    </tr>\n",
              "    <tr>\n",
              "      <th>312747</th>\n",
              "      <td>2015-01-01</td>\n",
              "      <td>tt9916622</td>\n",
              "    </tr>\n",
              "    <tr>\n",
              "      <th>312748</th>\n",
              "      <td>2007-01-01</td>\n",
              "      <td>tt9916680</td>\n",
              "    </tr>\n",
              "    <tr>\n",
              "      <th>312749</th>\n",
              "      <td>2013-01-01</td>\n",
              "      <td>tt9916706</td>\n",
              "    </tr>\n",
              "    <tr>\n",
              "      <th>312750</th>\n",
              "      <td>2017-01-01</td>\n",
              "      <td>tt9916730</td>\n",
              "    </tr>\n",
              "    <tr>\n",
              "      <th>312751</th>\n",
              "      <td>2013-01-01</td>\n",
              "      <td>tt9916754</td>\n",
              "    </tr>\n",
              "  </tbody>\n",
              "</table>\n",
              "<p>312752 rows × 2 columns</p>\n",
              "</div>"
            ],
            "text/plain": [
              "        startYear     tconst\n",
              "0      2019-01-01  tt0011216\n",
              "1      2019-01-01  tt0011801\n",
              "2      2000-01-01  tt0015414\n",
              "3      1993-01-01  tt0015724\n",
              "4      2014-01-01  tt0016906\n",
              "...           ...        ...\n",
              "312747 2015-01-01  tt9916622\n",
              "312748 2007-01-01  tt9916680\n",
              "312749 2013-01-01  tt9916706\n",
              "312750 2017-01-01  tt9916730\n",
              "312751 2013-01-01  tt9916754\n",
              "\n",
              "[312752 rows x 2 columns]"
            ]
          },
          "metadata": {},
          "execution_count": 41
        }
      ]
    },
    {
      "cell_type": "code",
      "metadata": {
        "id": "39479562-cbd8-4ed4-bbfa-ed01fbfae73d"
      },
      "source": [
        "#movies = movies.loc[movies[\"desired\"] == True]\n",
        "#movies"
      ],
      "execution_count": 42,
      "outputs": []
    },
    {
      "cell_type": "code",
      "metadata": {
        "id": "bfba2cbf-ce93-4c10-a697-346a4918fb45",
        "colab": {
          "base_uri": "https://localhost:8080/"
        },
        "outputId": "637d88a6-0d89-4613-ed67-3d43175d3a93"
      },
      "source": [
        "movies[\"startYear\"].unique()"
      ],
      "execution_count": 43,
      "outputs": [
        {
          "output_type": "execute_result",
          "data": {
            "text/plain": [
              "array(['2019-01-01T00:00:00.000000000', '2000-01-01T00:00:00.000000000',\n",
              "       '1993-01-01T00:00:00.000000000', '2014-01-01T00:00:00.000000000',\n",
              "       '1996-01-01T00:00:00.000000000', '2001-01-01T00:00:00.000000000',\n",
              "       '2008-01-01T00:00:00.000000000', '1983-01-01T00:00:00.000000000',\n",
              "       '1980-01-01T00:00:00.000000000', '1990-01-01T00:00:00.000000000',\n",
              "       '1981-01-01T00:00:00.000000000', '1989-01-01T00:00:00.000000000',\n",
              "       '1986-01-01T00:00:00.000000000', '1985-01-01T00:00:00.000000000',\n",
              "       '1987-01-01T00:00:00.000000000', '2018-01-01T00:00:00.000000000',\n",
              "       '1984-01-01T00:00:00.000000000', '1988-01-01T00:00:00.000000000',\n",
              "       '1982-01-01T00:00:00.000000000', '1991-01-01T00:00:00.000000000',\n",
              "       '1994-01-01T00:00:00.000000000', '1992-01-01T00:00:00.000000000',\n",
              "       '2017-01-01T00:00:00.000000000', '2005-01-01T00:00:00.000000000',\n",
              "       '2004-01-01T00:00:00.000000000', '1998-01-01T00:00:00.000000000',\n",
              "       '1995-01-01T00:00:00.000000000', '2002-01-01T00:00:00.000000000',\n",
              "       '1997-01-01T00:00:00.000000000', '1999-01-01T00:00:00.000000000',\n",
              "       '2006-01-01T00:00:00.000000000', '2003-01-01T00:00:00.000000000',\n",
              "       '2007-01-01T00:00:00.000000000', '2009-01-01T00:00:00.000000000',\n",
              "       '2010-01-01T00:00:00.000000000', '2012-01-01T00:00:00.000000000',\n",
              "       '2013-01-01T00:00:00.000000000', '2011-01-01T00:00:00.000000000',\n",
              "       '2015-01-01T00:00:00.000000000', '2016-01-01T00:00:00.000000000'],\n",
              "      dtype='datetime64[ns]')"
            ]
          },
          "metadata": {},
          "execution_count": 43
        }
      ]
    },
    {
      "cell_type": "code",
      "metadata": {
        "id": "3b36d8c9-4c4c-4004-b861-6c119d5bbfd4",
        "colab": {
          "base_uri": "https://localhost:8080/",
          "height": 255
        },
        "outputId": "1c9a64bb-3b6e-461e-8fc8-711fe87430f4"
      },
      "source": [
        "print(movies.dtypes)\n",
        "movies.head()"
      ],
      "execution_count": 44,
      "outputs": [
        {
          "output_type": "stream",
          "name": "stdout",
          "text": [
            "startYear    datetime64[ns]\n",
            "tconst               object\n",
            "dtype: object\n"
          ]
        },
        {
          "output_type": "execute_result",
          "data": {
            "text/html": [
              "<div>\n",
              "<style scoped>\n",
              "    .dataframe tbody tr th:only-of-type {\n",
              "        vertical-align: middle;\n",
              "    }\n",
              "\n",
              "    .dataframe tbody tr th {\n",
              "        vertical-align: top;\n",
              "    }\n",
              "\n",
              "    .dataframe thead th {\n",
              "        text-align: right;\n",
              "    }\n",
              "</style>\n",
              "<table border=\"1\" class=\"dataframe\">\n",
              "  <thead>\n",
              "    <tr style=\"text-align: right;\">\n",
              "      <th></th>\n",
              "      <th>startYear</th>\n",
              "      <th>tconst</th>\n",
              "    </tr>\n",
              "  </thead>\n",
              "  <tbody>\n",
              "    <tr>\n",
              "      <th>0</th>\n",
              "      <td>2019-01-01</td>\n",
              "      <td>tt0011216</td>\n",
              "    </tr>\n",
              "    <tr>\n",
              "      <th>1</th>\n",
              "      <td>2019-01-01</td>\n",
              "      <td>tt0011801</td>\n",
              "    </tr>\n",
              "    <tr>\n",
              "      <th>2</th>\n",
              "      <td>2000-01-01</td>\n",
              "      <td>tt0015414</td>\n",
              "    </tr>\n",
              "    <tr>\n",
              "      <th>3</th>\n",
              "      <td>1993-01-01</td>\n",
              "      <td>tt0015724</td>\n",
              "    </tr>\n",
              "    <tr>\n",
              "      <th>4</th>\n",
              "      <td>2014-01-01</td>\n",
              "      <td>tt0016906</td>\n",
              "    </tr>\n",
              "  </tbody>\n",
              "</table>\n",
              "</div>"
            ],
            "text/plain": [
              "   startYear     tconst\n",
              "0 2019-01-01  tt0011216\n",
              "1 2019-01-01  tt0011801\n",
              "2 2000-01-01  tt0015414\n",
              "3 1993-01-01  tt0015724\n",
              "4 2014-01-01  tt0016906"
            ]
          },
          "metadata": {},
          "execution_count": 44
        }
      ]
    },
    {
      "cell_type": "code",
      "metadata": {
        "id": "e37c21fb-5e7b-4ef7-93b7-7393bcb4fdfa",
        "colab": {
          "base_uri": "https://localhost:8080/"
        },
        "outputId": "52bf7724-5796-4ab2-c68f-aa2f5f4279de"
      },
      "source": [
        "rated = pd.merge(movies[[\"tconst\",\"startYear\"]], df_ratings, on=\"tconst\", how=\"inner\")\n",
        "rated.info"
      ],
      "execution_count": 45,
      "outputs": [
        {
          "output_type": "execute_result",
          "data": {
            "text/plain": [
              "<bound method DataFrame.info of            tconst  startYear  averageRating  numVotes\n",
              "0       tt0011216 2019-01-01            6.9        29\n",
              "1       tt0015414 2000-01-01            5.3        15\n",
              "2       tt0015724 1993-01-01            6.2        25\n",
              "3       tt0016906 2014-01-01            5.6        19\n",
              "4       tt0025541 1996-01-01            7.5        21\n",
              "...           ...        ...            ...       ...\n",
              "181865  tt9916132 2018-01-01            4.0         7\n",
              "181866  tt9916160 2019-01-01            6.4        48\n",
              "181867  tt9916170 2019-01-01            7.2         5\n",
              "181868  tt9916428 2019-01-01            3.8        14\n",
              "181869  tt9916538 2019-01-01            8.3         6\n",
              "\n",
              "[181870 rows x 4 columns]>"
            ]
          },
          "metadata": {},
          "execution_count": 45
        }
      ]
    },
    {
      "cell_type": "code",
      "metadata": {
        "id": "fd4f844f-9e47-4ccf-b515-42a1f2063fe0",
        "colab": {
          "base_uri": "https://localhost:8080/",
          "height": 204
        },
        "outputId": "317a6553-32ef-479c-cb42-da4c18dfbc72"
      },
      "source": [
        "rated = rated.sort_values(\"startYear\")\n",
        "rated.head()"
      ],
      "execution_count": 46,
      "outputs": [
        {
          "output_type": "execute_result",
          "data": {
            "text/html": [
              "<div>\n",
              "<style scoped>\n",
              "    .dataframe tbody tr th:only-of-type {\n",
              "        vertical-align: middle;\n",
              "    }\n",
              "\n",
              "    .dataframe tbody tr th {\n",
              "        vertical-align: top;\n",
              "    }\n",
              "\n",
              "    .dataframe thead th {\n",
              "        text-align: right;\n",
              "    }\n",
              "</style>\n",
              "<table border=\"1\" class=\"dataframe\">\n",
              "  <thead>\n",
              "    <tr style=\"text-align: right;\">\n",
              "      <th></th>\n",
              "      <th>tconst</th>\n",
              "      <th>startYear</th>\n",
              "      <th>averageRating</th>\n",
              "      <th>numVotes</th>\n",
              "    </tr>\n",
              "  </thead>\n",
              "  <tbody>\n",
              "    <tr>\n",
              "      <th>116738</th>\n",
              "      <td>tt2306613</td>\n",
              "      <td>1980-01-01</td>\n",
              "      <td>4.7</td>\n",
              "      <td>16</td>\n",
              "    </tr>\n",
              "    <tr>\n",
              "      <th>24407</th>\n",
              "      <td>tt0140543</td>\n",
              "      <td>1980-01-01</td>\n",
              "      <td>5.9</td>\n",
              "      <td>420</td>\n",
              "    </tr>\n",
              "    <tr>\n",
              "      <th>44398</th>\n",
              "      <td>tt0304518</td>\n",
              "      <td>1980-01-01</td>\n",
              "      <td>4.6</td>\n",
              "      <td>8</td>\n",
              "    </tr>\n",
              "    <tr>\n",
              "      <th>42209</th>\n",
              "      <td>tt0288729</td>\n",
              "      <td>1980-01-01</td>\n",
              "      <td>6.9</td>\n",
              "      <td>144</td>\n",
              "    </tr>\n",
              "    <tr>\n",
              "      <th>23277</th>\n",
              "      <td>tt0129454</td>\n",
              "      <td>1980-01-01</td>\n",
              "      <td>7.0</td>\n",
              "      <td>222</td>\n",
              "    </tr>\n",
              "  </tbody>\n",
              "</table>\n",
              "</div>"
            ],
            "text/plain": [
              "           tconst  startYear  averageRating  numVotes\n",
              "116738  tt2306613 1980-01-01            4.7        16\n",
              "24407   tt0140543 1980-01-01            5.9       420\n",
              "44398   tt0304518 1980-01-01            4.6         8\n",
              "42209   tt0288729 1980-01-01            6.9       144\n",
              "23277   tt0129454 1980-01-01            7.0       222"
            ]
          },
          "metadata": {},
          "execution_count": 46
        }
      ]
    },
    {
      "cell_type": "code",
      "metadata": {
        "id": "20886f3a-5825-4649-8410-f193f07d06e8",
        "colab": {
          "base_uri": "https://localhost:8080/",
          "height": 296
        },
        "outputId": "2896d82d-0f88-4c69-e201-fc37af4a5baf"
      },
      "source": [
        "rated.plot(x=\"startYear\", y=\"averageRating\", kind=\"scatter\", color=\"r\")"
      ],
      "execution_count": 47,
      "outputs": [
        {
          "output_type": "execute_result",
          "data": {
            "text/plain": [
              "<matplotlib.axes._subplots.AxesSubplot at 0x7f9e572f6fd0>"
            ]
          },
          "metadata": {},
          "execution_count": 47
        },
        {
          "output_type": "display_data",
          "data": {
            "image/png": "[encoded data removed]",
            "text/plain": [
              "<Figure size 432x288 with 1 Axes>"
            ]
          },
          "metadata": {
            "needs_background": "light"
          }
        }
      ]
    },
    {
      "cell_type": "code",
      "metadata": {
        "id": "232ba417-e7f1-4480-813a-264ef0dd9a9f"
      },
      "source": [
        "rated = rated.groupby(\"startYear\").mean()"
      ],
      "execution_count": 48,
      "outputs": []
    },
    {
      "cell_type": "code",
      "metadata": {
        "id": "472a94e8-deba-445c-a425-65e5712c6e26"
      },
      "source": [
        "final = rated.head(52)"
      ],
      "execution_count": 49,
      "outputs": []
    },
    {
      "cell_type": "code",
      "metadata": {
        "id": "41446372-f34a-4e26-b713-09ba9f3bac99",
        "colab": {
          "base_uri": "https://localhost:8080/",
          "height": 296
        },
        "outputId": "0e447aa7-5aac-43d9-e710-48bbe555d8a4"
      },
      "source": [
        "final = pd.DataFrame(final).reset_index()\n",
        "final.plot(x=\"startYear\", y=\"averageRating\", kind=\"scatter\", color=\"r\")"
      ],
      "execution_count": 50,
      "outputs": [
        {
          "output_type": "execute_result",
          "data": {
            "text/plain": [
              "<matplotlib.axes._subplots.AxesSubplot at 0x7f9e57253bd0>"
            ]
          },
          "metadata": {},
          "execution_count": 50
        },
        {
          "output_type": "display_data",
          "data": {
            "image/png": "[encoded data removed]",
            "text/plain": [
              "<Figure size 432x288 with 1 Axes>"
            ]
          },
          "metadata": {
            "needs_background": "light"
          }
        }
      ]
    },
    {
      "cell_type": "code",
      "metadata": {
        "id": "64e90a3a-31af-4589-9e22-7606f713201c"
      },
      "source": [
        "final.to_csv(\"Average Movie Ratings.csv\")"
      ],
      "execution_count": 51,
      "outputs": []
    },
    {
      "cell_type": "markdown",
      "metadata": {
        "id": "V0CfyadpzfwC"
      },
      "source": [
        "# Visualization\n",
        "\n",
        "Want\n",
        "\n",
        "\t\t1-How does economic growth affect the overall supply of the cinema entertainment?\n",
        "\t\t\t-Plot GDP per capita, Consumer Sentiment, unemployment rate, movie releases:\n",
        "\t\t\t\t-We got the movie releases (=box_office_qrt) graph\n",
        "\t\t\t\t-We got the gdp_capita graph\n",
        "\t\t\t\t-We got the consumer_sent graph\n",
        "\t\t\t\t-We got the consumer_sent graph\n",
        "\t\t\t\t\t-Problems:\n",
        "\t\t\t\t\t\t-Merged column shows data from 1990, but we want it from 1980\n",
        "\t\t\t\t\t\t-GDP_per_capita has larger with respect to unemployment_rate and consumer sentiment. Thus, it needs to be plotted in a different graph\n",
        "\t\t\t\t\t\t-I cannot merge the df from box_office_qrt with data_qrt because on “Date” because the the quarters are measured differently\n",
        "\t\t1.1-How does economic growth affect the overall supply of the cinema entertainment?\n",
        "\t\t\t-Plot GDP per capita, Consumer Sentiment, unemployment rate, tickets sold per year quarter\n",
        "\t\t2-How does it shift the respective market shares of different genres?\n",
        "\t\t3-Do other externa factors besides the state of the economy have more explanatory power concerning supply and demand?--> here we could look at netflix.\n",
        "\t\t4-Consumer confidence increased. *Key indicator to evaluate*\n"
      ]
    },
    {
      "cell_type": "code",
      "metadata": {
        "tags": [],
        "id": "93e455f1-39ac-46dc-928d-55cf794e6a54"
      },
      "source": [
        ""
      ],
      "execution_count": 51,
      "outputs": []
    },
    {
      "cell_type": "markdown",
      "metadata": {
        "id": "SQ7DeksL0tAe"
      },
      "source": [
        "### Influence of economic variables in the SUPPLY side of the film industry\n",
        "\n",
        "\n",
        "\n"
      ]
    },
    {
      "cell_type": "code",
      "metadata": {
        "id": "f2dzlHtIvkxl",
        "colab": {
          "base_uri": "https://localhost:8080/",
          "height": 285
        },
        "outputId": "0823403e-a2de-4335-8582-832b8cbbe4fc"
      },
      "source": [
        "plt.plot(box_office_qrt.Releases)"
      ],
      "execution_count": 52,
      "outputs": [
        {
          "output_type": "execute_result",
          "data": {
            "text/plain": [
              "[<matplotlib.lines.Line2D at 0x7f9e57182990>]"
            ]
          },
          "metadata": {},
          "execution_count": 52
        },
        {
          "output_type": "display_data",
          "data": {
            "image/png": "[encoded data removed]",
            "text/plain": [
              "<Figure size 432x288 with 1 Axes>"
            ]
          },
          "metadata": {
            "needs_background": "light"
          }
        }
      ]
    },
    {
      "cell_type": "code",
      "metadata": {
        "id": "ATIlXO46vAa6",
        "colab": {
          "base_uri": "https://localhost:8080/",
          "height": 282
        },
        "outputId": "eaae9e09-4e50-4841-e7b7-5ccb50af68ee"
      },
      "source": [
        "plt.plot(gdp_capita.Date, gdp_capita.gdp_per_capita)"
      ],
      "execution_count": 53,
      "outputs": [
        {
          "output_type": "execute_result",
          "data": {
            "text/plain": [
              "[<matplotlib.lines.Line2D at 0x7f9e5717b7d0>]"
            ]
          },
          "metadata": {},
          "execution_count": 53
        },
        {
          "output_type": "display_data",
          "data": {
            "image/png": "[encoded data removed]",
            "text/plain": [
              "<Figure size 432x288 with 1 Axes>"
            ]
          },
          "metadata": {
            "needs_background": "light"
          }
        }
      ]
    },
    {
      "cell_type": "code",
      "metadata": {
        "id": "X66E1LkJvBIu",
        "colab": {
          "base_uri": "https://localhost:8080/",
          "height": 282
        },
        "outputId": "7255f040-3110-46b5-9e27-39a75fc170b5"
      },
      "source": [
        "plt.plot(consumer_sent.Date, consumer_sent.consum_sent)"
      ],
      "execution_count": 54,
      "outputs": [
        {
          "output_type": "execute_result",
          "data": {
            "text/plain": [
              "[<matplotlib.lines.Line2D at 0x7f9e570e7a90>]"
            ]
          },
          "metadata": {},
          "execution_count": 54
        },
        {
          "output_type": "display_data",
          "data": {
            "image/png": "[encoded data removed]",
            "text/plain": [
              "<Figure size 432x288 with 1 Axes>"
            ]
          },
          "metadata": {
            "needs_background": "light"
          }
        }
      ]
    },
    {
      "cell_type": "code",
      "metadata": {
        "id": "oAJidDajByt2",
        "colab": {
          "base_uri": "https://localhost:8080/",
          "height": 359
        },
        "outputId": "baf3ddb2-39c9-45b2-ad4e-ca102cb45348"
      },
      "source": [
        "data_qrt.head(10)"
      ],
      "execution_count": 55,
      "outputs": [
        {
          "output_type": "execute_result",
          "data": {
            "text/html": [
              "<div>\n",
              "<style scoped>\n",
              "    .dataframe tbody tr th:only-of-type {\n",
              "        vertical-align: middle;\n",
              "    }\n",
              "\n",
              "    .dataframe tbody tr th {\n",
              "        vertical-align: top;\n",
              "    }\n",
              "\n",
              "    .dataframe thead th {\n",
              "        text-align: right;\n",
              "    }\n",
              "</style>\n",
              "<table border=\"1\" class=\"dataframe\">\n",
              "  <thead>\n",
              "    <tr style=\"text-align: right;\">\n",
              "      <th></th>\n",
              "      <th>Date</th>\n",
              "      <th>gas_price</th>\n",
              "      <th>UNRATE</th>\n",
              "      <th>consum_sent</th>\n",
              "      <th>GDP</th>\n",
              "      <th>gdp_per_capita</th>\n",
              "      <th>PCE</th>\n",
              "      <th>debt_pct_income</th>\n",
              "      <th>Releases</th>\n",
              "      <th>gross</th>\n",
              "    </tr>\n",
              "  </thead>\n",
              "  <tbody>\n",
              "    <tr>\n",
              "      <th>0</th>\n",
              "      <td>1990-01-01</td>\n",
              "      <td>NaN</td>\n",
              "      <td>5.300000</td>\n",
              "      <td>91.266667</td>\n",
              "      <td>9364.259</td>\n",
              "      <td>37617.0</td>\n",
              "      <td>0.62198</td>\n",
              "      <td>11.649150</td>\n",
              "      <td>110</td>\n",
              "      <td>1.479302e+09</td>\n",
              "    </tr>\n",
              "    <tr>\n",
              "      <th>1</th>\n",
              "      <td>1990-04-01</td>\n",
              "      <td>NaN</td>\n",
              "      <td>5.333333</td>\n",
              "      <td>90.933333</td>\n",
              "      <td>9398.243</td>\n",
              "      <td>37636.0</td>\n",
              "      <td>0.62764</td>\n",
              "      <td>11.600660</td>\n",
              "      <td>103</td>\n",
              "      <td>1.709974e+09</td>\n",
              "    </tr>\n",
              "    <tr>\n",
              "      <th>2</th>\n",
              "      <td>1990-07-01</td>\n",
              "      <td>1.947705</td>\n",
              "      <td>5.700000</td>\n",
              "      <td>79.133333</td>\n",
              "      <td>9404.494</td>\n",
              "      <td>37529.0</td>\n",
              "      <td>0.63562</td>\n",
              "      <td>11.583131</td>\n",
              "      <td>102</td>\n",
              "      <td>2.047944e+09</td>\n",
              "    </tr>\n",
              "    <tr>\n",
              "      <th>3</th>\n",
              "      <td>1990-10-01</td>\n",
              "      <td>2.070536</td>\n",
              "      <td>6.133333</td>\n",
              "      <td>65.133333</td>\n",
              "      <td>9318.876</td>\n",
              "      <td>37056.0</td>\n",
              "      <td>0.64402</td>\n",
              "      <td>11.604449</td>\n",
              "      <td>116</td>\n",
              "      <td>1.602071e+09</td>\n",
              "    </tr>\n",
              "    <tr>\n",
              "      <th>4</th>\n",
              "      <td>1991-01-01</td>\n",
              "      <td>1.706441</td>\n",
              "      <td>6.600000</td>\n",
              "      <td>74.966667</td>\n",
              "      <td>9275.276</td>\n",
              "      <td>36769.0</td>\n",
              "      <td>0.64740</td>\n",
              "      <td>11.578032</td>\n",
              "      <td>118</td>\n",
              "      <td>1.806037e+09</td>\n",
              "    </tr>\n",
              "    <tr>\n",
              "      <th>5</th>\n",
              "      <td>1991-04-01</td>\n",
              "      <td>1.705381</td>\n",
              "      <td>6.833333</td>\n",
              "      <td>80.733333</td>\n",
              "      <td>9347.597</td>\n",
              "      <td>36938.0</td>\n",
              "      <td>0.65092</td>\n",
              "      <td>11.434237</td>\n",
              "      <td>114</td>\n",
              "      <td>1.443730e+09</td>\n",
              "    </tr>\n",
              "    <tr>\n",
              "      <th>6</th>\n",
              "      <td>1991-07-01</td>\n",
              "      <td>1.688488</td>\n",
              "      <td>6.866667</td>\n",
              "      <td>82.633333</td>\n",
              "      <td>9394.834</td>\n",
              "      <td>36993.0</td>\n",
              "      <td>0.65533</td>\n",
              "      <td>11.318681</td>\n",
              "      <td>121</td>\n",
              "      <td>1.870961e+09</td>\n",
              "    </tr>\n",
              "    <tr>\n",
              "      <th>7</th>\n",
              "      <td>1991-10-01</td>\n",
              "      <td>1.647881</td>\n",
              "      <td>7.100000</td>\n",
              "      <td>71.866667</td>\n",
              "      <td>9427.581</td>\n",
              "      <td>36995.0</td>\n",
              "      <td>0.66008</td>\n",
              "      <td>11.117333</td>\n",
              "      <td>129</td>\n",
              "      <td>1.516476e+09</td>\n",
              "    </tr>\n",
              "    <tr>\n",
              "      <th>8</th>\n",
              "      <td>1992-01-01</td>\n",
              "      <td>1.525923</td>\n",
              "      <td>7.366667</td>\n",
              "      <td>70.766667</td>\n",
              "      <td>9540.444</td>\n",
              "      <td>37328.0</td>\n",
              "      <td>0.66421</td>\n",
              "      <td>10.855581</td>\n",
              "      <td>122</td>\n",
              "      <td>1.629860e+09</td>\n",
              "    </tr>\n",
              "    <tr>\n",
              "      <th>9</th>\n",
              "      <td>1992-04-01</td>\n",
              "      <td>1.647074</td>\n",
              "      <td>7.600000</td>\n",
              "      <td>78.933333</td>\n",
              "      <td>9643.893</td>\n",
              "      <td>37607.0</td>\n",
              "      <td>0.66862</td>\n",
              "      <td>10.680886</td>\n",
              "      <td>117</td>\n",
              "      <td>1.683190e+09</td>\n",
              "    </tr>\n",
              "  </tbody>\n",
              "</table>\n",
              "</div>"
            ],
            "text/plain": [
              "        Date  gas_price    UNRATE  ...  debt_pct_income  Releases         gross\n",
              "0 1990-01-01        NaN  5.300000  ...        11.649150       110  1.479302e+09\n",
              "1 1990-04-01        NaN  5.333333  ...        11.600660       103  1.709974e+09\n",
              "2 1990-07-01   1.947705  5.700000  ...        11.583131       102  2.047944e+09\n",
              "3 1990-10-01   2.070536  6.133333  ...        11.604449       116  1.602071e+09\n",
              "4 1991-01-01   1.706441  6.600000  ...        11.578032       118  1.806037e+09\n",
              "5 1991-04-01   1.705381  6.833333  ...        11.434237       114  1.443730e+09\n",
              "6 1991-07-01   1.688488  6.866667  ...        11.318681       121  1.870961e+09\n",
              "7 1991-10-01   1.647881  7.100000  ...        11.117333       129  1.516476e+09\n",
              "8 1992-01-01   1.525923  7.366667  ...        10.855581       122  1.629860e+09\n",
              "9 1992-04-01   1.647074  7.600000  ...        10.680886       117  1.683190e+09\n",
              "\n",
              "[10 rows x 10 columns]"
            ]
          },
          "metadata": {},
          "execution_count": 55
        }
      ]
    },
    {
      "cell_type": "code",
      "metadata": {
        "id": "wFXdqDJFDQeo"
      },
      "source": [
        "# plt.plot(data_qrt.Date, data_qrt.UNRATE, data_qrt.Date)"
      ],
      "execution_count": 56,
      "outputs": []
    },
    {
      "cell_type": "code",
      "metadata": {
        "id": "BD8B2TTnIRze",
        "colab": {
          "base_uri": "https://localhost:8080/",
          "height": 235
        },
        "outputId": "fbe46b0d-b122-404c-9997-267eaf3c1234"
      },
      "source": [
        "box_office_qrt_Datex = box_office_qrt.set_index('Date')\n",
        "box_office_qrt_Datex.head()"
      ],
      "execution_count": 57,
      "outputs": [
        {
          "output_type": "execute_result",
          "data": {
            "text/html": [
              "<div>\n",
              "<style scoped>\n",
              "    .dataframe tbody tr th:only-of-type {\n",
              "        vertical-align: middle;\n",
              "    }\n",
              "\n",
              "    .dataframe tbody tr th {\n",
              "        vertical-align: top;\n",
              "    }\n",
              "\n",
              "    .dataframe thead th {\n",
              "        text-align: right;\n",
              "    }\n",
              "</style>\n",
              "<table border=\"1\" class=\"dataframe\">\n",
              "  <thead>\n",
              "    <tr style=\"text-align: right;\">\n",
              "      <th></th>\n",
              "      <th>Releases</th>\n",
              "      <th>gross</th>\n",
              "    </tr>\n",
              "    <tr>\n",
              "      <th>Date</th>\n",
              "      <th></th>\n",
              "      <th></th>\n",
              "    </tr>\n",
              "  </thead>\n",
              "  <tbody>\n",
              "    <tr>\n",
              "      <th>1972-01-01</th>\n",
              "      <td>1</td>\n",
              "      <td>133698921</td>\n",
              "    </tr>\n",
              "    <tr>\n",
              "      <th>1972-04-01</th>\n",
              "      <td>0</td>\n",
              "      <td>0</td>\n",
              "    </tr>\n",
              "    <tr>\n",
              "      <th>1972-07-01</th>\n",
              "      <td>0</td>\n",
              "      <td>0</td>\n",
              "    </tr>\n",
              "    <tr>\n",
              "      <th>1972-10-01</th>\n",
              "      <td>1</td>\n",
              "      <td>84563118</td>\n",
              "    </tr>\n",
              "    <tr>\n",
              "      <th>1973-01-01</th>\n",
              "      <td>0</td>\n",
              "      <td>0</td>\n",
              "    </tr>\n",
              "  </tbody>\n",
              "</table>\n",
              "</div>"
            ],
            "text/plain": [
              "            Releases      gross\n",
              "Date                           \n",
              "1972-01-01         1  133698921\n",
              "1972-04-01         0          0\n",
              "1972-07-01         0          0\n",
              "1972-10-01         1   84563118\n",
              "1973-01-01         0          0"
            ]
          },
          "metadata": {},
          "execution_count": 57
        }
      ]
    },
    {
      "cell_type": "code",
      "metadata": {
        "colab": {
          "base_uri": "https://localhost:8080/",
          "height": 235
        },
        "id": "ZcY5NLrHvzHV",
        "outputId": "85330213-9380-47cc-ce6a-8f36ea458364"
      },
      "source": [
        "box_office_qrt_Datex_pct = box_office_qrt_Datex.pct_change()\n",
        "box_office_qrt_Datex_pct.head()"
      ],
      "execution_count": 58,
      "outputs": [
        {
          "output_type": "execute_result",
          "data": {
            "text/html": [
              "<div>\n",
              "<style scoped>\n",
              "    .dataframe tbody tr th:only-of-type {\n",
              "        vertical-align: middle;\n",
              "    }\n",
              "\n",
              "    .dataframe tbody tr th {\n",
              "        vertical-align: top;\n",
              "    }\n",
              "\n",
              "    .dataframe thead th {\n",
              "        text-align: right;\n",
              "    }\n",
              "</style>\n",
              "<table border=\"1\" class=\"dataframe\">\n",
              "  <thead>\n",
              "    <tr style=\"text-align: right;\">\n",
              "      <th></th>\n",
              "      <th>Releases</th>\n",
              "      <th>gross</th>\n",
              "    </tr>\n",
              "    <tr>\n",
              "      <th>Date</th>\n",
              "      <th></th>\n",
              "      <th></th>\n",
              "    </tr>\n",
              "  </thead>\n",
              "  <tbody>\n",
              "    <tr>\n",
              "      <th>1972-01-01</th>\n",
              "      <td>NaN</td>\n",
              "      <td>NaN</td>\n",
              "    </tr>\n",
              "    <tr>\n",
              "      <th>1972-04-01</th>\n",
              "      <td>-1.0</td>\n",
              "      <td>-1.0</td>\n",
              "    </tr>\n",
              "    <tr>\n",
              "      <th>1972-07-01</th>\n",
              "      <td>NaN</td>\n",
              "      <td>NaN</td>\n",
              "    </tr>\n",
              "    <tr>\n",
              "      <th>1972-10-01</th>\n",
              "      <td>inf</td>\n",
              "      <td>inf</td>\n",
              "    </tr>\n",
              "    <tr>\n",
              "      <th>1973-01-01</th>\n",
              "      <td>-1.0</td>\n",
              "      <td>-1.0</td>\n",
              "    </tr>\n",
              "  </tbody>\n",
              "</table>\n",
              "</div>"
            ],
            "text/plain": [
              "            Releases  gross\n",
              "Date                       \n",
              "1972-01-01       NaN    NaN\n",
              "1972-04-01      -1.0   -1.0\n",
              "1972-07-01       NaN    NaN\n",
              "1972-10-01       inf    inf\n",
              "1973-01-01      -1.0   -1.0"
            ]
          },
          "metadata": {},
          "execution_count": 58
        }
      ]
    },
    {
      "cell_type": "code",
      "metadata": {
        "id": "uQSkZRiMDlWO",
        "colab": {
          "base_uri": "https://localhost:8080/",
          "height": 37
        },
        "outputId": "4011ca5f-92d6-44ff-e04c-cdc40c34cdcc"
      },
      "source": [
        "# supply = data_qrt.merge(box_office_qrt_reset, on=\"Date\", how=\"outer\")\n",
        "'''\n",
        "It returns an error because thee quarter dates are different\n",
        "''' "
      ],
      "execution_count": 59,
      "outputs": [
        {
          "output_type": "execute_result",
          "data": {
            "application/vnd.google.colaboratory.intrinsic+json": {
              "type": "string"
            },
            "text/plain": [
              "'\\nIt returns an error because thee quarter dates are different\\n'"
            ]
          },
          "metadata": {},
          "execution_count": 59
        }
      ]
    },
    {
      "cell_type": "code",
      "metadata": {
        "id": "KjTB3XjqO9FQ",
        "colab": {
          "base_uri": "https://localhost:8080/",
          "height": 235
        },
        "outputId": "dde323e0-b030-433e-ca02-9e4aa0835f11"
      },
      "source": [
        "data_qrt_Datex = data_qrt.set_index('Date')\n",
        "data_qrt_Datex_pct = data_qrt_Datex.pct_change()\n",
        "data_qrt_Datex_pct.head()"
      ],
      "execution_count": 60,
      "outputs": [
        {
          "output_type": "execute_result",
          "data": {
            "text/html": [
              "<div>\n",
              "<style scoped>\n",
              "    .dataframe tbody tr th:only-of-type {\n",
              "        vertical-align: middle;\n",
              "    }\n",
              "\n",
              "    .dataframe tbody tr th {\n",
              "        vertical-align: top;\n",
              "    }\n",
              "\n",
              "    .dataframe thead th {\n",
              "        text-align: right;\n",
              "    }\n",
              "</style>\n",
              "<table border=\"1\" class=\"dataframe\">\n",
              "  <thead>\n",
              "    <tr style=\"text-align: right;\">\n",
              "      <th></th>\n",
              "      <th>gas_price</th>\n",
              "      <th>UNRATE</th>\n",
              "      <th>consum_sent</th>\n",
              "      <th>GDP</th>\n",
              "      <th>gdp_per_capita</th>\n",
              "      <th>PCE</th>\n",
              "      <th>debt_pct_income</th>\n",
              "      <th>Releases</th>\n",
              "      <th>gross</th>\n",
              "    </tr>\n",
              "    <tr>\n",
              "      <th>Date</th>\n",
              "      <th></th>\n",
              "      <th></th>\n",
              "      <th></th>\n",
              "      <th></th>\n",
              "      <th></th>\n",
              "      <th></th>\n",
              "      <th></th>\n",
              "      <th></th>\n",
              "      <th></th>\n",
              "    </tr>\n",
              "  </thead>\n",
              "  <tbody>\n",
              "    <tr>\n",
              "      <th>1990-01-01</th>\n",
              "      <td>NaN</td>\n",
              "      <td>NaN</td>\n",
              "      <td>NaN</td>\n",
              "      <td>NaN</td>\n",
              "      <td>NaN</td>\n",
              "      <td>NaN</td>\n",
              "      <td>NaN</td>\n",
              "      <td>NaN</td>\n",
              "      <td>NaN</td>\n",
              "    </tr>\n",
              "    <tr>\n",
              "      <th>1990-04-01</th>\n",
              "      <td>NaN</td>\n",
              "      <td>0.006289</td>\n",
              "      <td>-0.003652</td>\n",
              "      <td>0.003629</td>\n",
              "      <td>0.000505</td>\n",
              "      <td>0.009100</td>\n",
              "      <td>-0.004163</td>\n",
              "      <td>-0.063636</td>\n",
              "      <td>0.155933</td>\n",
              "    </tr>\n",
              "    <tr>\n",
              "      <th>1990-07-01</th>\n",
              "      <td>NaN</td>\n",
              "      <td>0.068750</td>\n",
              "      <td>-0.129765</td>\n",
              "      <td>0.000665</td>\n",
              "      <td>-0.002843</td>\n",
              "      <td>0.012714</td>\n",
              "      <td>-0.001511</td>\n",
              "      <td>-0.009709</td>\n",
              "      <td>0.197647</td>\n",
              "    </tr>\n",
              "    <tr>\n",
              "      <th>1990-10-01</th>\n",
              "      <td>0.063065</td>\n",
              "      <td>0.076023</td>\n",
              "      <td>-0.176917</td>\n",
              "      <td>-0.009104</td>\n",
              "      <td>-0.012604</td>\n",
              "      <td>0.013215</td>\n",
              "      <td>0.001840</td>\n",
              "      <td>0.137255</td>\n",
              "      <td>-0.217717</td>\n",
              "    </tr>\n",
              "    <tr>\n",
              "      <th>1991-01-01</th>\n",
              "      <td>-0.175846</td>\n",
              "      <td>0.076087</td>\n",
              "      <td>0.150972</td>\n",
              "      <td>-0.004679</td>\n",
              "      <td>-0.007745</td>\n",
              "      <td>0.005248</td>\n",
              "      <td>-0.002276</td>\n",
              "      <td>0.017241</td>\n",
              "      <td>0.127314</td>\n",
              "    </tr>\n",
              "  </tbody>\n",
              "</table>\n",
              "</div>"
            ],
            "text/plain": [
              "            gas_price    UNRATE  ...  Releases     gross\n",
              "Date                             ...                    \n",
              "1990-01-01        NaN       NaN  ...       NaN       NaN\n",
              "1990-04-01        NaN  0.006289  ... -0.063636  0.155933\n",
              "1990-07-01        NaN  0.068750  ... -0.009709  0.197647\n",
              "1990-10-01   0.063065  0.076023  ...  0.137255 -0.217717\n",
              "1991-01-01  -0.175846  0.076087  ...  0.017241  0.127314\n",
              "\n",
              "[5 rows x 9 columns]"
            ]
          },
          "metadata": {},
          "execution_count": 60
        }
      ]
    },
    {
      "cell_type": "code",
      "metadata": {
        "id": "8v_LYXgzQtEi"
      },
      "source": [
        "%matplotlib inline"
      ],
      "execution_count": 61,
      "outputs": []
    },
    {
      "cell_type": "code",
      "metadata": {
        "id": "dDZkZa0oQfO6"
      },
      "source": [
        "import matplotlib.pylab as plt"
      ],
      "execution_count": 62,
      "outputs": []
    },
    {
      "cell_type": "code",
      "metadata": {
        "colab": {
          "resources": {
            "http://localhost:8080/nbextensions/google.colab/files.js": {
              "data": "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",
              "ok": true,
              "headers": [
                [
                  "content-type",
                  "application/javascript"
                ]
              ],
              "status": 200,
              "status_text": ""
            }
          },
          "base_uri": "https://localhost:8080/",
          "height": 73
        },
        "id": "N5UJUX1faZ-J",
        "outputId": "c778c766-d93d-4455-e63f-08fa9937d51f"
      },
      "source": [
        "# read the recession data in data\n",
        "from google.colab import files\n",
        "uploaded = files.upload()"
      ],
      "execution_count": 75,
      "outputs": [
        {
          "output_type": "display_data",
          "data": {
            "text/html": [
              "\n",
              "     <input type=\"file\" id=\"files-e7e6acc7-0d55-46d8-b968-3a97e31b5bdb\" name=\"files[]\" multiple disabled\n",
              "        style=\"border:none\" />\n",
              "     <output id=\"result-e7e6acc7-0d55-46d8-b968-3a97e31b5bdb\">\n",
              "      Upload widget is only available when the cell has been executed in the\n",
              "      current browser session. Please rerun this cell to enable.\n",
              "      </output>\n",
              "      <script src=\"/nbextensions/google.colab/files.js\"></script> "
            ],
            "text/plain": [
              "<IPython.core.display.HTML object>"
            ]
          },
          "metadata": {}
        },
        {
          "output_type": "stream",
          "name": "stdout",
          "text": [
            "Saving USREC.csv to USREC (1).csv\n"
          ]
        }
      ]
    },
    {
      "cell_type": "code",
      "metadata": {
        "colab": {
          "base_uri": "https://localhost:8080/",
          "height": 351
        },
        "id": "Vk17tcz3XxWW",
        "outputId": "e3a794fc-9c54-4759-c24c-d897be027475"
      },
      "source": [
        "import io\n",
        "us_rec = pd.read_csv(io.BytesIO(uploaded['USREC.csv']))\n",
        "\n",
        "# make sure date columns are actual dates\n",
        "us_rec[\"DATE\"] = pd.to_datetime(us_rec[\"DATE\"])\n",
        "import matplotlib.pyplot as plt\n",
        "\n",
        "# create plot (practice command)\n",
        "fig, ax = plt.subplots()\n",
        "us_rec.plot.area(ax=ax, figsize=(8, 5), x='DATE', alpha=0.5, color=\"gray\")\n",
        "plt.xlim(\"1978-01-01\", \"2021-01-01\")\n",
        "plt.ylim(0.58, 0.65)"
      ],
      "execution_count": 107,
      "outputs": [
        {
          "output_type": "execute_result",
          "data": {
            "text/plain": [
              "(96.0, 612.0)"
            ]
          },
          "metadata": {},
          "execution_count": 107
        },
        {
          "output_type": "display_data",
          "data": {
            "image/png": "[encoded data removed]",
            "text/plain": [
              "<Figure size 576x360 with 1 Axes>"
            ]
          },
          "metadata": {
            "needs_background": "light"
          }
        }
      ]
    },
    {
      "cell_type": "markdown",
      "metadata": {
        "id": "SNZ0Mpmq0ExC"
      },
      "source": [
        "See below thar there are little differences in between the group of plots"
      ]
    },
    {
      "cell_type": "code",
      "metadata": {
        "id": "FhWF0gaoazzc",
        "colab": {
          "base_uri": "https://localhost:8080/",
          "height": 783
        },
        "outputId": "374cd72d-79d2-4bc3-abfc-efe5a8a7d5b3"
      },
      "source": [
        "# 1-Plot for the econoomic conditions with percentage change on the y-axis\n",
        "data_qrt_Datex_pct[['UNRATE', 'consum_sent']].plot(color = ('r','y'), figsize = (8, 4))\n",
        "plt.legend(loc = 5, prop = {'size': 10})\n",
        "\n",
        "data_qrt_Datex_pct[['gdp_per_capita']].plot(figsize = (8, 4))\n",
        "plt.legend(loc = 5, prop = {'size': 10})\n",
        "\n",
        "box_office_qrt_Datex_pct[['Releases']].plot(color = ('c'), figsize = (8, 4))\n",
        "plt.legend(loc = 5, prop = {'size': 10})\n",
        "\n",
        "plt.show()"
      ],
      "execution_count": 136,
      "outputs": [
        {
          "output_type": "display_data",
          "data": {
            "image/png": "[encoded data removed]",
            "text/plain": [
              "<Figure size 576x288 with 1 Axes>"
            ]
          },
          "metadata": {
            "needs_background": "light"
          }
        },
        {
          "output_type": "display_data",
          "data": {
            "image/png": "[encoded data removed]",
            "text/plain": [
              "<Figure size 576x288 with 1 Axes>"
            ]
          },
          "metadata": {
            "needs_background": "light"
          }
        },
        {
          "output_type": "display_data",
          "data": {
            "image/png": "[encoded data removed]",
            "text/plain": [
              "<Figure size 576x288 with 1 Axes>"
            ]
          },
          "metadata": {
            "needs_background": "light"
          }
        }
      ]
    },
    {
      "cell_type": "code",
      "metadata": {
        "colab": {
          "base_uri": "https://localhost:8080/",
          "height": 787
        },
        "id": "p5HN2laXfXoi",
        "outputId": "adec94cf-d7f7-48cf-820c-8169ec7d4a5d"
      },
      "source": [
        "# 2-Plot for the econoomic conditions with percentage change on the y-axis\n",
        "data_qrt_Datex_pct[['UNRATE', 'consum_sent']].plot(color = ('r','y'), figsize = (8, 4))\n",
        "plt.legend(loc = 5, prop = {'size': 10})\n",
        "plt.xlim(\"1980-01-01\", \"2021-06-01\")\n",
        "plt.ylim(-0.25, 0.25)\n",
        "\n",
        "data_qrt_Datex_pct[['gdp_per_capita']].plot(figsize = (8, 4))\n",
        "plt.legend(loc = 5, prop = {'size': 10})\n",
        "plt.xlim(\"1980-01-01\", \"2021-06-01\")\n",
        "plt.ylim(-0.025, 0.025)\n",
        "\n",
        "box_office_qrt_Datex_pct[['Releases']].plot(color = ('c'), figsize = (8, 4))\n",
        "plt.legend(loc = 5, prop = {'size': 10})\n",
        "plt.xlim(\"1980-01-01\", \"2021-06-01\")\n",
        "plt.ylim(-0.5, 1.5)\n",
        "\n",
        "plt.show()"
      ],
      "execution_count": 135,
      "outputs": [
        {
          "output_type": "display_data",
          "data": {
            "image/png": "[encoded data removed]",
            "text/plain": [
              "<Figure size 576x288 with 1 Axes>"
            ]
          },
          "metadata": {
            "needs_background": "light"
          }
        },
        {
          "output_type": "display_data",
          "data": {
            "image/png": "[encoded data removed]",
            "text/plain": [
              "<Figure size 576x288 with 1 Axes>"
            ]
          },
          "metadata": {
            "needs_background": "light"
          }
        },
        {
          "output_type": "display_data",
          "data": {
            "image/png": "[encoded data removed]",
            "text/plain": [
              "<Figure size 576x288 with 1 Axes>"
            ]
          },
          "metadata": {
            "needs_background": "light"
          }
        }
      ]
    },
    {
      "cell_type": "code",
      "metadata": {
        "colab": {
          "base_uri": "https://localhost:8080/",
          "height": 1000
        },
        "id": "pSun18e3f6ze",
        "outputId": "496c5712-329a-41f3-c5e0-53a75d03c052"
      },
      "source": [
        "# 3-Plot for the econoomic conditions with percentage change on the y-axis\n",
        "data_qrt_Datex[['UNRATE', 'consum_sent']].plot(color = ('r','y'), figsize = (8, 4))\n",
        "fig, ax = plt.subplots()\n",
        "us_rec.plot.area(ax=ax, figsize=(8, 5), x='DATE', alpha=0.5, color=\"gray\")\n",
        "plt.xlim(\"1978-01-01\", \"2021-01-01\")\n",
        "plt.legend(loc = 5, prop = {'size': 10})\n",
        "\n",
        "data_qrt_Datex[['gdp_per_capita']].plot(figsize = (8, 4))\n",
        "plt.legend(loc = 5, prop = {'size': 10})\n",
        "plt.xlim(\"1978-01-01\", \"2021-01-01\")\n",
        "plt.legend(loc = 5, prop = {'size': 10})\n",
        "\n",
        "\n",
        "box_office_qrt_Datex[['Releases']].plot(color = ('c'), figsize = (8, 4))\n",
        "plt.legend(loc = 5, prop = {'size': 10})\n",
        "plt.xlim(\"1978-01-01\", \"2021-01-01\")\n",
        "plt.legend(loc = 5, prop = {'size': 10})\n",
        "\n",
        "plt.show()"
      ],
      "execution_count": 137,
      "outputs": [
        {
          "output_type": "display_data",
          "data": {
            "image/png": "[encoded data removed]",
            "text/plain": [
              "<Figure size 576x288 with 1 Axes>"
            ]
          },
          "metadata": {
            "needs_background": "light"
          }
        },
        {
          "output_type": "display_data",
          "data": {
            "image/png": "[encoded data removed]",
            "text/plain": [
              "<Figure size 576x360 with 1 Axes>"
            ]
          },
          "metadata": {
            "needs_background": "light"
          }
        },
        {
          "output_type": "display_data",
          "data": {
            "image/png": "[encoded data removed]",
            "text/plain": [
              "<Figure size 576x288 with 1 Axes>"
            ]
          },
          "metadata": {
            "needs_background": "light"
          }
        },
        {
          "output_type": "display_data",
          "data": {
            "image/png": "[encoded data removed]",
            "text/plain": [
              "<Figure size 576x288 with 1 Axes>"
            ]
          },
          "metadata": {
            "needs_background": "light"
          }
        }
      ]
    },
    {
      "cell_type": "code",
      "metadata": {
        "id": "8XvMYiVsnoLa",
        "colab": {
          "base_uri": "https://localhost:8080/",
          "height": 786
        },
        "outputId": "a841d2d0-5898-4aec-e571-9f67b10b1a37"
      },
      "source": [
        "# 3-Plot for the econoomic conditions with percentage change on the y-axis\n",
        "data_qrt_Datex[['UNRATE', 'consum_sent']].plot(color = ('r','y'), figsize = (8, 4))\n",
        "plt.legend(loc = 5, prop = {'size': 10})\n",
        "plt.xlim(\"1978-01-01\", \"2021-01-01\")\n",
        "plt.legend(loc = 5, prop = {'size': 10})\n",
        "\n",
        "data_qrt_Datex[['gdp_per_capita']].plot(figsize = (8, 4))\n",
        "plt.legend(loc = 5, prop = {'size': 10})\n",
        "plt.xlim(\"1978-01-01\", \"2021-01-01\")\n",
        "plt.legend(loc = 5, prop = {'size': 10})\n",
        "\n",
        "box_office_qrt_Datex[['Releases']].plot(color = ('c'), figsize = (8, 4))\n",
        "plt.legend(loc = 5, prop = {'size': 10})\n",
        "plt.xlim(\"1978-01-01\", \"2021-01-01\")\n",
        "plt.legend(loc = 5, prop = {'size': 10})\n",
        "\n",
        "plt.show()"
      ],
      "execution_count": 138,
      "outputs": [
        {
          "output_type": "display_data",
          "data": {
            "image/png": "[encoded data removed]",
            "text/plain": [
              "<Figure size 576x288 with 1 Axes>"
            ]
          },
          "metadata": {
            "needs_background": "light"
          }
        },
        {
          "output_type": "display_data",
          "data": {
            "image/png": "[encoded data removed]",
            "text/plain": [
              "<Figure size 576x288 with 1 Axes>"
            ]
          },
          "metadata": {
            "needs_background": "light"
          }
        },
        {
          "output_type": "display_data",
          "data": {
            "image/png": "[encoded data removed]",
            "text/plain": [
              "<Figure size 576x288 with 1 Axes>"
            ]
          },
          "metadata": {
            "needs_background": "light"
          }
        }
      ]
    },
    {
      "cell_type": "code",
      "metadata": {
        "id": "7YiWpXUJuYO-"
      },
      "source": [
        ""
      ],
      "execution_count": null,
      "outputs": []
    },
    {
      "cell_type": "markdown",
      "metadata": {
        "id": "3m9J1sHF1Ar5"
      },
      "source": [
        "### Influence of economic variables in the DEMAND side of the film industry\n"
      ]
    },
    {
      "cell_type": "code",
      "metadata": {
        "id": "Y85Qg7rs1BKK"
      },
      "source": [
        ""
      ],
      "execution_count": 138,
      "outputs": []
    }
  ]
}