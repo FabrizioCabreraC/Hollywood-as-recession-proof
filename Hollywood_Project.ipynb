{
  "cells": [
    {
      "cell_type": "code",
      "execution_count": 4,
      "metadata": {
        "id": "072c9c9f-35ea-4646-a90a-05c140538c31"
      },
      "outputs": [
        {
          "ename": "ModuleNotFoundError",
          "evalue": "No module named 'numpy'",
          "output_type": "error",
          "traceback": [
            "\u001b[0;31m---------------------------------------------------------------------------\u001b[0m",
            "\u001b[0;31mModuleNotFoundError\u001b[0m                       Traceback (most recent call last)",
            "\u001b[0;32m/var/folders/dd/6bc_8ck52pqb88t255094g6m0000gn/T/ipykernel_58757/872275596.py\u001b[0m in \u001b[0;36m<module>\u001b[0;34m\u001b[0m\n\u001b[0;32m----> 1\u001b[0;31m \u001b[0;32mimport\u001b[0m \u001b[0mnumpy\u001b[0m \u001b[0;32mas\u001b[0m \u001b[0mnp\u001b[0m\u001b[0;34m\u001b[0m\u001b[0;34m\u001b[0m\u001b[0m\n\u001b[0m\u001b[1;32m      2\u001b[0m \u001b[0;32mimport\u001b[0m \u001b[0mpandas\u001b[0m \u001b[0;32mas\u001b[0m \u001b[0mpd\u001b[0m\u001b[0;34m\u001b[0m\u001b[0;34m\u001b[0m\u001b[0m\n\u001b[1;32m      3\u001b[0m \u001b[0;32mimport\u001b[0m \u001b[0mmatplotlib\u001b[0m\u001b[0;34m.\u001b[0m\u001b[0mpyplot\u001b[0m \u001b[0;32mas\u001b[0m \u001b[0mplt\u001b[0m\u001b[0;34m\u001b[0m\u001b[0;34m\u001b[0m\u001b[0m\n\u001b[1;32m      4\u001b[0m \u001b[0;32mfrom\u001b[0m \u001b[0mdatetime\u001b[0m \u001b[0;32mimport\u001b[0m \u001b[0mdatetime\u001b[0m\u001b[0;34m\u001b[0m\u001b[0;34m\u001b[0m\u001b[0m\n\u001b[1;32m      5\u001b[0m \u001b[0mget_ipython\u001b[0m\u001b[0;34m(\u001b[0m\u001b[0;34m)\u001b[0m\u001b[0;34m.\u001b[0m\u001b[0mrun_line_magic\u001b[0m\u001b[0;34m(\u001b[0m\u001b[0;34m'matplotlib'\u001b[0m\u001b[0;34m,\u001b[0m \u001b[0;34m'inline'\u001b[0m\u001b[0;34m)\u001b[0m\u001b[0;34m\u001b[0m\u001b[0;34m\u001b[0m\u001b[0m\n",
            "\u001b[0;31mModuleNotFoundError\u001b[0m: No module named 'numpy'"
          ]
        }
      ],
      "source": [
        "import numpy as np\n",
        "import pandas as pd\n",
        "import matplotlib.pyplot as plt\n",
        "from datetime import datetime\n",
        "%matplotlib inline\n",
        "import requests\n",
        "%pip install fredapi\n",
        "from fredapi import Fred #package for pulling from FRED API"
      ]
    },
    {
      "cell_type": "markdown",
      "metadata": {
        "id": "FRgdqF_EeDNe"
      },
      "source": [
        "Section 1: Pulls desired economic data series from FRED API"
      ]
    },
    {
      "cell_type": "code",
      "execution_count": null,
      "metadata": {
        "id": "518db6c8-7fe7-44a6-9e23-5655978ab5c7"
      },
      "outputs": [],
      "source": [
        "fred = Fred(api_key = \"ef5451a7d8f6d761a7f3fb042aebd7da\") \n",
        "# my API Key, careful with it I guess.\n",
        "# this is a fucntion the uses fredapi packages to easily retrive series"
      ]
    },
    {
      "cell_type": "code",
      "execution_count": null,
      "metadata": {
        "id": "9g9mGQGfpQq1"
      },
      "outputs": [],
      "source": [
        "def get_fred (series_code: str):\n",
        "    '''\n",
        "    Pulls data from FRED API in the form of a series and returns cleaned \n",
        "    data set\n",
        "    \n",
        "    parameter\n",
        "    --------\n",
        "    sereies_code: Code for specific data sereis complied on FRED website \n",
        "    \n",
        "    returns:\n",
        "    --------\n",
        "    dataframe: a dataframe of the FRED metric according to the data series\n",
        "    given to the function\n",
        "    '''\n",
        "    fred = Fred(api_key = \"ef5451a7d8f6d761a7f3fb042aebd7da\")\n",
        "    \n",
        "    data = fred.get_series(f\"{series_code}\")\n",
        "    dataframe = pd.DataFrame(data)\n",
        "    data_rn = {0 : f\"{series_code}\"}\n",
        "    cleaned = dataframe.rename(data_rn, axis=1)\n",
        "    cleaned = cleaned.reset_index()\n",
        "    a = {\"index\": \"Date\"}\n",
        "    cleaned = cleaned.rename(a, axis = 1)\n",
        "    cleaned[\"Date\"] = pd.to_datetime(cleaned[\"Date\"])\n",
        "    return cleaned"
      ]
    },
    {
      "cell_type": "markdown",
      "metadata": {
        "id": "p7qY5j23e9Ja"
      },
      "source": [
        "Below use the get_fred fucntion to obatin the desiresed series that will be cleaned and put into a data set."
      ]
    },
    {
      "cell_type": "code",
      "execution_count": null,
      "metadata": {
        "id": "3c086fc7-98ac-4da4-b87c-5780cb9a6e8a"
      },
      "outputs": [],
      "source": [
        "unemp = get_fred(\"UNRATE\") # unemplyment rate, by month\n",
        "#unemp\n",
        "GDP = get_fred(\"GDPC1\") #nominal, by quater, real gdp\n",
        "#GDP\n",
        "consumer_sent = get_fred(\"UMCSENT\") # U Mich consumer sentiment, by month\n",
        "#consumer_sent\n",
        "debt_income = get_fred(\"TDSP\") #total debt service to income ratio, by quater\n",
        "#debt_income\n",
        "gdp_capita = get_fred(\"A939RX0Q048SBEA\") #real ratio, by quater \n",
        "#gdp_capita\n",
        "gas_prices = get_fred(\"GASREGCOVW\") #national gas price average, by week\n",
        "#gas_prices\n",
        "inflation = get_fred(\"FPCPITOTLZGUSA\") #inflation rate, by year\n",
        "#inflation\n",
        "PCE = get_fred(\"DPCERD3Q086SBEA\") #PCE with index set to 2012, quarterly\n",
        "#PCE"
      ]
    },
    {
      "cell_type": "markdown",
      "metadata": {
        "id": "fmNtL4XLfK11"
      },
      "source": [
        "Renaming the series to be more legible and useable."
      ]
    },
    {
      "cell_type": "code",
      "execution_count": null,
      "metadata": {
        "id": "WrhBGrKhnSRu"
      },
      "outputs": [],
      "source": [
        "j = {\"GDPC1\" : \"GDP\"}\n",
        "GDP = GDP.rename(j, axis=1)\n",
        "#GDP"
      ]
    },
    {
      "cell_type": "code",
      "execution_count": null,
      "metadata": {
        "id": "HRr4vH6eoHMF"
      },
      "outputs": [],
      "source": [
        "p = {\"DPCERD3Q086SBEA\": \"PCE\"}\n",
        "PCE = PCE.rename(p, axis =1 )\n",
        "#PCE"
      ]
    },
    {
      "cell_type": "code",
      "execution_count": null,
      "metadata": {
        "id": "a2acbbb3-acd3-41f9-bd16-e33d73e5a6db"
      },
      "outputs": [],
      "source": [
        "i = {\"FPCPITOTLZGUSA\" : \"inflat_index\"}\n",
        "inflation = inflation.rename(i, axis=1)\n",
        "#inflation"
      ]
    },
    {
      "cell_type": "code",
      "execution_count": null,
      "metadata": {
        "id": "5a8eed38-1b73-49f9-a7be-0459ba913ccb"
      },
      "outputs": [],
      "source": [
        "gas = {\"GASREGCOVW\" : \"gas_price\"}\n",
        "gas_prices = gas_prices.rename(gas, axis=1)\n",
        "gas_prices = (gas_prices.set_index(\"Date\").\n",
        "              resample(\"MS\").mean().\n",
        "              reset_index())\n",
        "#gas_prices"
      ]
    },
    {
      "cell_type": "code",
      "execution_count": null,
      "metadata": {
        "id": "bf23e364-2d07-46e9-b5f4-d17f6e3f4557"
      },
      "outputs": [],
      "source": [
        "jeff = {\"A939RX0Q048SBEA\" : \"gdp_per_capita\"}\n",
        "gdp_capita = gdp_capita.rename(jeff, axis=1)\n",
        "#GDP_per_capita"
      ]
    },
    {
      "cell_type": "code",
      "execution_count": null,
      "metadata": {
        "id": "36083e25-f339-42c1-aed3-87801d85b5d5"
      },
      "outputs": [],
      "source": [
        "debt_pct_income = {\"TDSP\" : \"debt_pct_income\"}\n",
        "debt_income = debt_income.rename(debt_pct_income, axis=1)\n",
        "#Debt_Payment"
      ]
    },
    {
      "cell_type": "code",
      "execution_count": null,
      "metadata": {
        "id": "f33604ae-56a1-4fc8-9b91-fcc9b87199a9"
      },
      "outputs": [],
      "source": [
        "Consum_Sent = {\"UMCSENT\" : \"consum_sent\"}\n",
        "consumer_sent = consumer_sent.rename(Consum_Sent, axis=1)\n",
        "#consumer_sent"
      ]
    },
    {
      "cell_type": "code",
      "execution_count": null,
      "metadata": {
        "colab": {
          "base_uri": "https://localhost:8080/",
          "height": 282
        },
        "id": "5dea247e-6d2c-4941-8f60-e2874b8daf7d",
        "outputId": "7a8db2a5-bb29-4acb-e29e-8e5b19818042"
      },
      "outputs": [
        {
          "data": {
            "text/plain": [
              "[<matplotlib.lines.Line2D at 0x7fd504c76990>]"
            ]
          },
          "execution_count": 185,
          "metadata": {},
          "output_type": "execute_result"
        },
        {
          "data": {
            "image/png": "[encoded data removed]",
            "text/plain": [
              "<Figure size 432x288 with 1 Axes>"
            ]
          },
          "metadata": {
            "needs_background": "light"
          },
          "output_type": "display_data"
        }
      ],
      "source": [
        "plt.plot(consumer_sent.Date, consumer_sent.consum_sent)"
      ]
    },
    {
      "cell_type": "code",
      "execution_count": null,
      "metadata": {
        "id": "aa389f1c-31b9-4e90-9f2a-08d2cfc98366"
      },
      "outputs": [],
      "source": [
        "data_month = gas_prices.merge(\n",
        "    unemp.merge(\n",
        "    consumer_sent, on=\"Date\", how=\"outer\"))\n",
        "#data_month.head(10)"
      ]
    },
    {
      "cell_type": "code",
      "execution_count": null,
      "metadata": {
        "id": "904031a2-7aa1-4bb7-bc5b-31aa5108e7d1"
      },
      "outputs": [],
      "source": [
        "# Pulling in Data From Box Office Mojo"
      ]
    },
    {
      "cell_type": "code",
      "execution_count": null,
      "metadata": {
        "id": "2cea29eb-b34c-4d66-b32c-ce07cb83188f"
      },
      "outputs": [],
      "source": [
        "data_qrt = data_month.set_index(\"Date\").resample(\"QS\").mean().reset_index()\n",
        "#data_qrt.head(10)"
      ]
    },
    {
      "cell_type": "code",
      "execution_count": null,
      "metadata": {
        "id": "GK5WOyh83rpP"
      },
      "outputs": [],
      "source": [
        "data_qrt = data_qrt.merge(\n",
        "    GDP.merge(\n",
        "    gdp_capita.merge(\n",
        "    PCE.merge(\n",
        "    debt_income, on=\"Date\", how = \"outer\"))))\n",
        "#data_qrt.head(10)\n"
      ]
    },
    {
      "cell_type": "code",
      "execution_count": null,
      "metadata": {
        "id": "c02fd533-2b1e-42f6-9349-8f07d4c532bc"
      },
      "outputs": [],
      "source": [
        "def get_table(url):\n",
        "    '''\n",
        "    Function gets the datatable requesuted from the boxoffice mojo\n",
        "    url and outputs to a dataframe\n",
        "    '''\n",
        "    response = requests.get(url).content\n",
        "    table = pd.read_html(response)\n",
        "    table_df = pd.DataFrame(table[-1])\n",
        "    return table_df"
      ]
    },
    {
      "cell_type": "code",
      "execution_count": null,
      "metadata": {
        "id": "d8a1b0ff-7c27-4d71-bc36-ac5a1036a30d"
      },
      "outputs": [],
      "source": [
        "url = \"https://www.boxofficemojo.com/year/?ref_=bo_nb_ml_secondarytab\"\n",
        "box_year = get_table(url)\n",
        "#box_year"
      ]
    },
    {
      "cell_type": "code",
      "execution_count": null,
      "metadata": {
        "id": "d8c2ea01-b503-4517-8b4d-d929b2a718d5"
      },
      "outputs": [],
      "source": [
        "box_jan = get_table(\"https://www.boxofficemojo.com/month/january/?grossesOption=calendarGrosses\")\n",
        "box_feb = get_table(\"https://www.boxofficemojo.com/month/february/?grossesOption=calendarGrosses\")\n",
        "box_mar = get_table(\"https://www.boxofficemojo.com/month/march/?grossesOption=calendarGrosses\")\n",
        "box_apr = get_table(\"https://www.boxofficemojo.com/month/april/?grossesOption=calendarGrosses\")\n",
        "box_may = get_table(\"https://www.boxofficemojo.com/month/may/?grossesOption=calendarGrosses\")\n",
        "box_jun = get_table(\"https://www.boxofficemojo.com/month/june/?grossesOption=calendarGrosses\")\n",
        "box_jul = get_table(\"https://www.boxofficemojo.com/month/july/?grossesOption=calendarGrosses\")\n",
        "box_aug = get_table(\"https://www.boxofficemojo.com/month/august/?grossesOption=calendarGrosses\")\n",
        "box_sep = get_table(\"https://www.boxofficemojo.com/month/september/?grossesOption=calendarGrosses\")\n",
        "box_oct = get_table(\"https://www.boxofficemojo.com/month/october/?grossesOption=calendarGrosses\")\n",
        "box_nov = get_table(\"https://www.boxofficemojo.com/month/november/?grossesOption=calendarGrosses\")\n",
        "box_dec = get_table(\"https://www.boxofficemojo.com/month/december/?grossesOption=calendarGrosses\")"
      ]
    },
    {
      "cell_type": "code",
      "execution_count": null,
      "metadata": {
        "id": "0dfebb7c-9126-4467-8a00-6d0fbe5ff28a"
      },
      "outputs": [],
      "source": [
        "#box_feb"
      ]
    },
    {
      "cell_type": "code",
      "execution_count": null,
      "metadata": {
        "id": "c8834495-0198-4743-abb2-c5af55981636"
      },
      "outputs": [],
      "source": [
        "def reduce_table(df, month: int):\n",
        "    jeff = df.drop(['%± LY', '#1 Release', 'Gross','% of Total',\n",
        "                    'Genre', 'Budget', 'Running Time'], axis=1)\n",
        "    jeff[\"month\"] = month\n",
        "    jeff[\"Date\"]= pd.to_datetime(jeff[['Year', 'month']].assign(DAY=1))\n",
        "    return jeff"
      ]
    },
    {
      "cell_type": "code",
      "execution_count": null,
      "metadata": {
        "id": "19ccfed9-9a75-4f0b-be47-9df63bbeb8e8"
      },
      "outputs": [],
      "source": [
        "box_jan = reduce_table(box_jan,1)\n",
        "box_feb = reduce_table(box_feb,2)\n",
        "box_mar = reduce_table(box_mar,3)\n",
        "box_apr = reduce_table(box_apr,4)\n",
        "box_may = reduce_table(box_may,5)\n",
        "box_jun = reduce_table(box_jun,6)\n",
        "box_jul = reduce_table(box_jul,7)\n",
        "box_aug = reduce_table(box_aug,8)\n",
        "box_sep = reduce_table(box_sep,9)\n",
        "box_oct = reduce_table(box_oct,10)\n",
        "box_nov = reduce_table(box_nov,11)\n",
        "box_dec = reduce_table(box_dec,12)"
      ]
    },
    {
      "cell_type": "code",
      "execution_count": null,
      "metadata": {
        "colab": {
          "base_uri": "https://localhost:8080/",
          "height": 235
        },
        "id": "dd9bd182-1ea6-4018-bfc7-a1657ebb9307",
        "outputId": "05e644b5-5e58-4006-9796-d5864bfbb6b4"
      },
      "outputs": [
        {
          "data": {
            "text/html": [
              "<div>\n",
              "<style scoped>\n",
              "    .dataframe tbody tr th:only-of-type {\n",
              "        vertical-align: middle;\n",
              "    }\n",
              "\n",
              "    .dataframe tbody tr th {\n",
              "        vertical-align: top;\n",
              "    }\n",
              "\n",
              "    .dataframe thead th {\n",
              "        text-align: right;\n",
              "    }\n",
              "</style>\n",
              "<table border=\"1\" class=\"dataframe\">\n",
              "  <thead>\n",
              "    <tr style=\"text-align: right;\">\n",
              "      <th></th>\n",
              "      <th>Cumulative Gross</th>\n",
              "      <th>Releases</th>\n",
              "      <th>Average</th>\n",
              "      <th>gross</th>\n",
              "    </tr>\n",
              "    <tr>\n",
              "      <th>Date</th>\n",
              "      <th></th>\n",
              "      <th></th>\n",
              "      <th></th>\n",
              "      <th></th>\n",
              "    </tr>\n",
              "  </thead>\n",
              "  <tbody>\n",
              "    <tr>\n",
              "      <th>1972-03-01</th>\n",
              "      <td>$133,698,921</td>\n",
              "      <td>1</td>\n",
              "      <td>$133,698,921</td>\n",
              "      <td>133698921</td>\n",
              "    </tr>\n",
              "    <tr>\n",
              "      <th>1972-12-01</th>\n",
              "      <td>$84,563,118</td>\n",
              "      <td>1</td>\n",
              "      <td>$84,563,118</td>\n",
              "      <td>84563118</td>\n",
              "    </tr>\n",
              "    <tr>\n",
              "      <th>1975-06-01</th>\n",
              "      <td>$23,565,886</td>\n",
              "      <td>1</td>\n",
              "      <td>$23,565,886</td>\n",
              "      <td>23565886</td>\n",
              "    </tr>\n",
              "    <tr>\n",
              "      <th>1975-07-01</th>\n",
              "      <td>$46,159,490</td>\n",
              "      <td>1</td>\n",
              "      <td>$46,159,490</td>\n",
              "      <td>46159490</td>\n",
              "    </tr>\n",
              "    <tr>\n",
              "      <th>1975-11-01</th>\n",
              "      <td>$190,274,624</td>\n",
              "      <td>1</td>\n",
              "      <td>$190,274,624</td>\n",
              "      <td>190274624</td>\n",
              "    </tr>\n",
              "  </tbody>\n",
              "</table>\n",
              "</div>"
            ],
            "text/plain": [
              "           Cumulative Gross  Releases       Average      gross\n",
              "Date                                                          \n",
              "1972-03-01     $133,698,921         1  $133,698,921  133698921\n",
              "1972-12-01      $84,563,118         1   $84,563,118   84563118\n",
              "1975-06-01      $23,565,886         1   $23,565,886   23565886\n",
              "1975-07-01      $46,159,490         1   $46,159,490   46159490\n",
              "1975-11-01     $190,274,624         1  $190,274,624  190274624"
            ]
          },
          "execution_count": 196,
          "metadata": {},
          "output_type": "execute_result"
        }
      ],
      "source": [
        "box_office = (pd.concat([box_jan,box_feb,box_mar,box_apr,box_may,box_jun,\n",
        "                        box_jul,box_aug,box_sep, box_oct, box_nov, box_dec],\n",
        "                       axis = 0)\n",
        "              .sort_values(by=[\"Date\"])\n",
        "              .set_index(\"Date\")\n",
        "              .drop([\"Year\",'month'], axis=1))\n",
        "box_office[\"gross\"] = (box_office[\"Cumulative Gross\"]\n",
        "                                  .str.replace(\"$\", \"\")\n",
        "                                  .str.replace(\",\", \"\")\n",
        "                                  .astype(int))\n",
        "\n",
        "box_office_month = box_office.copy()\n",
        "box_office_month.head()"
      ]
    },
    {
      "cell_type": "code",
      "execution_count": null,
      "metadata": {
        "id": "05b42d9b-6554-4be7-b8e1-b11d4743e92e"
      },
      "outputs": [],
      "source": [
        "box_office_qrt = box_office.resample(\"QS\").sum()\n",
        "box_office_qrt = box_office_qrt.reset_index()"
      ]
    },
    {
      "cell_type": "code",
      "execution_count": null,
      "metadata": {
        "colab": {
          "base_uri": "https://localhost:8080/",
          "height": 285
        },
        "id": "0cdf13b1-e5e1-42d1-9c2f-447bc64fdf58",
        "outputId": "4162c954-e50d-43fa-87a8-1e46fa54ae11"
      },
      "outputs": [
        {
          "data": {
            "text/plain": [
              "[<matplotlib.lines.Line2D at 0x7fd5049f5d50>]"
            ]
          },
          "execution_count": 198,
          "metadata": {},
          "output_type": "execute_result"
        },
        {
          "data": {
            "image/png": "[encoded data removed]",
            "text/plain": [
              "<Figure size 432x288 with 1 Axes>"
            ]
          },
          "metadata": {
            "needs_background": "light"
          },
          "output_type": "display_data"
        }
      ],
      "source": [
        "plt.plot(box_office_qrt.Date,box_office_qrt.Releases)"
      ]
    },
    {
      "cell_type": "code",
      "execution_count": null,
      "metadata": {
        "colab": {
          "base_uri": "https://localhost:8080/",
          "height": 204
        },
        "id": "pguILlQCI3-4",
        "outputId": "657b0ea6-86ed-4c5e-eb15-0f3872116418"
      },
      "outputs": [
        {
          "data": {
            "text/html": [
              "<div>\n",
              "<style scoped>\n",
              "    .dataframe tbody tr th:only-of-type {\n",
              "        vertical-align: middle;\n",
              "    }\n",
              "\n",
              "    .dataframe tbody tr th {\n",
              "        vertical-align: top;\n",
              "    }\n",
              "\n",
              "    .dataframe thead th {\n",
              "        text-align: right;\n",
              "    }\n",
              "</style>\n",
              "<table border=\"1\" class=\"dataframe\">\n",
              "  <thead>\n",
              "    <tr style=\"text-align: right;\">\n",
              "      <th></th>\n",
              "      <th>Date</th>\n",
              "      <th>gas_price</th>\n",
              "      <th>UNRATE</th>\n",
              "      <th>consum_sent</th>\n",
              "      <th>GDP</th>\n",
              "      <th>gdp_per_capita</th>\n",
              "      <th>PCE</th>\n",
              "      <th>debt_pct_income</th>\n",
              "      <th>Releases</th>\n",
              "      <th>gross</th>\n",
              "    </tr>\n",
              "  </thead>\n",
              "  <tbody>\n",
              "    <tr>\n",
              "      <th>0</th>\n",
              "      <td>1990-01-01</td>\n",
              "      <td>NaN</td>\n",
              "      <td>5.300000</td>\n",
              "      <td>91.266667</td>\n",
              "      <td>9364.259</td>\n",
              "      <td>37617.0</td>\n",
              "      <td>0.62198</td>\n",
              "      <td>11.649150</td>\n",
              "      <td>110</td>\n",
              "      <td>1.479302e+09</td>\n",
              "    </tr>\n",
              "    <tr>\n",
              "      <th>1</th>\n",
              "      <td>1990-04-01</td>\n",
              "      <td>NaN</td>\n",
              "      <td>5.333333</td>\n",
              "      <td>90.933333</td>\n",
              "      <td>9398.243</td>\n",
              "      <td>37636.0</td>\n",
              "      <td>0.62764</td>\n",
              "      <td>11.600660</td>\n",
              "      <td>103</td>\n",
              "      <td>1.709974e+09</td>\n",
              "    </tr>\n",
              "    <tr>\n",
              "      <th>2</th>\n",
              "      <td>1990-07-01</td>\n",
              "      <td>1.947705</td>\n",
              "      <td>5.700000</td>\n",
              "      <td>79.133333</td>\n",
              "      <td>9404.494</td>\n",
              "      <td>37529.0</td>\n",
              "      <td>0.63562</td>\n",
              "      <td>11.583131</td>\n",
              "      <td>102</td>\n",
              "      <td>2.047944e+09</td>\n",
              "    </tr>\n",
              "    <tr>\n",
              "      <th>3</th>\n",
              "      <td>1990-10-01</td>\n",
              "      <td>2.070536</td>\n",
              "      <td>6.133333</td>\n",
              "      <td>65.133333</td>\n",
              "      <td>9318.876</td>\n",
              "      <td>37056.0</td>\n",
              "      <td>0.64402</td>\n",
              "      <td>11.604449</td>\n",
              "      <td>116</td>\n",
              "      <td>1.602071e+09</td>\n",
              "    </tr>\n",
              "    <tr>\n",
              "      <th>4</th>\n",
              "      <td>1991-01-01</td>\n",
              "      <td>1.706441</td>\n",
              "      <td>6.600000</td>\n",
              "      <td>74.966667</td>\n",
              "      <td>9275.276</td>\n",
              "      <td>36769.0</td>\n",
              "      <td>0.64740</td>\n",
              "      <td>11.578032</td>\n",
              "      <td>118</td>\n",
              "      <td>1.806037e+09</td>\n",
              "    </tr>\n",
              "  </tbody>\n",
              "</table>\n",
              "</div>"
            ],
            "text/plain": [
              "        Date  gas_price    UNRATE  ...  debt_pct_income  Releases         gross\n",
              "0 1990-01-01        NaN  5.300000  ...        11.649150       110  1.479302e+09\n",
              "1 1990-04-01        NaN  5.333333  ...        11.600660       103  1.709974e+09\n",
              "2 1990-07-01   1.947705  5.700000  ...        11.583131       102  2.047944e+09\n",
              "3 1990-10-01   2.070536  6.133333  ...        11.604449       116  1.602071e+09\n",
              "4 1991-01-01   1.706441  6.600000  ...        11.578032       118  1.806037e+09\n",
              "\n",
              "[5 rows x 10 columns]"
            ]
          },
          "execution_count": 199,
          "metadata": {},
          "output_type": "execute_result"
        }
      ],
      "source": [
        "data_qrt = data_qrt.merge(box_office_qrt, on=\"Date\", how=\"outer\")\n",
        "# to account for inflation in the data to 2012 index\n",
        "data_qrt[\"PCE\"] = data_qrt[\"PCE\"] * .01\n",
        "data_qrt[\"gas_price\"] = data_qrt[\"gas_price\"]/data_qrt[\"PCE\"]\n",
        "data_qrt[\"gross\"] = data_qrt[\"gross\"]/data_qrt[\"PCE\"]\n",
        "data_qrt.head()"
      ]
    },
    {
      "cell_type": "code",
      "execution_count": null,
      "metadata": {
        "id": "19157f00-b54b-4970-af0b-5b8d992b1b3c"
      },
      "outputs": [],
      "source": [
        "# original data cleaning"
      ]
    },
    {
      "cell_type": "code",
      "execution_count": null,
      "metadata": {
        "colab": {
          "base_uri": "https://localhost:8080/"
        },
        "id": "64e0e7d9-fd5c-4624-9f9c-10f24e94c0ad",
        "outputId": "178d3fa7-1ea9-4fa2-90df-2842136f30a2"
      },
      "outputs": [
        {
          "name": "stderr",
          "output_type": "stream",
          "text": [
            "/usr/local/lib/python3.7/dist-packages/IPython/core/interactiveshell.py:2718: DtypeWarning: Columns (4,5) have mixed types.Specify dtype option on import or set low_memory=False.\n",
            "  interactivity=interactivity, compiler=compiler, result=result)\n"
          ]
        }
      ],
      "source": [
        "url = \"https://datasets.imdbws.com/title.basics.tsv.gz\"\n",
        "df = pd.read_csv(url, sep='\\t')"
      ]
    },
    {
      "cell_type": "code",
      "execution_count": null,
      "metadata": {
        "id": "a4629a72-f161-4c3d-a7e7-58cad1118169",
        "tags": []
      },
      "outputs": [],
      "source": [
        "url_1 = \"https://datasets.imdbws.com/title.ratings.tsv.gz\"\n",
        "df_ratings = pd.read_csv(\"https://datasets.imdbws.com/title.ratings.tsv.gz\", sep= '\\t')"
      ]
    },
    {
      "cell_type": "code",
      "execution_count": null,
      "metadata": {
        "colab": {
          "base_uri": "https://localhost:8080/",
          "height": 204
        },
        "id": "a9e76057-ab4d-4720-9b1a-f0ddbd02b637",
        "outputId": "7d2f97dd-ea63-4098-9c5c-f386cd9ad4cc"
      },
      "outputs": [
        {
          "data": {
            "text/html": [
              "<div>\n",
              "<style scoped>\n",
              "    .dataframe tbody tr th:only-of-type {\n",
              "        vertical-align: middle;\n",
              "    }\n",
              "\n",
              "    .dataframe tbody tr th {\n",
              "        vertical-align: top;\n",
              "    }\n",
              "\n",
              "    .dataframe thead th {\n",
              "        text-align: right;\n",
              "    }\n",
              "</style>\n",
              "<table border=\"1\" class=\"dataframe\">\n",
              "  <thead>\n",
              "    <tr style=\"text-align: right;\">\n",
              "      <th></th>\n",
              "      <th>tconst</th>\n",
              "      <th>titleType</th>\n",
              "      <th>primaryTitle</th>\n",
              "      <th>originalTitle</th>\n",
              "      <th>isAdult</th>\n",
              "      <th>startYear</th>\n",
              "      <th>endYear</th>\n",
              "      <th>runtimeMinutes</th>\n",
              "      <th>genres</th>\n",
              "    </tr>\n",
              "  </thead>\n",
              "  <tbody>\n",
              "    <tr>\n",
              "      <th>0</th>\n",
              "      <td>tt0000001</td>\n",
              "      <td>short</td>\n",
              "      <td>Carmencita</td>\n",
              "      <td>Carmencita</td>\n",
              "      <td>0</td>\n",
              "      <td>1894</td>\n",
              "      <td>\\N</td>\n",
              "      <td>1</td>\n",
              "      <td>Documentary,Short</td>\n",
              "    </tr>\n",
              "    <tr>\n",
              "      <th>1</th>\n",
              "      <td>tt0000002</td>\n",
              "      <td>short</td>\n",
              "      <td>Le clown et ses chiens</td>\n",
              "      <td>Le clown et ses chiens</td>\n",
              "      <td>0</td>\n",
              "      <td>1892</td>\n",
              "      <td>\\N</td>\n",
              "      <td>5</td>\n",
              "      <td>Animation,Short</td>\n",
              "    </tr>\n",
              "    <tr>\n",
              "      <th>2</th>\n",
              "      <td>tt0000003</td>\n",
              "      <td>short</td>\n",
              "      <td>Pauvre Pierrot</td>\n",
              "      <td>Pauvre Pierrot</td>\n",
              "      <td>0</td>\n",
              "      <td>1892</td>\n",
              "      <td>\\N</td>\n",
              "      <td>4</td>\n",
              "      <td>Animation,Comedy,Romance</td>\n",
              "    </tr>\n",
              "    <tr>\n",
              "      <th>3</th>\n",
              "      <td>tt0000004</td>\n",
              "      <td>short</td>\n",
              "      <td>Un bon bock</td>\n",
              "      <td>Un bon bock</td>\n",
              "      <td>0</td>\n",
              "      <td>1892</td>\n",
              "      <td>\\N</td>\n",
              "      <td>12</td>\n",
              "      <td>Animation,Short</td>\n",
              "    </tr>\n",
              "    <tr>\n",
              "      <th>4</th>\n",
              "      <td>tt0000005</td>\n",
              "      <td>short</td>\n",
              "      <td>Blacksmith Scene</td>\n",
              "      <td>Blacksmith Scene</td>\n",
              "      <td>0</td>\n",
              "      <td>1893</td>\n",
              "      <td>\\N</td>\n",
              "      <td>1</td>\n",
              "      <td>Comedy,Short</td>\n",
              "    </tr>\n",
              "  </tbody>\n",
              "</table>\n",
              "</div>"
            ],
            "text/plain": [
              "      tconst titleType  ... runtimeMinutes                    genres\n",
              "0  tt0000001     short  ...              1         Documentary,Short\n",
              "1  tt0000002     short  ...              5           Animation,Short\n",
              "2  tt0000003     short  ...              4  Animation,Comedy,Romance\n",
              "3  tt0000004     short  ...             12           Animation,Short\n",
              "4  tt0000005     short  ...              1              Comedy,Short\n",
              "\n",
              "[5 rows x 9 columns]"
            ]
          },
          "execution_count": 203,
          "metadata": {},
          "output_type": "execute_result"
        }
      ],
      "source": [
        "df.head()"
      ]
    },
    {
      "cell_type": "code",
      "execution_count": null,
      "metadata": {
        "colab": {
          "base_uri": "https://localhost:8080/"
        },
        "id": "b74cf4f9-cffb-40b9-a024-e58f6ea8aa56",
        "outputId": "bd156b04-6147-4d49-e815-93cdfd774fb3"
      },
      "outputs": [
        {
          "name": "stdout",
          "output_type": "stream",
          "text": [
            "['short' 'movie' 'tvEpisode' 'tvSeries' 'tvShort' 'tvMovie' 'tvMiniSeries'\n",
            " 'tvSpecial' 'video' 'videoGame' 'tvPilot']\n"
          ]
        }
      ],
      "source": [
        "df=pd.DataFrame(df)\n",
        "print(df[\"titleType\"].unique())\n",
        "df = df.query(\"titleType == 'movie' & isAdult == 0\")"
      ]
    },
    {
      "cell_type": "code",
      "execution_count": null,
      "metadata": {
        "colab": {
          "base_uri": "https://localhost:8080/",
          "height": 204
        },
        "id": "0JNKtlvTEfKL",
        "outputId": "5a88122f-8da4-4c09-9d08-8f318c836bcb"
      },
      "outputs": [
        {
          "data": {
            "text/html": [
              "<div>\n",
              "<style scoped>\n",
              "    .dataframe tbody tr th:only-of-type {\n",
              "        vertical-align: middle;\n",
              "    }\n",
              "\n",
              "    .dataframe tbody tr th {\n",
              "        vertical-align: top;\n",
              "    }\n",
              "\n",
              "    .dataframe thead th {\n",
              "        text-align: right;\n",
              "    }\n",
              "</style>\n",
              "<table border=\"1\" class=\"dataframe\">\n",
              "  <thead>\n",
              "    <tr style=\"text-align: right;\">\n",
              "      <th></th>\n",
              "      <th>tconst</th>\n",
              "      <th>titleType</th>\n",
              "      <th>primaryTitle</th>\n",
              "      <th>originalTitle</th>\n",
              "      <th>isAdult</th>\n",
              "      <th>startYear</th>\n",
              "      <th>endYear</th>\n",
              "      <th>runtimeMinutes</th>\n",
              "      <th>genres</th>\n",
              "    </tr>\n",
              "  </thead>\n",
              "  <tbody>\n",
              "    <tr>\n",
              "      <th>498</th>\n",
              "      <td>tt0000502</td>\n",
              "      <td>movie</td>\n",
              "      <td>Bohemios</td>\n",
              "      <td>Bohemios</td>\n",
              "      <td>0</td>\n",
              "      <td>1905</td>\n",
              "      <td>\\N</td>\n",
              "      <td>100</td>\n",
              "      <td>\\N</td>\n",
              "    </tr>\n",
              "    <tr>\n",
              "      <th>570</th>\n",
              "      <td>tt0000574</td>\n",
              "      <td>movie</td>\n",
              "      <td>The Story of the Kelly Gang</td>\n",
              "      <td>The Story of the Kelly Gang</td>\n",
              "      <td>0</td>\n",
              "      <td>1906</td>\n",
              "      <td>\\N</td>\n",
              "      <td>70</td>\n",
              "      <td>Action,Adventure,Biography</td>\n",
              "    </tr>\n",
              "    <tr>\n",
              "      <th>587</th>\n",
              "      <td>tt0000591</td>\n",
              "      <td>movie</td>\n",
              "      <td>The Prodigal Son</td>\n",
              "      <td>L'enfant prodigue</td>\n",
              "      <td>0</td>\n",
              "      <td>1907</td>\n",
              "      <td>\\N</td>\n",
              "      <td>90</td>\n",
              "      <td>Drama</td>\n",
              "    </tr>\n",
              "    <tr>\n",
              "      <th>610</th>\n",
              "      <td>tt0000615</td>\n",
              "      <td>movie</td>\n",
              "      <td>Robbery Under Arms</td>\n",
              "      <td>Robbery Under Arms</td>\n",
              "      <td>0</td>\n",
              "      <td>1907</td>\n",
              "      <td>\\N</td>\n",
              "      <td>\\N</td>\n",
              "      <td>Drama</td>\n",
              "    </tr>\n",
              "    <tr>\n",
              "      <th>625</th>\n",
              "      <td>tt0000630</td>\n",
              "      <td>movie</td>\n",
              "      <td>Hamlet</td>\n",
              "      <td>Amleto</td>\n",
              "      <td>0</td>\n",
              "      <td>1908</td>\n",
              "      <td>\\N</td>\n",
              "      <td>\\N</td>\n",
              "      <td>Drama</td>\n",
              "    </tr>\n",
              "  </tbody>\n",
              "</table>\n",
              "</div>"
            ],
            "text/plain": [
              "        tconst titleType  ... runtimeMinutes                      genres\n",
              "498  tt0000502     movie  ...            100                          \\N\n",
              "570  tt0000574     movie  ...             70  Action,Adventure,Biography\n",
              "587  tt0000591     movie  ...             90                       Drama\n",
              "610  tt0000615     movie  ...             \\N                       Drama\n",
              "625  tt0000630     movie  ...             \\N                       Drama\n",
              "\n",
              "[5 rows x 9 columns]"
            ]
          },
          "execution_count": 205,
          "metadata": {},
          "output_type": "execute_result"
        }
      ],
      "source": [
        "df.head()"
      ]
    },
    {
      "cell_type": "code",
      "execution_count": null,
      "metadata": {
        "colab": {
          "base_uri": "https://localhost:8080/",
          "height": 204
        },
        "id": "7f5eb1e7-9e0f-4e95-8f07-f94a63c22a54",
        "outputId": "ff328424-38e5-42f5-b1b8-98c115330068"
      },
      "outputs": [
        {
          "data": {
            "text/html": [
              "<div>\n",
              "<style scoped>\n",
              "    .dataframe tbody tr th:only-of-type {\n",
              "        vertical-align: middle;\n",
              "    }\n",
              "\n",
              "    .dataframe tbody tr th {\n",
              "        vertical-align: top;\n",
              "    }\n",
              "\n",
              "    .dataframe thead th {\n",
              "        text-align: right;\n",
              "    }\n",
              "</style>\n",
              "<table border=\"1\" class=\"dataframe\">\n",
              "  <thead>\n",
              "    <tr style=\"text-align: right;\">\n",
              "      <th></th>\n",
              "      <th>tconst</th>\n",
              "      <th>averageRating</th>\n",
              "      <th>numVotes</th>\n",
              "    </tr>\n",
              "  </thead>\n",
              "  <tbody>\n",
              "    <tr>\n",
              "      <th>0</th>\n",
              "      <td>tt0000001</td>\n",
              "      <td>5.7</td>\n",
              "      <td>1841</td>\n",
              "    </tr>\n",
              "    <tr>\n",
              "      <th>1</th>\n",
              "      <td>tt0000002</td>\n",
              "      <td>6.0</td>\n",
              "      <td>236</td>\n",
              "    </tr>\n",
              "    <tr>\n",
              "      <th>2</th>\n",
              "      <td>tt0000003</td>\n",
              "      <td>6.5</td>\n",
              "      <td>1603</td>\n",
              "    </tr>\n",
              "    <tr>\n",
              "      <th>3</th>\n",
              "      <td>tt0000004</td>\n",
              "      <td>6.0</td>\n",
              "      <td>153</td>\n",
              "    </tr>\n",
              "    <tr>\n",
              "      <th>4</th>\n",
              "      <td>tt0000005</td>\n",
              "      <td>6.2</td>\n",
              "      <td>2422</td>\n",
              "    </tr>\n",
              "  </tbody>\n",
              "</table>\n",
              "</div>"
            ],
            "text/plain": [
              "      tconst  averageRating  numVotes\n",
              "0  tt0000001            5.7      1841\n",
              "1  tt0000002            6.0       236\n",
              "2  tt0000003            6.5      1603\n",
              "3  tt0000004            6.0       153\n",
              "4  tt0000005            6.2      2422"
            ]
          },
          "execution_count": 206,
          "metadata": {},
          "output_type": "execute_result"
        }
      ],
      "source": [
        "df_ratings.head()"
      ]
    },
    {
      "cell_type": "code",
      "execution_count": null,
      "metadata": {
        "colab": {
          "base_uri": "https://localhost:8080/",
          "height": 204
        },
        "id": "666d17b0-03e3-409d-811d-0528b5a9897d",
        "outputId": "8a9e8f99-66f1-4cf7-ab82-7ed710f03682"
      },
      "outputs": [
        {
          "data": {
            "text/html": [
              "<div>\n",
              "<style scoped>\n",
              "    .dataframe tbody tr th:only-of-type {\n",
              "        vertical-align: middle;\n",
              "    }\n",
              "\n",
              "    .dataframe tbody tr th {\n",
              "        vertical-align: top;\n",
              "    }\n",
              "\n",
              "    .dataframe thead th {\n",
              "        text-align: right;\n",
              "    }\n",
              "</style>\n",
              "<table border=\"1\" class=\"dataframe\">\n",
              "  <thead>\n",
              "    <tr style=\"text-align: right;\">\n",
              "      <th></th>\n",
              "      <th>tconst</th>\n",
              "      <th>startYear</th>\n",
              "    </tr>\n",
              "  </thead>\n",
              "  <tbody>\n",
              "    <tr>\n",
              "      <th>498</th>\n",
              "      <td>tt0000502</td>\n",
              "      <td>1905</td>\n",
              "    </tr>\n",
              "    <tr>\n",
              "      <th>570</th>\n",
              "      <td>tt0000574</td>\n",
              "      <td>1906</td>\n",
              "    </tr>\n",
              "    <tr>\n",
              "      <th>587</th>\n",
              "      <td>tt0000591</td>\n",
              "      <td>1907</td>\n",
              "    </tr>\n",
              "    <tr>\n",
              "      <th>610</th>\n",
              "      <td>tt0000615</td>\n",
              "      <td>1907</td>\n",
              "    </tr>\n",
              "    <tr>\n",
              "      <th>625</th>\n",
              "      <td>tt0000630</td>\n",
              "      <td>1908</td>\n",
              "    </tr>\n",
              "  </tbody>\n",
              "</table>\n",
              "</div>"
            ],
            "text/plain": [
              "        tconst startYear\n",
              "498  tt0000502      1905\n",
              "570  tt0000574      1906\n",
              "587  tt0000591      1907\n",
              "610  tt0000615      1907\n",
              "625  tt0000630      1908"
            ]
          },
          "execution_count": 207,
          "metadata": {},
          "output_type": "execute_result"
        }
      ],
      "source": [
        "movies = df[[\"tconst\",\"startYear\",]]\n",
        "movies.head()"
      ]
    },
    {
      "cell_type": "code",
      "execution_count": null,
      "metadata": {
        "colab": {
          "base_uri": "https://localhost:8080/"
        },
        "id": "ca979b5f-62de-4abd-98c0-360eae77576b",
        "outputId": "246e8370-31a0-4621-8a92-8bfaa824d426",
        "tags": []
      },
      "outputs": [
        {
          "data": {
            "text/plain": [
              "array([1905, 1906, 1907, 1908, 1909, 1910, 1912, 1911, 1913, 1915, 1914,\n",
              "       1919, 1916, 1917, 1936, 1925, 1918, 1920, 1922, 1921, 2019, 1924,\n",
              "       1923, 1928, 1926, 1927, 1929, 2000, 1993, 1935, 2014, 1930, 1942,\n",
              "       1932, 1931, 1934, 1939, 1937, 1933, 1950, 1938, 1951, 1946, 1996,\n",
              "       1940, 1944, 1947, 1941, 1952, 1970, 1957, 1943, 1948, 1945, 2001,\n",
              "       1949, 1953, 2008, 1954, 1965, 1983, 1980, 1973, 1961, 1955, 1962,\n",
              "       1958, 1956, 1977, 1964, 1967, 1960, 1959, 1968, 1963, 1971, 1969,\n",
              "       1972, 1966, 1976, 1990, 1979, 1981, 2020, 1975, 1978, 1989, 1974,\n",
              "       1986, '1971', '1972', '1970', '1974', '1973', '1976', '1969',\n",
              "       '1981', '1968', '1985', '1986', '1987', '1975', '1965', '1978',\n",
              "       '1967', '1990', '2018', '1977', '1979', '1984', '1966', '1988',\n",
              "       '1982', '\\\\N', '1980', '1983', '1991', '1963', '2001', '1961',\n",
              "       '1989', '1994', '1993', '1964', '1957', '2019', '1992', '2017',\n",
              "       '2005', '1953', '2004', '1998', '2020', '1947', '1995', '2002',\n",
              "       '1996', '1997', '2000', '1945', '1956', '2021', '1999', '2006',\n",
              "       '1955', '1949', '2008', '2003', '2007', '1930', '1938', '1959',\n",
              "       '1960', '1944', '1935', '1962', '1951', '1954', '1952', '1958',\n",
              "       '1918', '1943', '1921', '1941', '1939', '1940', '1950', '1946',\n",
              "       '1916', '1934', '2009', '1948', '1933', '1929', '1936', '1925',\n",
              "       '1932', '1928', '1917', '1919', '1926', '1937', '1931', '1920',\n",
              "       '1942', '1922', '1927', '1923', '1924', '1915', '1914', '1913',\n",
              "       '1911', '2010', '1912', '1909', '1910', '1905', '1898', '1899',\n",
              "       '2012', '1908', '2013', '1906', '1907', '2011', '1904', '2015',\n",
              "       '1897', '1901', '1902', '1900', '1903', '2016', '2014', '2022',\n",
              "       '2023', '2024', '2025', '2027', '2026', '2028', '1896'],\n",
              "      dtype=object)"
            ]
          },
          "execution_count": 208,
          "metadata": {},
          "output_type": "execute_result"
        }
      ],
      "source": [
        "movies[\"startYear\"].unique()"
      ]
    },
    {
      "cell_type": "code",
      "execution_count": null,
      "metadata": {
        "colab": {
          "base_uri": "https://localhost:8080/"
        },
        "id": "7b4bea28-6374-4e04-b6b5-e844e9dc5a00",
        "outputId": "ceb0f9a5-d5c6-49da-e81a-c2045a8a13c3",
        "tags": []
      },
      "outputs": [
        {
          "data": {
            "text/plain": [
              "array([1905, 1906, 1907, 1908, 1909, 1910, 1912, 1911, 1913, 1915, 1914,\n",
              "       1919, 1916, 1917, 1936, 1925, 1918, 1920, 1922, 1921, 2019, 1924,\n",
              "       1923, 1928, 1926, 1927, 1929, 2000, 1993, 1935, 2014, 1930, 1942,\n",
              "       1932, 1931, 1934, 1939, 1937, 1933, 1950, 1938, 1951, 1946, 1996,\n",
              "       1940, 1944, 1947, 1941, 1952, 1970, 1957, 1943, 1948, 1945, 2001,\n",
              "       1949, 1953, 2008, 1954, 1965, 1983, 1980, 1973, 1961, 1955, 1962,\n",
              "       1958, 1956, 1977, 1964, 1967, 1960, 1959, 1968, 1963, 1971, 1969,\n",
              "       1972, 1966, 1976, 1990, 1979, 1981, 2020, 1975, 1978, 1989, 1974,\n",
              "       1986, '1971', '1972', '1970', '1974', '1973', '1976', '1969',\n",
              "       '1981', '1968', '1985', '1986', '1987', '1975', '1965', '1978',\n",
              "       '1967', '1990', '2018', '1977', '1979', '1984', '1966', '1988',\n",
              "       '1982', '1980', '1983', '1991', '1963', '2001', '1961', '1989',\n",
              "       '1994', '1993', '1964', '1957', '2019', '1992', '2017', '2005',\n",
              "       '1953', '2004', '1998', '2020', '1947', '1995', '2002', '1996',\n",
              "       '1997', '2000', '1945', '1956', '2021', '1999', '2006', '1955',\n",
              "       '1949', '2008', '2003', '2007', '1930', '1938', '1959', '1960',\n",
              "       '1944', '1935', '1962', '1951', '1954', '1952', '1958', '1918',\n",
              "       '1943', '1921', '1941', '1939', '1940', '1950', '1946', '1916',\n",
              "       '1934', '2009', '1948', '1933', '1929', '1936', '1925', '1932',\n",
              "       '1928', '1917', '1919', '1926', '1937', '1931', '1920', '1942',\n",
              "       '1922', '1927', '1923', '1924', '1915', '1914', '1913', '1911',\n",
              "       '2010', '1912', '1909', '1910', '1905', '1898', '1899', '2012',\n",
              "       '1908', '2013', '1906', '1907', '2011', '1904', '2015', '1897',\n",
              "       '1901', '1902', '1900', '1903', '2016', '2014', '2022', '2023',\n",
              "       '2024', '2025', '2027', '2026', '2028', '1896'], dtype=object)"
            ]
          },
          "execution_count": 209,
          "metadata": {},
          "output_type": "execute_result"
        }
      ],
      "source": [
        "movies = movies[movies.startYear != \"nan\"]\n",
        "movies = movies[movies.startYear != \"\\\\N\"]\n",
        "movies[\"startYear\"].unique()"
      ]
    },
    {
      "cell_type": "code",
      "execution_count": null,
      "metadata": {
        "id": "550d344e-6500-4b3d-b33f-6ecc8b3aa06d"
      },
      "outputs": [],
      "source": [
        "movies[\"startYear\"] = pd.to_datetime(movies[\"startYear\"], format=\"%Y\") #used to_numeric before"
      ]
    },
    {
      "cell_type": "code",
      "execution_count": null,
      "metadata": {
        "colab": {
          "base_uri": "https://localhost:8080/",
          "height": 450
        },
        "id": "335f7c0c-01c9-42b6-8291-7e705a9ecbf0",
        "outputId": "58a66703-7d54-47ea-fdf7-965a5084187e"
      },
      "outputs": [
        {
          "data": {
            "text/html": [
              "<div>\n",
              "<style scoped>\n",
              "    .dataframe tbody tr th:only-of-type {\n",
              "        vertical-align: middle;\n",
              "    }\n",
              "\n",
              "    .dataframe tbody tr th {\n",
              "        vertical-align: top;\n",
              "    }\n",
              "\n",
              "    .dataframe thead th {\n",
              "        text-align: right;\n",
              "    }\n",
              "</style>\n",
              "<table border=\"1\" class=\"dataframe\">\n",
              "  <thead>\n",
              "    <tr style=\"text-align: right;\">\n",
              "      <th></th>\n",
              "      <th>tconst</th>\n",
              "    </tr>\n",
              "    <tr>\n",
              "      <th>startYear</th>\n",
              "      <th></th>\n",
              "    </tr>\n",
              "  </thead>\n",
              "  <tbody>\n",
              "    <tr>\n",
              "      <th>1905-01-01</th>\n",
              "      <td>tt0000502</td>\n",
              "    </tr>\n",
              "    <tr>\n",
              "      <th>1906-01-01</th>\n",
              "      <td>tt0000574</td>\n",
              "    </tr>\n",
              "    <tr>\n",
              "      <th>1907-01-01</th>\n",
              "      <td>tt0000591</td>\n",
              "    </tr>\n",
              "    <tr>\n",
              "      <th>1907-01-01</th>\n",
              "      <td>tt0000615</td>\n",
              "    </tr>\n",
              "    <tr>\n",
              "      <th>1908-01-01</th>\n",
              "      <td>tt0000630</td>\n",
              "    </tr>\n",
              "    <tr>\n",
              "      <th>...</th>\n",
              "      <td>...</td>\n",
              "    </tr>\n",
              "    <tr>\n",
              "      <th>2015-01-01</th>\n",
              "      <td>tt9916622</td>\n",
              "    </tr>\n",
              "    <tr>\n",
              "      <th>2007-01-01</th>\n",
              "      <td>tt9916680</td>\n",
              "    </tr>\n",
              "    <tr>\n",
              "      <th>2013-01-01</th>\n",
              "      <td>tt9916706</td>\n",
              "    </tr>\n",
              "    <tr>\n",
              "      <th>2017-01-01</th>\n",
              "      <td>tt9916730</td>\n",
              "    </tr>\n",
              "    <tr>\n",
              "      <th>2013-01-01</th>\n",
              "      <td>tt9916754</td>\n",
              "    </tr>\n",
              "  </tbody>\n",
              "</table>\n",
              "<p>507946 rows × 1 columns</p>\n",
              "</div>"
            ],
            "text/plain": [
              "               tconst\n",
              "startYear            \n",
              "1905-01-01  tt0000502\n",
              "1906-01-01  tt0000574\n",
              "1907-01-01  tt0000591\n",
              "1907-01-01  tt0000615\n",
              "1908-01-01  tt0000630\n",
              "...               ...\n",
              "2015-01-01  tt9916622\n",
              "2007-01-01  tt9916680\n",
              "2013-01-01  tt9916706\n",
              "2017-01-01  tt9916730\n",
              "2013-01-01  tt9916754\n",
              "\n",
              "[507946 rows x 1 columns]"
            ]
          },
          "execution_count": 211,
          "metadata": {},
          "output_type": "execute_result"
        }
      ],
      "source": [
        "movies = movies.set_index(\"startYear\")\n",
        "movies"
      ]
    },
    {
      "cell_type": "code",
      "execution_count": null,
      "metadata": {
        "id": "2535351b-efb6-4236-a238-7e42d813ede2"
      },
      "outputs": [],
      "source": [
        "movies = movies.loc[\"1980\":\"2019\"]"
      ]
    },
    {
      "cell_type": "code",
      "execution_count": null,
      "metadata": {
        "colab": {
          "base_uri": "https://localhost:8080/",
          "height": 419
        },
        "id": "553f2e6b-bda2-4777-b605-363144a91619",
        "outputId": "0d7b3930-06d8-471f-b186-e170570fedb9"
      },
      "outputs": [
        {
          "data": {
            "text/html": [
              "<div>\n",
              "<style scoped>\n",
              "    .dataframe tbody tr th:only-of-type {\n",
              "        vertical-align: middle;\n",
              "    }\n",
              "\n",
              "    .dataframe tbody tr th {\n",
              "        vertical-align: top;\n",
              "    }\n",
              "\n",
              "    .dataframe thead th {\n",
              "        text-align: right;\n",
              "    }\n",
              "</style>\n",
              "<table border=\"1\" class=\"dataframe\">\n",
              "  <thead>\n",
              "    <tr style=\"text-align: right;\">\n",
              "      <th></th>\n",
              "      <th>startYear</th>\n",
              "      <th>tconst</th>\n",
              "    </tr>\n",
              "  </thead>\n",
              "  <tbody>\n",
              "    <tr>\n",
              "      <th>0</th>\n",
              "      <td>2019-01-01</td>\n",
              "      <td>tt0011216</td>\n",
              "    </tr>\n",
              "    <tr>\n",
              "      <th>1</th>\n",
              "      <td>2019-01-01</td>\n",
              "      <td>tt0011801</td>\n",
              "    </tr>\n",
              "    <tr>\n",
              "      <th>2</th>\n",
              "      <td>2000-01-01</td>\n",
              "      <td>tt0015414</td>\n",
              "    </tr>\n",
              "    <tr>\n",
              "      <th>3</th>\n",
              "      <td>1993-01-01</td>\n",
              "      <td>tt0015724</td>\n",
              "    </tr>\n",
              "    <tr>\n",
              "      <th>4</th>\n",
              "      <td>2014-01-01</td>\n",
              "      <td>tt0016906</td>\n",
              "    </tr>\n",
              "    <tr>\n",
              "      <th>...</th>\n",
              "      <td>...</td>\n",
              "      <td>...</td>\n",
              "    </tr>\n",
              "    <tr>\n",
              "      <th>312740</th>\n",
              "      <td>2015-01-01</td>\n",
              "      <td>tt9916622</td>\n",
              "    </tr>\n",
              "    <tr>\n",
              "      <th>312741</th>\n",
              "      <td>2007-01-01</td>\n",
              "      <td>tt9916680</td>\n",
              "    </tr>\n",
              "    <tr>\n",
              "      <th>312742</th>\n",
              "      <td>2013-01-01</td>\n",
              "      <td>tt9916706</td>\n",
              "    </tr>\n",
              "    <tr>\n",
              "      <th>312743</th>\n",
              "      <td>2017-01-01</td>\n",
              "      <td>tt9916730</td>\n",
              "    </tr>\n",
              "    <tr>\n",
              "      <th>312744</th>\n",
              "      <td>2013-01-01</td>\n",
              "      <td>tt9916754</td>\n",
              "    </tr>\n",
              "  </tbody>\n",
              "</table>\n",
              "<p>312745 rows × 2 columns</p>\n",
              "</div>"
            ],
            "text/plain": [
              "        startYear     tconst\n",
              "0      2019-01-01  tt0011216\n",
              "1      2019-01-01  tt0011801\n",
              "2      2000-01-01  tt0015414\n",
              "3      1993-01-01  tt0015724\n",
              "4      2014-01-01  tt0016906\n",
              "...           ...        ...\n",
              "312740 2015-01-01  tt9916622\n",
              "312741 2007-01-01  tt9916680\n",
              "312742 2013-01-01  tt9916706\n",
              "312743 2017-01-01  tt9916730\n",
              "312744 2013-01-01  tt9916754\n",
              "\n",
              "[312745 rows x 2 columns]"
            ]
          },
          "execution_count": 213,
          "metadata": {},
          "output_type": "execute_result"
        }
      ],
      "source": [
        "movies = movies.reset_index()\n",
        "movies"
      ]
    },
    {
      "cell_type": "code",
      "execution_count": null,
      "metadata": {
        "id": "39479562-cbd8-4ed4-bbfa-ed01fbfae73d"
      },
      "outputs": [],
      "source": [
        "#movies = movies.loc[movies[\"desired\"] == True]\n",
        "#movies"
      ]
    },
    {
      "cell_type": "code",
      "execution_count": null,
      "metadata": {
        "colab": {
          "base_uri": "https://localhost:8080/"
        },
        "id": "bfba2cbf-ce93-4c10-a697-346a4918fb45",
        "outputId": "a214a50a-a458-4202-e0f3-4205a3d248d2"
      },
      "outputs": [
        {
          "data": {
            "text/plain": [
              "array(['2019-01-01T00:00:00.000000000', '2000-01-01T00:00:00.000000000',\n",
              "       '1993-01-01T00:00:00.000000000', '2014-01-01T00:00:00.000000000',\n",
              "       '1996-01-01T00:00:00.000000000', '2001-01-01T00:00:00.000000000',\n",
              "       '2008-01-01T00:00:00.000000000', '1983-01-01T00:00:00.000000000',\n",
              "       '1980-01-01T00:00:00.000000000', '1990-01-01T00:00:00.000000000',\n",
              "       '1981-01-01T00:00:00.000000000', '1989-01-01T00:00:00.000000000',\n",
              "       '1986-01-01T00:00:00.000000000', '1985-01-01T00:00:00.000000000',\n",
              "       '1987-01-01T00:00:00.000000000', '2018-01-01T00:00:00.000000000',\n",
              "       '1984-01-01T00:00:00.000000000', '1988-01-01T00:00:00.000000000',\n",
              "       '1982-01-01T00:00:00.000000000', '1991-01-01T00:00:00.000000000',\n",
              "       '1994-01-01T00:00:00.000000000', '1992-01-01T00:00:00.000000000',\n",
              "       '2017-01-01T00:00:00.000000000', '2005-01-01T00:00:00.000000000',\n",
              "       '2004-01-01T00:00:00.000000000', '1998-01-01T00:00:00.000000000',\n",
              "       '1995-01-01T00:00:00.000000000', '2002-01-01T00:00:00.000000000',\n",
              "       '1997-01-01T00:00:00.000000000', '1999-01-01T00:00:00.000000000',\n",
              "       '2006-01-01T00:00:00.000000000', '2003-01-01T00:00:00.000000000',\n",
              "       '2007-01-01T00:00:00.000000000', '2009-01-01T00:00:00.000000000',\n",
              "       '2010-01-01T00:00:00.000000000', '2012-01-01T00:00:00.000000000',\n",
              "       '2013-01-01T00:00:00.000000000', '2011-01-01T00:00:00.000000000',\n",
              "       '2015-01-01T00:00:00.000000000', '2016-01-01T00:00:00.000000000'],\n",
              "      dtype='datetime64[ns]')"
            ]
          },
          "execution_count": 215,
          "metadata": {},
          "output_type": "execute_result"
        }
      ],
      "source": [
        "movies[\"startYear\"].unique()"
      ]
    },
    {
      "cell_type": "code",
      "execution_count": null,
      "metadata": {
        "colab": {
          "base_uri": "https://localhost:8080/",
          "height": 255
        },
        "id": "3b36d8c9-4c4c-4004-b861-6c119d5bbfd4",
        "outputId": "a343dc9d-51b5-467e-9a82-5298abd0a493"
      },
      "outputs": [
        {
          "name": "stdout",
          "output_type": "stream",
          "text": [
            "startYear    datetime64[ns]\n",
            "tconst               object\n",
            "dtype: object\n"
          ]
        },
        {
          "data": {
            "text/html": [
              "<div>\n",
              "<style scoped>\n",
              "    .dataframe tbody tr th:only-of-type {\n",
              "        vertical-align: middle;\n",
              "    }\n",
              "\n",
              "    .dataframe tbody tr th {\n",
              "        vertical-align: top;\n",
              "    }\n",
              "\n",
              "    .dataframe thead th {\n",
              "        text-align: right;\n",
              "    }\n",
              "</style>\n",
              "<table border=\"1\" class=\"dataframe\">\n",
              "  <thead>\n",
              "    <tr style=\"text-align: right;\">\n",
              "      <th></th>\n",
              "      <th>startYear</th>\n",
              "      <th>tconst</th>\n",
              "    </tr>\n",
              "  </thead>\n",
              "  <tbody>\n",
              "    <tr>\n",
              "      <th>0</th>\n",
              "      <td>2019-01-01</td>\n",
              "      <td>tt0011216</td>\n",
              "    </tr>\n",
              "    <tr>\n",
              "      <th>1</th>\n",
              "      <td>2019-01-01</td>\n",
              "      <td>tt0011801</td>\n",
              "    </tr>\n",
              "    <tr>\n",
              "      <th>2</th>\n",
              "      <td>2000-01-01</td>\n",
              "      <td>tt0015414</td>\n",
              "    </tr>\n",
              "    <tr>\n",
              "      <th>3</th>\n",
              "      <td>1993-01-01</td>\n",
              "      <td>tt0015724</td>\n",
              "    </tr>\n",
              "    <tr>\n",
              "      <th>4</th>\n",
              "      <td>2014-01-01</td>\n",
              "      <td>tt0016906</td>\n",
              "    </tr>\n",
              "  </tbody>\n",
              "</table>\n",
              "</div>"
            ],
            "text/plain": [
              "   startYear     tconst\n",
              "0 2019-01-01  tt0011216\n",
              "1 2019-01-01  tt0011801\n",
              "2 2000-01-01  tt0015414\n",
              "3 1993-01-01  tt0015724\n",
              "4 2014-01-01  tt0016906"
            ]
          },
          "execution_count": 216,
          "metadata": {},
          "output_type": "execute_result"
        }
      ],
      "source": [
        "print(movies.dtypes)\n",
        "movies.head()"
      ]
    },
    {
      "cell_type": "code",
      "execution_count": null,
      "metadata": {
        "colab": {
          "base_uri": "https://localhost:8080/"
        },
        "id": "e37c21fb-5e7b-4ef7-93b7-7393bcb4fdfa",
        "outputId": "13217514-cfa3-4770-f838-e678524fb6eb"
      },
      "outputs": [
        {
          "data": {
            "text/plain": [
              "<bound method DataFrame.info of            tconst  startYear  averageRating  numVotes\n",
              "0       tt0011216 2019-01-01            6.9        29\n",
              "1       tt0015414 2000-01-01            5.3        15\n",
              "2       tt0015724 1993-01-01            6.2        25\n",
              "3       tt0016906 2014-01-01            5.6        19\n",
              "4       tt0025541 1996-01-01            7.5        21\n",
              "...           ...        ...            ...       ...\n",
              "181848  tt9916132 2018-01-01            4.0         7\n",
              "181849  tt9916160 2019-01-01            6.4        48\n",
              "181850  tt9916170 2019-01-01            7.2         5\n",
              "181851  tt9916428 2019-01-01            3.8        14\n",
              "181852  tt9916538 2019-01-01            8.3         6\n",
              "\n",
              "[181853 rows x 4 columns]>"
            ]
          },
          "execution_count": 217,
          "metadata": {},
          "output_type": "execute_result"
        }
      ],
      "source": [
        "rated = pd.merge(movies[[\"tconst\",\"startYear\"]], df_ratings, on=\"tconst\", how=\"inner\")\n",
        "rated.info"
      ]
    },
    {
      "cell_type": "code",
      "execution_count": null,
      "metadata": {
        "colab": {
          "base_uri": "https://localhost:8080/",
          "height": 204
        },
        "id": "fd4f844f-9e47-4ccf-b515-42a1f2063fe0",
        "outputId": "210e6242-8aa9-4552-bc8b-240cad33d916"
      },
      "outputs": [
        {
          "data": {
            "text/html": [
              "<div>\n",
              "<style scoped>\n",
              "    .dataframe tbody tr th:only-of-type {\n",
              "        vertical-align: middle;\n",
              "    }\n",
              "\n",
              "    .dataframe tbody tr th {\n",
              "        vertical-align: top;\n",
              "    }\n",
              "\n",
              "    .dataframe thead th {\n",
              "        text-align: right;\n",
              "    }\n",
              "</style>\n",
              "<table border=\"1\" class=\"dataframe\">\n",
              "  <thead>\n",
              "    <tr style=\"text-align: right;\">\n",
              "      <th></th>\n",
              "      <th>tconst</th>\n",
              "      <th>startYear</th>\n",
              "      <th>averageRating</th>\n",
              "      <th>numVotes</th>\n",
              "    </tr>\n",
              "  </thead>\n",
              "  <tbody>\n",
              "    <tr>\n",
              "      <th>42805</th>\n",
              "      <td>tt0292377</td>\n",
              "      <td>1980-01-01</td>\n",
              "      <td>4.8</td>\n",
              "      <td>41</td>\n",
              "    </tr>\n",
              "    <tr>\n",
              "      <th>59828</th>\n",
              "      <td>tt0438998</td>\n",
              "      <td>1980-01-01</td>\n",
              "      <td>6.5</td>\n",
              "      <td>49</td>\n",
              "    </tr>\n",
              "    <tr>\n",
              "      <th>90738</th>\n",
              "      <td>tt1416827</td>\n",
              "      <td>1980-01-01</td>\n",
              "      <td>8.9</td>\n",
              "      <td>26</td>\n",
              "    </tr>\n",
              "    <tr>\n",
              "      <th>1664</th>\n",
              "      <td>tt0082814</td>\n",
              "      <td>1980-01-01</td>\n",
              "      <td>6.3</td>\n",
              "      <td>14</td>\n",
              "    </tr>\n",
              "    <tr>\n",
              "      <th>48393</th>\n",
              "      <td>tt0337423</td>\n",
              "      <td>1980-01-01</td>\n",
              "      <td>6.9</td>\n",
              "      <td>19</td>\n",
              "    </tr>\n",
              "  </tbody>\n",
              "</table>\n",
              "</div>"
            ],
            "text/plain": [
              "          tconst  startYear  averageRating  numVotes\n",
              "42805  tt0292377 1980-01-01            4.8        41\n",
              "59828  tt0438998 1980-01-01            6.5        49\n",
              "90738  tt1416827 1980-01-01            8.9        26\n",
              "1664   tt0082814 1980-01-01            6.3        14\n",
              "48393  tt0337423 1980-01-01            6.9        19"
            ]
          },
          "execution_count": 218,
          "metadata": {},
          "output_type": "execute_result"
        }
      ],
      "source": [
        "rated = rated.sort_values(\"startYear\")\n",
        "rated.head()"
      ]
    },
    {
      "cell_type": "code",
      "execution_count": null,
      "metadata": {
        "colab": {
          "base_uri": "https://localhost:8080/",
          "height": 296
        },
        "id": "20886f3a-5825-4649-8410-f193f07d06e8",
        "outputId": "c35fb84d-ab0c-4fe5-c386-8c62a8bfeb31"
      },
      "outputs": [
        {
          "data": {
            "text/plain": [
              "<matplotlib.axes._subplots.AxesSubplot at 0x7fd4a7108890>"
            ]
          },
          "execution_count": 219,
          "metadata": {},
          "output_type": "execute_result"
        },
        {
          "data": {
            "image/png": "[encoded data removed]",
            "text/plain": [
              "<Figure size 432x288 with 1 Axes>"
            ]
          },
          "metadata": {
            "needs_background": "light"
          },
          "output_type": "display_data"
        }
      ],
      "source": [
        "rated.plot(x=\"startYear\", y=\"averageRating\", kind=\"scatter\", color=\"r\")"
      ]
    },
    {
      "cell_type": "code",
      "execution_count": null,
      "metadata": {
        "id": "232ba417-e7f1-4480-813a-264ef0dd9a9f"
      },
      "outputs": [],
      "source": [
        "rated = rated.groupby(\"startYear\").mean()"
      ]
    },
    {
      "cell_type": "code",
      "execution_count": null,
      "metadata": {
        "id": "472a94e8-deba-445c-a425-65e5712c6e26"
      },
      "outputs": [],
      "source": [
        "final = rated.head(52)"
      ]
    },
    {
      "cell_type": "code",
      "execution_count": null,
      "metadata": {
        "colab": {
          "base_uri": "https://localhost:8080/",
          "height": 296
        },
        "id": "41446372-f34a-4e26-b713-09ba9f3bac99",
        "outputId": "7d7600f9-525a-4509-ec86-b4e10f399db8"
      },
      "outputs": [
        {
          "data": {
            "text/plain": [
              "<matplotlib.axes._subplots.AxesSubplot at 0x7fd4a70dbf90>"
            ]
          },
          "execution_count": 222,
          "metadata": {},
          "output_type": "execute_result"
        },
        {
          "data": {
            "image/png": "[encoded data removed]",
            "text/plain": [
              "<Figure size 432x288 with 1 Axes>"
            ]
          },
          "metadata": {
            "needs_background": "light"
          },
          "output_type": "display_data"
        }
      ],
      "source": [
        "final = pd.DataFrame(final).reset_index()\n",
        "final.plot(x=\"startYear\", y=\"averageRating\", kind=\"scatter\", color=\"r\")"
      ]
    },
    {
      "cell_type": "code",
      "execution_count": null,
      "metadata": {
        "id": "64e90a3a-31af-4589-9e22-7606f713201c"
      },
      "outputs": [],
      "source": [
        "final.to_csv(\"Average Movie Ratings.csv\")"
      ]
    },
    {
      "cell_type": "code",
      "execution_count": null,
      "metadata": {
        "id": "93e455f1-39ac-46dc-928d-55cf794e6a54",
        "tags": []
      },
      "outputs": [],
      "source": []
    },
    {
      "cell_type": "code",
      "execution_count": null,
      "metadata": {
        "colab": {
          "base_uri": "https://localhost:8080/",
          "height": 122
        },
        "id": "oJ-OsNJAp52I",
        "outputId": "81858dda-b3b8-46bf-e4f7-029df2f989f8"
      },
      "outputs": [
        {
          "data": {
            "application/vnd.google.colaboratory.intrinsic+json": {
              "type": "string"
            },
            "text/plain": [
              "'\\nWant\\n\\n\\t\\t1-How does economic growth affect the overall supply of the cinema entertainment?\\n\\t\\t\\t-Plot GDP per capita, Consumer Sentiment, unemployment rate, movie releases:\\n\\t\\t\\t\\t-We got the movie releases (=box_office_qrt) graph\\n\\t\\t\\t\\t-We got the gdp_capita graph\\n\\t\\t\\t\\t-We got the consumer_sent graph\\n\\t\\t\\t\\t-We got the consumer_sent graph\\n\\t\\t1.1-How does economic growth affect the overall supply of the cinema entertainment?\\n\\t\\t\\t-Plot GDP per capita, Consumer Sentiment, unemployment rate, tickets sold per year quarter\\n\\t\\t2-How does it shift the respective market shares of different genres?\\n\\t\\t3-Do other externa factors besides the state of the economy have more explanatory power concerning supply and demand?--> here we could look at netflix.\\n\\t\\t4-Consumer confidence increased. *Key indicator to evaluate*\\n'"
            ]
          },
          "execution_count": 224,
          "metadata": {},
          "output_type": "execute_result"
        }
      ],
      "source": [
        "# Visualization\n",
        "'''\n",
        "Want\n",
        "\n",
        "\t\t1-How does economic growth affect the overall supply of the cinema entertainment?\n",
        "\t\t\t-Plot GDP per capita, Consumer Sentiment, unemployment rate, movie releases:\n",
        "\t\t\t\t-We got the movie releases (=box_office_qrt) graph\n",
        "\t\t\t\t-We got the gdp_capita graph\n",
        "\t\t\t\t-We got the consumer_sent graph\n",
        "\t\t\t\t-We got the consumer_sent graph\n",
        "\t\t\t\t\t-Problems:\n",
        "\t\t\t\t\t\t-Merged column shows data from 1990, but we want it from 1980\n",
        "\t\t\t\t\t\t-GDP_per_capita has larger with respect to unemployment_rate and consumer sentiment. Thus, it needs to be plotted in a different graph\n",
        "\t\t\t\t\t\t-I cannot merge the df from box_office_qrt with data_qrt because on “Date” because the the quarters are measured differently\n",
        "\t\t1.1-How does economic growth affect the overall supply of the cinema entertainment?\n",
        "\t\t\t-Plot GDP per capita, Consumer Sentiment, unemployment rate, tickets sold per year quarter\n",
        "\t\t2-How does it shift the respective market shares of different genres? Doe\n",
        "\t\t3-Do other externa factors besides the state of the economy have more explanatory power concerning supply and demand?--> here we could look at netflix.\n",
        "\t\t4-Consumer confidence increased. *Key indicator to evaluate*\n",
        "'''"
      ]
    },
    {
      "cell_type": "code",
      "execution_count": null,
      "metadata": {
        "colab": {
          "base_uri": "https://localhost:8080/",
          "height": 285
        },
        "id": "f2dzlHtIvkxl",
        "outputId": "f57a3602-123a-4bd2-b895-19c6ca437cd2"
      },
      "outputs": [
        {
          "data": {
            "text/plain": [
              "[<matplotlib.lines.Line2D at 0x7fd4a7071610>]"
            ]
          },
          "execution_count": 225,
          "metadata": {},
          "output_type": "execute_result"
        },
        {
          "data": {
            "image/png": "[encoded data removed]",
            "text/plain": [
              "<Figure size 432x288 with 1 Axes>"
            ]
          },
          "metadata": {
            "needs_background": "light"
          },
          "output_type": "display_data"
        }
      ],
      "source": [
        "plt.plot(box_office_qrt.Releases)"
      ]
    },
    {
      "cell_type": "code",
      "execution_count": null,
      "metadata": {
        "colab": {
          "base_uri": "https://localhost:8080/",
          "height": 282
        },
        "id": "ATIlXO46vAa6",
        "outputId": "940f31bf-49de-4238-a7fb-7aab89f3fdfa"
      },
      "outputs": [
        {
          "data": {
            "text/plain": [
              "[<matplotlib.lines.Line2D at 0x7fd4a7032f10>]"
            ]
          },
          "execution_count": 226,
          "metadata": {},
          "output_type": "execute_result"
        },
        {
          "data": {
            "image/png": "[encoded data removed]",
            "text/plain": [
              "<Figure size 432x288 with 1 Axes>"
            ]
          },
          "metadata": {
            "needs_background": "light"
          },
          "output_type": "display_data"
        }
      ],
      "source": [
        "plt.plot(gdp_capita.Date, gdp_capita.gdp_per_capita)"
      ]
    },
    {
      "cell_type": "code",
      "execution_count": null,
      "metadata": {
        "colab": {
          "base_uri": "https://localhost:8080/",
          "height": 282
        },
        "id": "X66E1LkJvBIu",
        "outputId": "f8681bab-cd17-47c2-b5e2-a745246fb912"
      },
      "outputs": [
        {
          "data": {
            "text/plain": [
              "[<matplotlib.lines.Line2D at 0x7fd4a6f923d0>]"
            ]
          },
          "execution_count": 227,
          "metadata": {},
          "output_type": "execute_result"
        },
        {
          "data": {
            "image/png": "[encoded data removed]",
            "text/plain": [
              "<Figure size 432x288 with 1 Axes>"
            ]
          },
          "metadata": {
            "needs_background": "light"
          },
          "output_type": "display_data"
        }
      ],
      "source": [
        "plt.plot(consumer_sent.Date, consumer_sent.consum_sent)"
      ]
    },
    {
      "cell_type": "code",
      "execution_count": null,
      "metadata": {
        "colab": {
          "base_uri": "https://localhost:8080/",
          "height": 359
        },
        "id": "oAJidDajByt2",
        "outputId": "aea9696d-1d82-48d4-f13b-faccc056d8ee"
      },
      "outputs": [
        {
          "data": {
            "text/html": [
              "<div>\n",
              "<style scoped>\n",
              "    .dataframe tbody tr th:only-of-type {\n",
              "        vertical-align: middle;\n",
              "    }\n",
              "\n",
              "    .dataframe tbody tr th {\n",
              "        vertical-align: top;\n",
              "    }\n",
              "\n",
              "    .dataframe thead th {\n",
              "        text-align: right;\n",
              "    }\n",
              "</style>\n",
              "<table border=\"1\" class=\"dataframe\">\n",
              "  <thead>\n",
              "    <tr style=\"text-align: right;\">\n",
              "      <th></th>\n",
              "      <th>Date</th>\n",
              "      <th>gas_price</th>\n",
              "      <th>UNRATE</th>\n",
              "      <th>consum_sent</th>\n",
              "      <th>GDP</th>\n",
              "      <th>gdp_per_capita</th>\n",
              "      <th>PCE</th>\n",
              "      <th>debt_pct_income</th>\n",
              "      <th>Releases</th>\n",
              "      <th>gross</th>\n",
              "    </tr>\n",
              "  </thead>\n",
              "  <tbody>\n",
              "    <tr>\n",
              "      <th>0</th>\n",
              "      <td>1990-01-01</td>\n",
              "      <td>NaN</td>\n",
              "      <td>5.300000</td>\n",
              "      <td>91.266667</td>\n",
              "      <td>9364.259</td>\n",
              "      <td>37617.0</td>\n",
              "      <td>0.62198</td>\n",
              "      <td>11.649150</td>\n",
              "      <td>110</td>\n",
              "      <td>1.479302e+09</td>\n",
              "    </tr>\n",
              "    <tr>\n",
              "      <th>1</th>\n",
              "      <td>1990-04-01</td>\n",
              "      <td>NaN</td>\n",
              "      <td>5.333333</td>\n",
              "      <td>90.933333</td>\n",
              "      <td>9398.243</td>\n",
              "      <td>37636.0</td>\n",
              "      <td>0.62764</td>\n",
              "      <td>11.600660</td>\n",
              "      <td>103</td>\n",
              "      <td>1.709974e+09</td>\n",
              "    </tr>\n",
              "    <tr>\n",
              "      <th>2</th>\n",
              "      <td>1990-07-01</td>\n",
              "      <td>1.947705</td>\n",
              "      <td>5.700000</td>\n",
              "      <td>79.133333</td>\n",
              "      <td>9404.494</td>\n",
              "      <td>37529.0</td>\n",
              "      <td>0.63562</td>\n",
              "      <td>11.583131</td>\n",
              "      <td>102</td>\n",
              "      <td>2.047944e+09</td>\n",
              "    </tr>\n",
              "    <tr>\n",
              "      <th>3</th>\n",
              "      <td>1990-10-01</td>\n",
              "      <td>2.070536</td>\n",
              "      <td>6.133333</td>\n",
              "      <td>65.133333</td>\n",
              "      <td>9318.876</td>\n",
              "      <td>37056.0</td>\n",
              "      <td>0.64402</td>\n",
              "      <td>11.604449</td>\n",
              "      <td>116</td>\n",
              "      <td>1.602071e+09</td>\n",
              "    </tr>\n",
              "    <tr>\n",
              "      <th>4</th>\n",
              "      <td>1991-01-01</td>\n",
              "      <td>1.706441</td>\n",
              "      <td>6.600000</td>\n",
              "      <td>74.966667</td>\n",
              "      <td>9275.276</td>\n",
              "      <td>36769.0</td>\n",
              "      <td>0.64740</td>\n",
              "      <td>11.578032</td>\n",
              "      <td>118</td>\n",
              "      <td>1.806037e+09</td>\n",
              "    </tr>\n",
              "    <tr>\n",
              "      <th>5</th>\n",
              "      <td>1991-04-01</td>\n",
              "      <td>1.705381</td>\n",
              "      <td>6.833333</td>\n",
              "      <td>80.733333</td>\n",
              "      <td>9347.597</td>\n",
              "      <td>36938.0</td>\n",
              "      <td>0.65092</td>\n",
              "      <td>11.434237</td>\n",
              "      <td>114</td>\n",
              "      <td>1.443730e+09</td>\n",
              "    </tr>\n",
              "    <tr>\n",
              "      <th>6</th>\n",
              "      <td>1991-07-01</td>\n",
              "      <td>1.688488</td>\n",
              "      <td>6.866667</td>\n",
              "      <td>82.633333</td>\n",
              "      <td>9394.834</td>\n",
              "      <td>36993.0</td>\n",
              "      <td>0.65533</td>\n",
              "      <td>11.318681</td>\n",
              "      <td>121</td>\n",
              "      <td>1.870961e+09</td>\n",
              "    </tr>\n",
              "    <tr>\n",
              "      <th>7</th>\n",
              "      <td>1991-10-01</td>\n",
              "      <td>1.647881</td>\n",
              "      <td>7.100000</td>\n",
              "      <td>71.866667</td>\n",
              "      <td>9427.581</td>\n",
              "      <td>36995.0</td>\n",
              "      <td>0.66008</td>\n",
              "      <td>11.117333</td>\n",
              "      <td>129</td>\n",
              "      <td>1.516476e+09</td>\n",
              "    </tr>\n",
              "    <tr>\n",
              "      <th>8</th>\n",
              "      <td>1992-01-01</td>\n",
              "      <td>1.525923</td>\n",
              "      <td>7.366667</td>\n",
              "      <td>70.766667</td>\n",
              "      <td>9540.444</td>\n",
              "      <td>37328.0</td>\n",
              "      <td>0.66421</td>\n",
              "      <td>10.855581</td>\n",
              "      <td>122</td>\n",
              "      <td>1.629860e+09</td>\n",
              "    </tr>\n",
              "    <tr>\n",
              "      <th>9</th>\n",
              "      <td>1992-04-01</td>\n",
              "      <td>1.647074</td>\n",
              "      <td>7.600000</td>\n",
              "      <td>78.933333</td>\n",
              "      <td>9643.893</td>\n",
              "      <td>37607.0</td>\n",
              "      <td>0.66862</td>\n",
              "      <td>10.680886</td>\n",
              "      <td>117</td>\n",
              "      <td>1.683190e+09</td>\n",
              "    </tr>\n",
              "  </tbody>\n",
              "</table>\n",
              "</div>"
            ],
            "text/plain": [
              "        Date  gas_price    UNRATE  ...  debt_pct_income  Releases         gross\n",
              "0 1990-01-01        NaN  5.300000  ...        11.649150       110  1.479302e+09\n",
              "1 1990-04-01        NaN  5.333333  ...        11.600660       103  1.709974e+09\n",
              "2 1990-07-01   1.947705  5.700000  ...        11.583131       102  2.047944e+09\n",
              "3 1990-10-01   2.070536  6.133333  ...        11.604449       116  1.602071e+09\n",
              "4 1991-01-01   1.706441  6.600000  ...        11.578032       118  1.806037e+09\n",
              "5 1991-04-01   1.705381  6.833333  ...        11.434237       114  1.443730e+09\n",
              "6 1991-07-01   1.688488  6.866667  ...        11.318681       121  1.870961e+09\n",
              "7 1991-10-01   1.647881  7.100000  ...        11.117333       129  1.516476e+09\n",
              "8 1992-01-01   1.525923  7.366667  ...        10.855581       122  1.629860e+09\n",
              "9 1992-04-01   1.647074  7.600000  ...        10.680886       117  1.683190e+09\n",
              "\n",
              "[10 rows x 10 columns]"
            ]
          },
          "execution_count": 228,
          "metadata": {},
          "output_type": "execute_result"
        }
      ],
      "source": [
        "data_qrt.head(10)"
      ]
    },
    {
      "cell_type": "code",
      "execution_count": null,
      "metadata": {
        "id": "wFXdqDJFDQeo"
      },
      "outputs": [],
      "source": [
        "# plt.plot(data_qrt.Date, data_qrt.UNRATE, data_qrt.Date)"
      ]
    },
    {
      "cell_type": "code",
      "execution_count": null,
      "metadata": {
        "colab": {
          "base_uri": "https://localhost:8080/",
          "height": 235
        },
        "id": "BD8B2TTnIRze",
        "outputId": "8d885951-e4df-4473-c594-c86ed5d5668c"
      },
      "outputs": [
        {
          "data": {
            "text/html": [
              "<div>\n",
              "<style scoped>\n",
              "    .dataframe tbody tr th:only-of-type {\n",
              "        vertical-align: middle;\n",
              "    }\n",
              "\n",
              "    .dataframe tbody tr th {\n",
              "        vertical-align: top;\n",
              "    }\n",
              "\n",
              "    .dataframe thead th {\n",
              "        text-align: right;\n",
              "    }\n",
              "</style>\n",
              "<table border=\"1\" class=\"dataframe\">\n",
              "  <thead>\n",
              "    <tr style=\"text-align: right;\">\n",
              "      <th></th>\n",
              "      <th>Releases</th>\n",
              "      <th>gross</th>\n",
              "    </tr>\n",
              "    <tr>\n",
              "      <th>Date</th>\n",
              "      <th></th>\n",
              "      <th></th>\n",
              "    </tr>\n",
              "  </thead>\n",
              "  <tbody>\n",
              "    <tr>\n",
              "      <th>1972-01-01</th>\n",
              "      <td>1</td>\n",
              "      <td>133698921</td>\n",
              "    </tr>\n",
              "    <tr>\n",
              "      <th>1972-04-01</th>\n",
              "      <td>0</td>\n",
              "      <td>0</td>\n",
              "    </tr>\n",
              "    <tr>\n",
              "      <th>1972-07-01</th>\n",
              "      <td>0</td>\n",
              "      <td>0</td>\n",
              "    </tr>\n",
              "    <tr>\n",
              "      <th>1972-10-01</th>\n",
              "      <td>1</td>\n",
              "      <td>84563118</td>\n",
              "    </tr>\n",
              "    <tr>\n",
              "      <th>1973-01-01</th>\n",
              "      <td>0</td>\n",
              "      <td>0</td>\n",
              "    </tr>\n",
              "  </tbody>\n",
              "</table>\n",
              "</div>"
            ],
            "text/plain": [
              "            Releases      gross\n",
              "Date                           \n",
              "1972-01-01         1  133698921\n",
              "1972-04-01         0          0\n",
              "1972-07-01         0          0\n",
              "1972-10-01         1   84563118\n",
              "1973-01-01         0          0"
            ]
          },
          "execution_count": 256,
          "metadata": {},
          "output_type": "execute_result"
        }
      ],
      "source": [
        "box_office_qrt_Datex = box_office_qrt.set_index('Date')\n",
        "box_office_qrt_Datex.head()"
      ]
    },
    {
      "cell_type": "code",
      "execution_count": null,
      "metadata": {
        "colab": {
          "base_uri": "https://localhost:8080/",
          "height": 235
        },
        "id": "ZcY5NLrHvzHV",
        "outputId": "722d22e9-153b-41ca-b244-b31cd8919453"
      },
      "outputs": [
        {
          "data": {
            "text/html": [
              "<div>\n",
              "<style scoped>\n",
              "    .dataframe tbody tr th:only-of-type {\n",
              "        vertical-align: middle;\n",
              "    }\n",
              "\n",
              "    .dataframe tbody tr th {\n",
              "        vertical-align: top;\n",
              "    }\n",
              "\n",
              "    .dataframe thead th {\n",
              "        text-align: right;\n",
              "    }\n",
              "</style>\n",
              "<table border=\"1\" class=\"dataframe\">\n",
              "  <thead>\n",
              "    <tr style=\"text-align: right;\">\n",
              "      <th></th>\n",
              "      <th>Releases</th>\n",
              "      <th>gross</th>\n",
              "    </tr>\n",
              "    <tr>\n",
              "      <th>Date</th>\n",
              "      <th></th>\n",
              "      <th></th>\n",
              "    </tr>\n",
              "  </thead>\n",
              "  <tbody>\n",
              "    <tr>\n",
              "      <th>1972-01-01</th>\n",
              "      <td>NaN</td>\n",
              "      <td>NaN</td>\n",
              "    </tr>\n",
              "    <tr>\n",
              "      <th>1972-04-01</th>\n",
              "      <td>-1.0</td>\n",
              "      <td>-1.0</td>\n",
              "    </tr>\n",
              "    <tr>\n",
              "      <th>1972-07-01</th>\n",
              "      <td>NaN</td>\n",
              "      <td>NaN</td>\n",
              "    </tr>\n",
              "    <tr>\n",
              "      <th>1972-10-01</th>\n",
              "      <td>inf</td>\n",
              "      <td>inf</td>\n",
              "    </tr>\n",
              "    <tr>\n",
              "      <th>1973-01-01</th>\n",
              "      <td>-1.0</td>\n",
              "      <td>-1.0</td>\n",
              "    </tr>\n",
              "  </tbody>\n",
              "</table>\n",
              "</div>"
            ],
            "text/plain": [
              "            Releases  gross\n",
              "Date                       \n",
              "1972-01-01       NaN    NaN\n",
              "1972-04-01      -1.0   -1.0\n",
              "1972-07-01       NaN    NaN\n",
              "1972-10-01       inf    inf\n",
              "1973-01-01      -1.0   -1.0"
            ]
          },
          "execution_count": 258,
          "metadata": {},
          "output_type": "execute_result"
        }
      ],
      "source": [
        "box_office_qrt_Datex_pct = box_office_qrt_Datex.pct_change()\n",
        "box_office_qrt_Datex_pct.head()"
      ]
    },
    {
      "cell_type": "code",
      "execution_count": null,
      "metadata": {
        "colab": {
          "base_uri": "https://localhost:8080/",
          "height": 37
        },
        "id": "uQSkZRiMDlWO",
        "outputId": "e2989435-a9c0-49f6-f21b-3702a7908617"
      },
      "outputs": [
        {
          "data": {
            "application/vnd.google.colaboratory.intrinsic+json": {
              "type": "string"
            },
            "text/plain": [
              "'\\nIt returns an error because thee quarter dates are different\\n'"
            ]
          },
          "execution_count": 231,
          "metadata": {},
          "output_type": "execute_result"
        }
      ],
      "source": [
        "# supply = data_qrt.merge(box_office_qrt_reset, on=\"Date\", how=\"outer\")\n",
        "'''\n",
        "It returns an error because thee quarter dates are different\n",
        "''' "
      ]
    },
    {
      "cell_type": "code",
      "execution_count": null,
      "metadata": {
        "colab": {
          "base_uri": "https://localhost:8080/",
          "height": 235
        },
        "id": "KjTB3XjqO9FQ",
        "outputId": "5bd67f23-045f-474b-9dac-681572fdad72"
      },
      "outputs": [
        {
          "data": {
            "text/html": [
              "<div>\n",
              "<style scoped>\n",
              "    .dataframe tbody tr th:only-of-type {\n",
              "        vertical-align: middle;\n",
              "    }\n",
              "\n",
              "    .dataframe tbody tr th {\n",
              "        vertical-align: top;\n",
              "    }\n",
              "\n",
              "    .dataframe thead th {\n",
              "        text-align: right;\n",
              "    }\n",
              "</style>\n",
              "<table border=\"1\" class=\"dataframe\">\n",
              "  <thead>\n",
              "    <tr style=\"text-align: right;\">\n",
              "      <th></th>\n",
              "      <th>gas_price</th>\n",
              "      <th>UNRATE</th>\n",
              "      <th>consum_sent</th>\n",
              "      <th>GDP</th>\n",
              "      <th>gdp_per_capita</th>\n",
              "      <th>PCE</th>\n",
              "      <th>debt_pct_income</th>\n",
              "      <th>Releases</th>\n",
              "      <th>gross</th>\n",
              "    </tr>\n",
              "    <tr>\n",
              "      <th>Date</th>\n",
              "      <th></th>\n",
              "      <th></th>\n",
              "      <th></th>\n",
              "      <th></th>\n",
              "      <th></th>\n",
              "      <th></th>\n",
              "      <th></th>\n",
              "      <th></th>\n",
              "      <th></th>\n",
              "    </tr>\n",
              "  </thead>\n",
              "  <tbody>\n",
              "    <tr>\n",
              "      <th>1990-01-01</th>\n",
              "      <td>NaN</td>\n",
              "      <td>NaN</td>\n",
              "      <td>NaN</td>\n",
              "      <td>NaN</td>\n",
              "      <td>NaN</td>\n",
              "      <td>NaN</td>\n",
              "      <td>NaN</td>\n",
              "      <td>NaN</td>\n",
              "      <td>NaN</td>\n",
              "    </tr>\n",
              "    <tr>\n",
              "      <th>1990-04-01</th>\n",
              "      <td>NaN</td>\n",
              "      <td>0.006289</td>\n",
              "      <td>-0.003652</td>\n",
              "      <td>0.003629</td>\n",
              "      <td>0.000505</td>\n",
              "      <td>0.009100</td>\n",
              "      <td>-0.004163</td>\n",
              "      <td>-0.063636</td>\n",
              "      <td>0.155933</td>\n",
              "    </tr>\n",
              "    <tr>\n",
              "      <th>1990-07-01</th>\n",
              "      <td>NaN</td>\n",
              "      <td>0.068750</td>\n",
              "      <td>-0.129765</td>\n",
              "      <td>0.000665</td>\n",
              "      <td>-0.002843</td>\n",
              "      <td>0.012714</td>\n",
              "      <td>-0.001511</td>\n",
              "      <td>-0.009709</td>\n",
              "      <td>0.197647</td>\n",
              "    </tr>\n",
              "    <tr>\n",
              "      <th>1990-10-01</th>\n",
              "      <td>0.063065</td>\n",
              "      <td>0.076023</td>\n",
              "      <td>-0.176917</td>\n",
              "      <td>-0.009104</td>\n",
              "      <td>-0.012604</td>\n",
              "      <td>0.013215</td>\n",
              "      <td>0.001840</td>\n",
              "      <td>0.137255</td>\n",
              "      <td>-0.217717</td>\n",
              "    </tr>\n",
              "    <tr>\n",
              "      <th>1991-01-01</th>\n",
              "      <td>-0.175846</td>\n",
              "      <td>0.076087</td>\n",
              "      <td>0.150972</td>\n",
              "      <td>-0.004679</td>\n",
              "      <td>-0.007745</td>\n",
              "      <td>0.005248</td>\n",
              "      <td>-0.002276</td>\n",
              "      <td>0.017241</td>\n",
              "      <td>0.127314</td>\n",
              "    </tr>\n",
              "  </tbody>\n",
              "</table>\n",
              "</div>"
            ],
            "text/plain": [
              "            gas_price    UNRATE  ...  Releases     gross\n",
              "Date                             ...                    \n",
              "1990-01-01        NaN       NaN  ...       NaN       NaN\n",
              "1990-04-01        NaN  0.006289  ... -0.063636  0.155933\n",
              "1990-07-01        NaN  0.068750  ... -0.009709  0.197647\n",
              "1990-10-01   0.063065  0.076023  ...  0.137255 -0.217717\n",
              "1991-01-01  -0.175846  0.076087  ...  0.017241  0.127314\n",
              "\n",
              "[5 rows x 9 columns]"
            ]
          },
          "execution_count": 232,
          "metadata": {},
          "output_type": "execute_result"
        }
      ],
      "source": [
        "data_qrt_Datex = data_qrt.set_index('Date')\n",
        "data_qrt_Datex_pct = data_qrt_Datex.pct_change()\n",
        "data_qrt_Datex_pct.head()"
      ]
    },
    {
      "cell_type": "code",
      "execution_count": null,
      "metadata": {
        "id": "8v_LYXgzQtEi"
      },
      "outputs": [],
      "source": [
        "%matplotlib inline"
      ]
    },
    {
      "cell_type": "code",
      "execution_count": null,
      "metadata": {
        "id": "dDZkZa0oQfO6"
      },
      "outputs": [],
      "source": [
        "import matplotlib.pylab as plt"
      ]
    },
    {
      "cell_type": "code",
      "execution_count": null,
      "metadata": {
        "colab": {
          "base_uri": "https://localhost:8080/",
          "height": 54
        },
        "id": "Rs1Kgu3sNYKE",
        "outputId": "f796bb89-4d58-4a4e-d09d-4705f8e9db20"
      },
      "outputs": [
        {
          "data": {
            "application/vnd.google.colaboratory.intrinsic+json": {
              "type": "string"
            },
            "text/plain": [
              "\"\\nfig, axes = plt.subplot(nrows=1, ncols=3, figsize=(15,5))\\n\\ndata_qrt_Datex['gdp_per_capita'].plot(ax = axes[0])\\ndata_qrt_Datex['UNRATE'].plot(ax = axes[1])\\ndata_qrt_Datex['consum_sent'].plot(ax = axes[2])\\n\""
            ]
          },
          "execution_count": 235,
          "metadata": {},
          "output_type": "execute_result"
        }
      ],
      "source": [
        "'''\n",
        "fig, axes = plt.subplot(nrows=1, ncols=3, figsize=(15,5))\n",
        "\n",
        "data_qrt_Datex['gdp_per_capita'].plot(ax = axes[0])\n",
        "data_qrt_Datex['UNRATE'].plot(ax = axes[1])\n",
        "data_qrt_Datex['consum_sent'].plot(ax = axes[2])\n",
        "'''"
      ]
    },
    {
      "cell_type": "code",
      "execution_count": null,
      "metadata": {
        "colab": {
          "base_uri": "https://localhost:8080/",
          "height": 783
        },
        "id": "FhWF0gaoazzc",
        "outputId": "18f4e5e6-b86b-40f7-a764-8c3684339eb5"
      },
      "outputs": [
        {
          "ename": "NameError",
          "evalue": "name 'data_qrt_Datex_pct' is not defined",
          "output_type": "error",
          "traceback": [
            "\u001b[0;31m---------------------------------------------------------------------------\u001b[0m",
            "\u001b[0;31mNameError\u001b[0m                                 Traceback (most recent call last)",
            "\u001b[0;32m/var/folders/dd/6bc_8ck52pqb88t255094g6m0000gn/T/ipykernel_58757/1035157150.py\u001b[0m in \u001b[0;36m<module>\u001b[0;34m\u001b[0m\n\u001b[1;32m      1\u001b[0m \u001b[0;31m# Plot for the econoomic conditions with percentage change on the y-axis\u001b[0m\u001b[0;34m\u001b[0m\u001b[0;34m\u001b[0m\u001b[0;34m\u001b[0m\u001b[0m\n\u001b[0;32m----> 2\u001b[0;31m \u001b[0mdata_qrt_Datex_pct\u001b[0m\u001b[0;34m[\u001b[0m\u001b[0;34m[\u001b[0m\u001b[0;34m'UNRATE'\u001b[0m\u001b[0;34m,\u001b[0m \u001b[0;34m'consum_sent'\u001b[0m\u001b[0;34m]\u001b[0m\u001b[0;34m]\u001b[0m\u001b[0;34m.\u001b[0m\u001b[0mplot\u001b[0m\u001b[0;34m(\u001b[0m\u001b[0mcolor\u001b[0m \u001b[0;34m=\u001b[0m \u001b[0;34m(\u001b[0m\u001b[0;34m'r'\u001b[0m\u001b[0;34m,\u001b[0m\u001b[0;34m'y'\u001b[0m\u001b[0;34m)\u001b[0m\u001b[0;34m,\u001b[0m \u001b[0mfigsize\u001b[0m \u001b[0;34m=\u001b[0m \u001b[0;34m(\u001b[0m\u001b[0;36m8\u001b[0m\u001b[0;34m,\u001b[0m \u001b[0;36m4\u001b[0m\u001b[0;34m)\u001b[0m\u001b[0;34m)\u001b[0m\u001b[0;34m\u001b[0m\u001b[0;34m\u001b[0m\u001b[0m\n\u001b[0m\u001b[1;32m      3\u001b[0m \u001b[0mplt\u001b[0m\u001b[0;34m.\u001b[0m\u001b[0maxvline\u001b[0m\u001b[0;34m(\u001b[0m\u001b[0mx\u001b[0m \u001b[0;34m=\u001b[0m \u001b[0;34m'1992-01-01'\u001b[0m\u001b[0;34m,\u001b[0m \u001b[0mcolor\u001b[0m \u001b[0;34m=\u001b[0m \u001b[0;34m'c'\u001b[0m\u001b[0;34m,\u001b[0m \u001b[0mlabel\u001b[0m \u001b[0;34m=\u001b[0m \u001b[0;34m'Recession 1'\u001b[0m\u001b[0;34m,\u001b[0m \u001b[0mlinestyle\u001b[0m \u001b[0;34m=\u001b[0m \u001b[0;34m'dotted'\u001b[0m\u001b[0;34m)\u001b[0m\u001b[0;34m\u001b[0m\u001b[0;34m\u001b[0m\u001b[0m\n\u001b[1;32m      4\u001b[0m \u001b[0mplt\u001b[0m\u001b[0;34m.\u001b[0m\u001b[0maxvline\u001b[0m\u001b[0;34m(\u001b[0m\u001b[0mx\u001b[0m \u001b[0;34m=\u001b[0m \u001b[0;34m'1992-04-01'\u001b[0m\u001b[0;34m,\u001b[0m \u001b[0mcolor\u001b[0m \u001b[0;34m=\u001b[0m \u001b[0;34m'y'\u001b[0m\u001b[0;34m,\u001b[0m \u001b[0mlabel\u001b[0m \u001b[0;34m=\u001b[0m \u001b[0;34m'Recession 2'\u001b[0m\u001b[0;34m,\u001b[0m \u001b[0mlinestyle\u001b[0m \u001b[0;34m=\u001b[0m \u001b[0;34m'dotted'\u001b[0m\u001b[0;34m)\u001b[0m\u001b[0;34m\u001b[0m\u001b[0;34m\u001b[0m\u001b[0m\n\u001b[1;32m      5\u001b[0m \u001b[0mplt\u001b[0m\u001b[0;34m.\u001b[0m\u001b[0mlegend\u001b[0m\u001b[0;34m(\u001b[0m\u001b[0mloc\u001b[0m \u001b[0;34m=\u001b[0m \u001b[0;36m5\u001b[0m\u001b[0;34m,\u001b[0m \u001b[0mprop\u001b[0m \u001b[0;34m=\u001b[0m \u001b[0;34m{\u001b[0m\u001b[0;34m'size'\u001b[0m\u001b[0;34m:\u001b[0m \u001b[0;36m10\u001b[0m\u001b[0;34m}\u001b[0m\u001b[0;34m)\u001b[0m\u001b[0;34m\u001b[0m\u001b[0;34m\u001b[0m\u001b[0m\n",
            "\u001b[0;31mNameError\u001b[0m: name 'data_qrt_Datex_pct' is not defined"
          ]
        }
      ],
      "source": [
        "# Plot for the econoomic conditions with percentage change on the y-axis\n",
        "data_qrt_Datex_pct[['UNRATE', 'consum_sent']].plot(color = ('r','y'), figsize = (8, 4))\n",
        "plt.axvline(x = '1992-01-01', color = 'c', label = 'Recession 1', linestyle = 'dotted')\n",
        "plt.axvline(x = '1992-04-01', color = 'y', label = 'Recession 2', linestyle = 'dotted')\n",
        "plt.legend(loc = 5, prop = {'size': 10})\n",
        "\n",
        "data_qrt_Datex_pct[['gdp_per_capita']].plot(figsize = (8, 4))\n",
        "plt.axvline(x = '1992-01-01', color = 'c', label = 'Recession 1', linestyle = 'dotted')\n",
        "plt.axvline(x = '1992-04-01', color = 'y', label = 'Recession 2', linestyle = 'dotted')\n",
        "plt.legend(loc = 5, prop = {'size': 10})\n",
        "\n",
        "box_office_qrt_Datex_pct[['Releases']].plot(color = ('c'), figsize = (8, 4))\n",
        "plt.axvline(x = ('1992-01-01'), color = 'c', label = 'Recession 1', linestyle = 'dotted')\n",
        "plt.axvline(x = '1992-04-01', color = 'y', label = 'Recession 2', linestyle = 'dotted')\n",
        "plt.legend(loc = 5, prop = {'size': 10})\n",
        "\n",
        "plt.show()"
      ]
    },
    {
      "cell_type": "code",
      "execution_count": null,
      "metadata": {
        "colab": {
          "base_uri": "https://localhost:8080/",
          "height": 786
        },
        "id": "pSun18e3f6ze",
        "outputId": "93090cef-7451-4b0e-86fa-2b48995c1f9c"
      },
      "outputs": [
        {
          "data": {
            "image/png": "[encoded data removed]",
            "text/plain": [
              "<Figure size 576x288 with 1 Axes>"
            ]
          },
          "metadata": {
            "needs_background": "light"
          },
          "output_type": "display_data"
        },
        {
          "data": {
            "image/png": "[encoded data removed]",
            "text/plain": [
              "<Figure size 576x288 with 1 Axes>"
            ]
          },
          "metadata": {
            "needs_background": "light"
          },
          "output_type": "display_data"
        },
        {
          "data": {
            "image/png": "[encoded data removed]",
            "text/plain": [
              "<Figure size 576x288 with 1 Axes>"
            ]
          },
          "metadata": {
            "needs_background": "light"
          },
          "output_type": "display_data"
        }
      ],
      "source": [
        "# Plot for the econoomic conditions with percentage change on the y-axis\n",
        "data_qrt_Datex[['UNRATE', 'consum_sent']].plot(color = ('r','y'), figsize = (8, 4))\n",
        "plt.axvline(x = '1992-01-01', color = 'c', label = 'Recession 1', linestyle = 'dotted')\n",
        "plt.axvline(x = '1992-04-01', color = 'y', label = 'Recession 2', linestyle = 'dotted')\n",
        "plt.legend(loc = 5, prop = {'size': 10})\n",
        "\n",
        "data_qrt_Datex[['gdp_per_capita']].plot(figsize = (8, 4))\n",
        "plt.axvline(x = '1992-01-01', color = 'c', label = 'Recession 1', linestyle = 'dotted')\n",
        "plt.axvline(x = '1992-04-01', color = 'y', label = 'Recession 2', linestyle = 'dotted')\n",
        "plt.legend(loc = 5, prop = {'size': 10})\n",
        "\n",
        "box_office_qrt_Datex[['Releases']].plot(color = ('c'), figsize = (8, 4))\n",
        "plt.axvline(x = ('1992-01-01'), color = 'c', label = 'Recession 1', linestyle = 'dotted')\n",
        "plt.axvline(x = '1992-04-01', color = 'y', label = 'Recession 2', linestyle = 'dotted')\n",
        "plt.legend(loc = 5, prop = {'size': 10})\n",
        "plt.show()"
      ]
    },
    {
      "cell_type": "code",
      "execution_count": null,
      "metadata": {
        "id": "8XvMYiVsnoLa"
      },
      "outputs": [],
      "source": []
    }
  ],
  "metadata": {
    "colab": {
      "collapsed_sections": [],
      "name": "Hollywood Project.ipynb",
      "provenance": []
    },
    "kernelspec": {
      "display_name": "Python 3",
      "name": "python3"
    },
    "language_info": {
      "codemirror_mode": {
        "name": "ipython",
        "version": 3
      },
      "file_extension": ".py",
      "mimetype": "text/x-python",
      "name": "python",
      "nbconvert_exporter": "python",
      "pygments_lexer": "ipython3",
      "version": "3.8.2"
    }
  },
  "nbformat": 4,
  "nbformat_minor": 0
}
